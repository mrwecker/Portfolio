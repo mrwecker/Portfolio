{
 "cells": [
  {
   "cell_type": "code",
   "execution_count": 1,
   "id": "f1e1d664-f799-4cda-9d9d-e1df7032f76a",
   "metadata": {
    "tags": []
   },
   "outputs": [],
   "source": [
    "import pandas as pd\n",
    "import numpy as np\n",
    "import seaborn as sns # started with this, but it didn't suit my needs, but kept to practise \n",
    "import matplotlib.pyplot as plt\n",
    "from pprint import pprint\n",
    "import plotly.express as px"
   ]
  },
  {
   "cell_type": "code",
   "execution_count": 2,
   "id": "f5ade036-1297-42d6-963d-942a316d1d3a",
   "metadata": {
    "tags": []
   },
   "outputs": [],
   "source": [
    "\n",
    "# Load difficulty_df and players from CSV file\n",
    "difficulty_df = pd.read_csv('player_difficulty_data.csv')\n",
    "players_df = pd.read_csv('selected_player_teams_data.csv')\n",
    "\n",
    "# Replace missing values in 'EventName' with 'Gameweek 18'. It was loading weird and causing issues for calculations. \n",
    "#difficulty_df['EventName'].fillna('Gameweek 18', inplace=True)\n",
    "\n",
    "# Pivot the DataFrame to match players_df. Will join later\n",
    "pivot_df = difficulty_df.pivot_table(index='PlayerID', columns='EventName', values='Difficulty')\n",
    "\n",
    "# sort vals\n",
    "pivot_df_sorted = pivot_df.sort_values(by='PlayerID', ascending=True)\n",
    "\n",
    "# reset index to make PlayerID a regular column. had issues without doing this\n",
    "pivot_df.reset_index(inplace=True)\n",
    "\n",
    "#join these boys together. Now can start to predict future performance based on past performance\n",
    "full_df =  pd.merge(left=players_df, right=pivot_df, how='left', left_on='id_player', right_on='PlayerID')\n",
    "\n",
    "\n",
    "#print(full_df.head())\n",
    "#print(full_df.info())\n"
   ]
  },
  {
   "cell_type": "code",
   "execution_count": 3,
   "id": "0a2e1d67-de69-46e8-9532-490f8d057cc9",
   "metadata": {},
   "outputs": [
    {
     "name": "stdout",
     "output_type": "stream",
     "text": [
      "<class 'pandas.core.frame.DataFrame'>\n",
      "RangeIndex: 823 entries, 0 to 822\n",
      "Data columns (total 45 columns):\n",
      " #   Column                        Non-Null Count  Dtype  \n",
      "---  ------                        --------------  -----  \n",
      " 0   id_player                     823 non-null    int64  \n",
      " 1   first_name                    823 non-null    object \n",
      " 2   second_name                   823 non-null    object \n",
      " 3   position                      823 non-null    object \n",
      " 4   now_cost                      823 non-null    int64  \n",
      " 5   name                          823 non-null    object \n",
      " 6   influence_rank                823 non-null    int64  \n",
      " 7   form_rank                     823 non-null    int64  \n",
      " 8   form_player                   823 non-null    float64\n",
      " 9   in_dreamteam                  823 non-null    bool   \n",
      " 10  news                          322 non-null    object \n",
      " 11  chance_of_playing_next_round  627 non-null    float64\n",
      " 12  points_per_game               823 non-null    float64\n",
      " 13  points_per_game_rank          823 non-null    int64  \n",
      " 14  team                          823 non-null    int64  \n",
      " 15  team_code                     823 non-null    int64  \n",
      " 16  total_points                  823 non-null    int64  \n",
      " 17  value_form                    823 non-null    float64\n",
      " 18  value_season                  823 non-null    float64\n",
      " 19  goals_scored                  823 non-null    int64  \n",
      " 20  assists                       823 non-null    int64  \n",
      " 21  clean_sheets                  823 non-null    int64  \n",
      " 22  ict_index                     823 non-null    float64\n",
      " 23  expected_goals                823 non-null    float64\n",
      " 24  expected_assists              823 non-null    float64\n",
      " 25  expected_goal_involvements    823 non-null    float64\n",
      " 26  ict_index_rank                823 non-null    int64  \n",
      " 27  expected_goals_per_90         823 non-null    float64\n",
      " 28  expected_assists_per_90       823 non-null    float64\n",
      " 29  strength_overall_home         823 non-null    int64  \n",
      " 30  strength_overall_away         823 non-null    int64  \n",
      " 31  PlayerID                      823 non-null    int64  \n",
      " 32  Gameweek 26                   644 non-null    float64\n",
      " 33  Gameweek 27                   823 non-null    float64\n",
      " 34  Gameweek 28                   823 non-null    float64\n",
      " 35  Gameweek 29                   823 non-null    float64\n",
      " 36  Gameweek 30                   823 non-null    float64\n",
      " 37  Gameweek 31                   823 non-null    float64\n",
      " 38  Gameweek 32                   823 non-null    float64\n",
      " 39  Gameweek 33                   823 non-null    float64\n",
      " 40  Gameweek 34                   823 non-null    float64\n",
      " 41  Gameweek 35                   823 non-null    float64\n",
      " 42  Gameweek 36                   823 non-null    float64\n",
      " 43  Gameweek 37                   823 non-null    float64\n",
      " 44  Gameweek 38                   823 non-null    float64\n",
      "dtypes: bool(1), float64(24), int64(15), object(5)\n",
      "memory usage: 283.8+ KB\n",
      "None\n"
     ]
    }
   ],
   "source": [
    "# Changing the position code to shorthand for clear referencing\n",
    "element_mapping = {1: 'GK', 2: 'DEF', 3: 'MID', 4: 'FWD'}\n",
    "full_df[\"element_type\"] = full_df[\"element_type\"].replace(element_mapping)\n",
    "\n",
    "# Rename to as element_type wasn't clear\n",
    "full_df = full_df.rename(columns={'element_type': 'position'})\n",
    "\n",
    "print(full_df.info())"
   ]
  },
  {
   "cell_type": "code",
   "execution_count": 4,
   "id": "863d6fa4-d556-4551-8b3c-b2803d00956e",
   "metadata": {
    "tags": []
   },
   "outputs": [],
   "source": [
    "\"\"\" Now for some calculations. I was reading that form is a stat that FPL uses which is based on an aggregation of points from previous game weeks\n",
    "as well as taking in consideration for ICT or impact, contribution and threat scores. Basically if the player is in good form of recent. \n",
    "Secondly, I took the difficulty rating for the upcoming 5 matches to give a score. Then divided this by form to make a metric for 'fixure difficulty'.\n",
    "The higher the score, the more likely the player will perform and make points for the coming weeks. I tried with 3 games, but since only one sub is \n",
    "allowed per week, it was probably better to plan ahead for a while.\n",
    "\"\"\"\n",
    "\n",
    "# Had some negative values in form which was causing errors. Replace all neg vals with 0 instead\n",
    "full_df[\"form_player\"] = full_df[\"form_player\"].clip(lower=0)\n",
    "\n",
    "# Set the starting column index for Gameweek values(Check csv can change if needed. Find first game week)\n",
    "gameweek_start_column = 32\n",
    "\n",
    "# Sum the next 5 non-nan values for each row (if errors, reduce sum to remaining gameweeks left)\n",
    "def sum_next_5_non_nan(row):\n",
    "    non_nan_values = row.iloc[gameweek_start_column:].dropna().head(5)\n",
    "    return np.sum(non_nan_values)\n",
    "\n",
    "# Calculate 'Difficulty_score' for easy visualisation without concering players form\n",
    "full_df[\"Difficulty_score\"] = full_df.apply(sum_next_5_non_nan, axis=1).round(3)\n",
    "\n",
    "# Calculate 'FD_index' or fixture difficulty index, using form divided by difficulty score\n",
    "full_df[\"FD_index\"] = (full_df[\"form_player\"] / full_df[\"Difficulty_score\"]).round(3)\n",
    "\n",
    "# data gave weird names so was easier for me to recongnise some players this way\n",
    "full_df['full_name'] = full_df['first_name'] + ' ' + full_df['second_name']\n",
    "\n",
    "## Fallback code if want to check specific gameweeks \n",
    "\n",
    "# Calculate 'FD_index' using the selected Gameweek columns\n",
    "#full_df[\"FD_index\"] = (full_df[\"form_player\"] / gameweek_columns.sum(axis=1)).round(3)\n",
    "\n",
    "#full_df[\"FD_index\"] = (full_df[\"form_player\"] / full_df[[\"Gameweek 26\", \"Gameweek 27\", \"Gameweek 28\", \"Gameweek 29\", \"Gameweek 30\"]].sum(axis=1)).round(3)\n",
    "\n",
    "# for easy visualisation without concering players form\n",
    "#full_df[\"Difficulty_score\"] = full_df[[\"Gameweek 26\", \"Gameweek 27\", \"Gameweek 28\", \"Gameweek 29\", \"Gameweek 30\"]].sum(axis=1).round(3)\n",
    "\n",
    "\n",
    "\n",
    "#print(full_df.head())"
   ]
  },
  {
   "cell_type": "code",
   "execution_count": 5,
   "id": "3b2f9365",
   "metadata": {},
   "outputs": [],
   "source": [
    "full_df.to_csv('full_df.csv', index=False)"
   ]
  },
  {
   "cell_type": "code",
   "execution_count": 6,
   "id": "08850d37-9341-4195-a243-1023c24a370b",
   "metadata": {
    "tags": []
   },
   "outputs": [
    {
     "name": "stdout",
     "output_type": "stream",
     "text": [
      "     id_player   first_name  second_name position  now_cost           name  \\\n",
      "17          19       Bukayo         Saka      MID        91        Arsenal   \n",
      "421        303         Luis         Díaz      MID        75      Liverpool   \n",
      "611        205       Callum  Hudson-Odoi      MID        47  Nott'm Forest   \n",
      "725        509  Richarlison   de Andrade      MID        71          Spurs   \n",
      "171        134       Pascal         Groß      MID        65       Brighton   \n",
      "\n",
      "     influence_rank  form_rank  form_player  in_dreamteam  ... Gameweek 32  \\\n",
      "17                3          1         12.2          True  ...         3.0   \n",
      "421              96          6          7.6         False  ...         4.0   \n",
      "611             210          4          7.8         False  ...         3.0   \n",
      "725              47         13          6.5         False  ...         2.0   \n",
      "171               7          5          7.8         False  ...         4.0   \n",
      "\n",
      "     Gameweek 33  Gameweek 34  Gameweek 35  Gameweek 36  Gameweek 37  \\\n",
      "17           3.0          2.0          3.0          2.0          4.0   \n",
      "421          2.0          2.0          3.0          3.0          4.0   \n",
      "611          2.0          2.0          5.0          2.0          3.0   \n",
      "725          4.0          5.0          4.0          5.0          2.0   \n",
      "171          2.0          3.0          2.0          3.0          4.0   \n",
      "\n",
      "     Gameweek 38  Difficulty_score  FD_index               full_name  \n",
      "17           2.0              16.0     0.762             Bukayo Saka  \n",
      "421          2.0              14.0     0.543               Luis Díaz  \n",
      "611          2.0              15.0     0.520      Callum Hudson-Odoi  \n",
      "725          2.0              13.0     0.500  Richarlison de Andrade  \n",
      "171          3.0              16.0     0.488             Pascal Groß  \n",
      "\n",
      "[5 rows x 48 columns]\n"
     ]
    }
   ],
   "source": [
    "# Sorting and filtering by position: Forwards\n",
    "forwards_df = full_df[full_df['position'] == 'FWD']\n",
    "sorted_forwards_df = forwards_df.sort_values(by=['FD_index', 'expected_goals', 'expected_assists'], ascending=[False, False, False])\n",
    "\n",
    "# Sorting and filtering Midfielders\n",
    "midfielders_df = full_df[full_df['position'] == 'MID']\n",
    "sorted_midfielders_df = midfielders_df.sort_values(by=['FD_index', 'expected_goals', 'expected_assists'], ascending=[False, False, False])\n",
    "\n",
    "# Sorting and filtering Defenders\n",
    "defenders_df = full_df[full_df['position'] == 'DEF']\n",
    "sorted_defenders_df = defenders_df.sort_values(by=['FD_index', 'expected_goals', 'expected_assists'], ascending=[False, False, False])\n",
    "\n",
    "# Sorting and filtering Goalkeepers\n",
    "goalkeepers_df = full_df[full_df['position'] == 'GK']\n",
    "sorted_goalkeepers_df = goalkeepers_df.sort_values(by=['FD_index', 'expected_goals', 'expected_assists'], ascending=[False, False, False])\n",
    "\n",
    "\n",
    "# Display the resulting DataFrame\n",
    "#print(sorted_forwards_df.head(15))\n",
    "#print(sorted_midfielders_df.head(25))\n",
    "#print(sorted_defenders_df.head())\n",
    "#print(sorted_goalkeepers_df.head())\n",
    "\n",
    "\"\"\" while this is all well and good, it doesn't take in to consideration the different points system for players vs position.\n",
    "The main point here is to have a good understanding if a player is performing and will have the possiblity to get points in the next few matches.\n",
    "I would have to tak specific data points for different positions to be more accurate. eg:\n",
    "Goal keepers - saves, clean sheets, penalties saved, expected goals condeded, clean sheets per 90\n",
    "Defenders - clean sheets, goals condeded, contributions, assists, goals\n",
    "Midfielders - xG, xA, xGi, clean sheets, assists, goals, price\n",
    "Forwards - xG, xA, xGi, assists, goals, price\n",
    "for another time -_-\n",
    "\"\"\"\n",
    "print(sorted_midfielders_df.head())"
   ]
  },
  {
   "cell_type": "code",
   "execution_count": 7,
   "id": "67591900-2ba2-4fe2-bf3d-bc36523af2a9",
   "metadata": {
    "tags": []
   },
   "outputs": [
    {
     "data": {
      "application/vnd.plotly.v1+json": {
       "config": {
        "plotlyServerURL": "https://plot.ly"
       },
       "data": [
        {
         "customdata": [
          [
           "Bukayo Saka",
           0.762,
           "Arsenal",
           91
          ],
          [
           "Luis Díaz",
           0.543,
           "Liverpool",
           75
          ],
          [
           "Callum Hudson-Odoi",
           0.52,
           "Nott'm Forest",
           47
          ],
          [
           "Richarlison de Andrade",
           0.5,
           "Spurs",
           71
          ],
          [
           "Pascal Groß",
           0.488,
           "Brighton",
           65
          ],
          [
           "Bruno Guimarães Rodriguez Moura",
           0.462,
           "Newcastle",
           58
          ],
          [
           "Leandro Trossard",
           0.438,
           "Arsenal",
           65
          ],
          [
           "Martin Ødegaard",
           0.438,
           "Arsenal",
           84
          ],
          [
           "Alejandro Garnacho",
           0.429,
           "Man Utd",
           50
          ],
          [
           "Pedro Lomba Neto",
           0.429,
           "Wolves",
           57
          ],
          [
           "Phil Foden",
           0.4,
           "Man City",
           81
          ],
          [
           "João Victor Gomes da Silva",
           0.393,
           "Wolves",
           49
          ],
          [
           "Douglas Luiz Soares de Paulo",
           0.375,
           "Aston Villa",
           55
          ],
          [
           "Leon Bailey",
           0.375,
           "Aston Villa",
           56
          ],
          [
           "Sean Longstaff",
           0.369,
           "Newcastle",
           48
          ],
          [
           "Cole Palmer",
           0.367,
           "Chelsea",
           58
          ],
          [
           "Declan Rice",
           0.362,
           "Arsenal",
           54
          ],
          [
           "Michael Olise",
           0.35,
           "Crystal Palace",
           57
          ],
          [
           "Bobby De Cordova-Reid",
           0.343,
           "Fulham",
           53
          ],
          [
           "Ross Barkley",
           0.343,
           "Luton",
           50
          ],
          [
           "Vini de Souza Costa",
           0.343,
           "Sheffield Utd",
           50
          ],
          [
           "Conor Gallagher",
           0.333,
           "Chelsea",
           54
          ],
          [
           "Youri Tielemans",
           0.333,
           "Aston Villa",
           56
          ],
          [
           "Rodrigo Hernandez",
           0.329,
           "Man City",
           56
          ],
          [
           "Harvey Elliott",
           0.329,
           "Liverpool",
           48
          ],
          [
           "Alexis Mac Allister",
           0.329,
           "Liverpool",
           58
          ],
          [
           "Brennan Johnson",
           0.323,
           "Spurs",
           58
          ],
          [
           "James McAtee",
           0.321,
           "Sheffield Utd",
           44
          ],
          [
           "Kai Havertz",
           0.312,
           "Arsenal",
           71
          ],
          [
           "Scott McTominay",
           0.3,
           "Man Utd",
           46
          ],
          [
           "Diogo Teixeira da Silva",
           0.3,
           "Liverpool",
           83
          ],
          [
           "Gabriel Martinelli Silva",
           0.3,
           "Arsenal",
           77
          ],
          [
           "Anthony Gordon",
           0.292,
           "Newcastle",
           61
          ],
          [
           "Eberechi Eze",
           0.292,
           "Crystal Palace",
           60
          ],
          [
           "James Maddison",
           0.292,
           "Spurs",
           80
          ],
          [
           "James Ward-Prowse",
           0.286,
           "West Ham",
           60
          ],
          [
           "Bruno Borges Fernandes",
           0.271,
           "Man Utd",
           82
          ],
          [
           "Pablo Sarabia",
           0.271,
           "Wolves",
           47
          ],
          [
           "Kobbie Mainoo",
           0.271,
           "Man Utd",
           44
          ],
          [
           "Anthony Elanga",
           0.267,
           "Nott'm Forest",
           51
          ],
          [
           "Nicolás Domínguez",
           0.267,
           "Nott'm Forest",
           50
          ],
          [
           "Jack Harrison",
           0.253,
           "Everton",
           55
          ],
          [
           "Dwight McNeil",
           0.253,
           "Everton",
           54
          ],
          [
           "Marcus Rashford",
           0.25,
           "Man Utd",
           84
          ],
          [
           "John McGinn",
           0.25,
           "Aston Villa",
           55
          ],
          [
           "Jordan Ayew",
           0.25,
           "Crystal Palace",
           54
          ],
          [
           "Facundo Buonanotte",
           0.25,
           "Brighton",
           47
          ],
          [
           "Dejan Kulusevski",
           0.246,
           "Spurs",
           68
          ],
          [
           "Simon Adingra",
           0.238,
           "Brighton",
           50
          ],
          [
           "João Palhinha Gonçalves",
           0.229,
           "Fulham",
           50
          ],
          [
           "Pape Matar Sarr",
           0.215,
           "Spurs",
           44
          ],
          [
           "Lewis Miley",
           0.215,
           "Newcastle",
           45
          ],
          [
           "Wilson Odobert",
           0.215,
           "Burnley",
           50
          ],
          [
           "Raheem Sterling",
           0.213,
           "Chelsea",
           69
          ],
          [
           "Enzo Fernández",
           0.213,
           "Chelsea",
           48
          ],
          [
           "Christian Nørgaard",
           0.213,
           "Brentford",
           53
          ],
          [
           "Kevin De Bruyne",
           0.212,
           "Man City",
           108
          ],
          [
           "Jefferson Lerma Solís",
           0.208,
           "Crystal Palace",
           47
          ],
          [
           "Willian Borges da Silva",
           0.2,
           "Fulham",
           53
          ],
          [
           "Andreas Hoelgebaum Pereira",
           0.2,
           "Fulham",
           53
          ],
          [
           "Luis Sinisterra",
           0.192,
           "Bournemouth",
           55
          ],
          [
           "Josh Brownhill",
           0.192,
           "Burnley",
           47
          ],
          [
           "Adam Wharton",
           0.192,
           "Crystal Palace",
           50
          ],
          [
           "Kaoru Mitoma",
           0.175,
           "Brighton",
           64
          ],
          [
           "Vitaly Janelt",
           0.173,
           "Brentford",
           53
          ],
          [
           "Tahith Chong",
           0.171,
           "Luton",
           47
          ],
          [
           "Harvey Barnes",
           0.169,
           "Newcastle",
           62
          ],
          [
           "Morgan Gibbs-White",
           0.167,
           "Nott'm Forest",
           57
          ],
          [
           "Mohamed Salah",
           0.157,
           "Liverpool",
           130
          ],
          [
           "Mohammed Kudus",
           0.157,
           "West Ham",
           68
          ],
          [
           "Ben Brereton",
           0.157,
           "Sheffield Utd",
           50
          ],
          [
           "Albert Sambi Lokonga",
           0.157,
           "Luton",
           49
          ],
          [
           "Justin Kluivert",
           0.154,
           "Bournemouth",
           46
          ],
          [
           "Amadou Onana",
           0.147,
           "Everton",
           47
          ],
          [
           "Carlos Henrique Casimiro",
           0.143,
           "Man Utd",
           53
          ],
          [
           "Gustavo Hamer",
           0.143,
           "Sheffield Utd",
           49
          ],
          [
           "Tom Cairney",
           0.143,
           "Fulham",
           49
          ],
          [
           "Ben Osborn",
           0.143,
           "Sheffield Utd",
           48
          ],
          [
           "Marcus Tavernier",
           0.138,
           "Bournemouth",
           54
          ],
          [
           "Jack Hinshelwood",
           0.138,
           "Brighton",
           45
          ],
          [
           "Sander Berge",
           0.138,
           "Burnley",
           47
          ],
          [
           "Jacob Murphy",
           0.138,
           "Newcastle",
           48
          ],
          [
           "Lewis Cook",
           0.138,
           "Bournemouth",
           50
          ],
          [
           "James Garner",
           0.133,
           "Everton",
           49
          ],
          [
           "Moisés Caicedo Corozo",
           0.133,
           "Chelsea",
           45
          ],
          [
           "Jarrod Bowen",
           0.129,
           "West Ham",
           77
          ],
          [
           "Mario Lemina",
           0.129,
           "Wolves",
           49
          ],
          [
           "Dominik Szoboszlai",
           0.129,
           "Liverpool",
           71
          ],
          [
           "Edson Álvarez Velázquez",
           0.129,
           "West Ham",
           50
          ],
          [
           "Jacob Ramsey",
           0.125,
           "Aston Villa",
           59
          ],
          [
           "Billy Gilmour",
           0.125,
           "Brighton",
           49
          ],
          [
           "Will Hughes",
           0.125,
           "Crystal Palace",
           49
          ],
          [
           "Boubacar Kamara",
           0.125,
           "Aston Villa",
           50
          ],
          [
           "Danilo dos Santos de Oliveira",
           0.12,
           "Nott'm Forest",
           53
          ],
          [
           "Son Heung-min",
           0.115,
           "Spurs",
           96
          ],
          [
           "Miguel Almirón Rejala",
           0.115,
           "Newcastle",
           61
          ],
          [
           "Rodrigo Bentancur",
           0.115,
           "Spurs",
           54
          ],
          [
           "Matt Ritchie",
           0.115,
           "Newcastle",
           43
          ],
          [
           "Alex Scott",
           0.115,
           "Bournemouth",
           49
          ],
          [
           "Aaron Ramsey",
           0.115,
           "Burnley",
           50
          ],
          [
           "Tomáš Souček",
           0.107,
           "West Ham",
           49
          ],
          [
           "Jean-Ricner Bellegarde",
           0.107,
           "Wolves",
           49
          ],
          [
           "Mathias Jensen",
           0.107,
           "Brentford",
           54
          ],
          [
           "Curtis Jones",
           0.1,
           "Liverpool",
           49
          ],
          [
           "Idrissa Gueye",
           0.1,
           "Everton",
           48
          ],
          [
           "Jordan Clark",
           0.1,
           "Luton",
           48
          ],
          [
           "Anssumane Fati Vieira",
           0.094,
           "Brighton",
           64
          ],
          [
           "Jérémy Doku",
           0.094,
           "Man City",
           65
          ],
          [
           "Ryan Christie",
           0.092,
           "Bournemouth",
           50
          ],
          [
           "Pierre-Emile Højbjerg",
           0.092,
           "Spurs",
           52
          ],
          [
           "Moussa Diaby",
           0.083,
           "Aston Villa",
           64
          ],
          [
           "Matheus Luiz Nunes",
           0.082,
           "Man City",
           48
          ],
          [
           "Keane Lewis-Potter",
           0.08,
           "Brentford",
           47
          ],
          [
           "Mykhailo Mudryk",
           0.08,
           "Chelsea",
           63
          ],
          [
           "Ryan Yates",
           0.08,
           "Nott'm Forest",
           48
          ],
          [
           "Carney Chukwuemeka",
           0.08,
           "Chelsea",
           42
          ],
          [
           "Bernardo Veiga de Carvalho e Silva",
           0.071,
           "Man City",
           63
          ],
          [
           "Tommy Doyle",
           0.071,
           "Wolves",
           44
          ],
          [
           "Omari Forson",
           0.071,
           "Man Utd",
           44
          ],
          [
           "Naouirou Ahamada",
           0.067,
           "Crystal Palace",
           43
          ],
          [
           "Jacob Bruun Larsen",
           0.062,
           "Burnley",
           48
          ],
          [
           "Dango Ouattara",
           0.062,
           "Bournemouth",
           47
          ],
          [
           "Emile Smith Rowe",
           0.062,
           "Arsenal",
           53
          ],
          [
           "Yves Bissouma",
           0.062,
           "Spurs",
           50
          ],
          [
           "Jóhann Berg Gudmundsson",
           0.062,
           "Burnley",
           48
          ],
          [
           "Jorge Luiz Frello Filho",
           0.062,
           "Arsenal",
           53
          ],
          [
           "Han-Noah Massengo",
           0.062,
           "Burnley",
           49
          ],
          [
           "Ryan Gravenberch",
           0.057,
           "Liverpool",
           50
          ],
          [
           "Maxwel Cornet",
           0.057,
           "West Ham",
           52
          ],
          [
           "Wataru Endo",
           0.057,
           "Liverpool",
           54
          ],
          [
           "Andre Brooks",
           0.057,
           "Sheffield Utd",
           44
          ],
          [
           "Arnaut Danjuma Groeneveld",
           0.053,
           "Everton",
           52
          ],
          [
           "Mikkel Damsgaard",
           0.053,
           "Brentford",
           48
          ],
          [
           "Reiss Nelson",
           0.05,
           "Arsenal",
           48
          ],
          [
           "Giovanni Reyna",
           0.047,
           "Nott'm Forest",
           50
          ],
          [
           "Andros Townsend",
           0.043,
           "Luton",
           50
          ],
          [
           "Pelly Ruddock Mpanzu",
           0.043,
           "Luton",
           47
          ],
          [
           "Luke Berry",
           0.043,
           "Luton",
           46
          ],
          [
           "Bobby Clark",
           0.043,
           "Liverpool",
           44
          ],
          [
           "Jeffrey Schlupp",
           0.042,
           "Crystal Palace",
           49
          ],
          [
           "Matheus França de Oliveira",
           0.042,
           "Crystal Palace",
           48
          ],
          [
           "David Ozoh",
           0.042,
           "Crystal Palace",
           45
          ],
          [
           "Tim Iroegbunam",
           0.042,
           "Aston Villa",
           44
          ],
          [
           "Shandon Baptiste",
           0.04,
           "Brentford",
           43
          ],
          [
           "Oliver Skipp",
           0.038,
           "Spurs",
           45
          ],
          [
           "Hwang Hee-chan",
           0.036,
           "Wolves",
           55
          ],
          [
           "Antony Matheus dos Santos",
           0.036,
           "Man Utd",
           68
          ],
          [
           "Oliver Norwood",
           0.036,
           "Sheffield Utd",
           48
          ],
          [
           "Kalvin Phillips",
           0.036,
           "West Ham",
           47
          ],
          [
           "Tom Davies",
           0.036,
           "Sheffield Utd",
           50
          ],
          [
           "Harrison Reed",
           0.036,
           "Fulham",
           45
          ],
          [
           "Sofyan Amrabat",
           0.036,
           "Man Utd",
           50
          ],
          [
           "Oscar Bobb",
           0.035,
           "Man City",
           44
          ],
          [
           "Mateo Kovačić",
           0.035,
           "Man City",
           47
          ],
          [
           "Abdoulaye Doucouré",
           0.033,
           "Everton",
           55
          ],
          [
           "Noni Madueke",
           0.033,
           "Chelsea",
           53
          ],
          [
           "Orel Mangala",
           0.033,
           "Nott'm Forest",
           50
          ],
          [
           "Lewis Dobbin",
           0.033,
           "Everton",
           45
          ],
          [
           "Cesare Casadei",
           0.033,
           "Chelsea",
           45
          ],
          [
           "Jakub Moder",
           0.031,
           "Brighton",
           44
          ],
          [
           "Carlos Baleba",
           0.031,
           "Brighton",
           45
          ],
          [
           "Adam Lallana",
           0.031,
           "Brighton",
           49
          ],
          [
           "James McConnell",
           0.029,
           "Liverpool",
           44
          ],
          [
           "Frank Onyeka",
           0.027,
           "Brentford",
           49
          ],
          [
           "Yegor Yarmoliuk",
           0.027,
           "Brentford",
           43
          ],
          [
           "Saman Ghoddos",
           0.027,
           "Brentford",
           45
          ],
          [
           "Morgan Rogers",
           0.025,
           "Aston Villa",
           50
          ],
          [
           "Jack Grealish",
           0.024,
           "Man City",
           72
          ],
          [
           "Nicolò Zaniolo",
           0.017,
           "Aston Villa",
           54
          ],
          [
           "Bryan Gil Salvatierra",
           0.015,
           "Spurs",
           49
          ],
          [
           "Giovani Lo Celso",
           0.015,
           "Spurs",
           48
          ],
          [
           "Anass Zaroury",
           0.015,
           "Burnley",
           46
          ],
          [
           "Romain Faivre",
           0.015,
           "Bournemouth",
           50
          ],
          [
           "Joe White",
           0.015,
           "Newcastle",
           45
          ],
          [
           "Alex Iwobi",
           0.014,
           "Fulham",
           53
          ],
          [
           "Anis Slimane",
           0.014,
           "Sheffield Utd",
           47
          ],
          [
           "Adama Traoré",
           0.014,
           "Fulham",
           49
          ],
          [
           "Boubacar Traoré",
           0.014,
           "Wolves",
           43
          ],
          [
           "Thiago Alcántara do Nascimento",
           0.014,
           "Liverpool",
           47
          ],
          [
           "Josh Dasilva",
           0.013,
           "Brentford",
           47
          ],
          [
           "James Milner",
           0.012,
           "Brighton",
           48
          ],
          [
           "Mohamed Elneny",
           0.012,
           "Arsenal",
           44
          ],
          [
           "Ethan Nwaneri",
           0.012,
           "Arsenal",
           45
          ],
          [
           "Benicio Baker-Boaitey",
           0.012,
           "Brighton",
           45
          ],
          [
           "Bryan Mbeumo",
           0,
           "Brentford",
           68
          ],
          [
           "Lucas Tolentino Coelho de Lima",
           0,
           "West Ham",
           60
          ],
          [
           "David Brooks",
           0,
           "Bournemouth",
           47
          ],
          [
           "Joelinton Cássio Apolinário de Lira",
           0,
           "Newcastle",
           58
          ],
          [
           "Solly March",
           0,
           "Brighton",
           61
          ],
          [
           "Philip Billing",
           0,
           "Bournemouth",
           51
          ],
          [
           "Luca Koleosho",
           0,
           "Burnley",
           48
          ],
          [
           "Saïd Benrahma",
           0,
           "West Ham",
           56
          ],
          [
           "Harry Wilson",
           0,
           "Fulham",
           53
          ],
          [
           "Fábio Ferreira Vieira",
           0,
           "Arsenal",
           54
          ],
          [
           "Kevin Schade",
           0,
           "Brentford",
           52
          ],
          [
           "Elliot Anderson",
           0,
           "Newcastle",
           42
          ],
          [
           "Ian Maatsen",
           0,
           "Chelsea",
           51
          ],
          [
           "Leander Dendoncker",
           0,
           "Aston Villa",
           49
          ],
          [
           "Christian Eriksen",
           0,
           "Man Utd",
           58
          ],
          [
           "Saša Lukić",
           0,
           "Fulham",
           43
          ],
          [
           "Sandro Tonali",
           0,
           "Newcastle",
           52
          ],
          [
           "Ibrahim Sangaré",
           0,
           "Nott'm Forest",
           49
          ],
          [
           "Facundo Pellistri Rebollo",
           0,
           "Man Utd",
           42
          ],
          [
           "Manor Solomon",
           0,
           "Spurs",
           51
          ],
          [
           "Jesurun Rak-Sakyi",
           0,
           "Crystal Palace",
           45
          ],
          [
           "Mike Trésor",
           0,
           "Burnley",
           53
          ],
          [
           "Pablo Fornals Malla",
           0,
           "West Ham",
           46
          ],
          [
           "Cheick Doucouré",
           0,
           "Crystal Palace",
           49
          ],
          [
           "Luke Harris",
           0,
           "Fulham",
           45
          ],
          [
           "Cheikhou Kouyaté",
           0,
           "Nott'm Forest",
           48
          ],
          [
           "Mahmoud Dahoud",
           0,
           "Brighton",
           48
          ],
          [
           "Julio Enciso",
           0,
           "Brighton",
           50
          ],
          [
           "Mason Mount",
           0,
           "Man Utd",
           68
          ],
          [
           "Marvelous Nakamba",
           0,
           "Luton",
           44
          ],
          [
           "Hamed Traorè",
           0,
           "Bournemouth",
           47
          ],
          [
           "Joe Willock",
           0,
           "Newcastle",
           53
          ],
          [
           "Philippe Coutinho Correia",
           0,
           "Aston Villa",
           58
          ],
          [
           "Michael Olakigbe",
           0,
           "Brentford",
           45
          ],
          [
           "André Tavares Gomes",
           0,
           "Everton",
           44
          ],
          [
           "Josh Cullen",
           0,
           "Burnley",
           50
          ],
          [
           "Thomas Partey",
           0,
           "Arsenal",
           48
          ],
          [
           "Amad Diallo",
           0,
           "Man Utd",
           44
          ],
          [
           "Jaidon Anthony",
           0,
           "Bournemouth",
           49
          ],
          [
           "Joe Rothwell",
           0,
           "Bournemouth",
           48
          ],
          [
           "Andrey Nascimento dos Santos",
           0,
           "Chelsea",
           42
          ],
          [
           "Donny van de Beek",
           0,
           "Man Utd",
           47
          ],
          [
           "Hannibal Mejbri",
           0,
           "Man Utd",
           43
          ],
          [
           "Nathan Redmond",
           0,
           "Burnley",
           47
          ],
          [
           "Manuel Benson Hedilazio",
           0,
           "Burnley",
           52
          ],
          [
           "John Fleck",
           0,
           "Sheffield Utd",
           49
          ],
          [
           "Lesley Ugochukwu",
           0,
           "Chelsea",
           44
          ],
          [
           "Jadon Sancho",
           0,
           "Man Utd",
           67
          ],
          [
           "Jairo Riedewald",
           0,
           "Crystal Palace",
           43
          ],
          [
           "Jack Cork",
           0,
           "Burnley",
           48
          ],
          [
           "Roméo Lavia",
           0,
           "Chelsea",
           49
          ],
          [
           "Marcus Oliveira Alencar",
           0,
           "Arsenal",
           45
          ],
          [
           "Nicolas Pépé",
           0,
           "Arsenal",
           49
          ],
          [
           "Granit Xhaka",
           0,
           "Arsenal",
           60
          ],
          [
           "Charles Sagoe",
           0,
           "Arsenal",
           45
          ],
          [
           "Bradley Ibrahim",
           0,
           "Arsenal",
           45
          ],
          [
           "Myles Lewis-Skelly",
           0,
           "Arsenal",
           45
          ],
          [
           "Mauro Bandeira",
           0,
           "Arsenal",
           45
          ],
          [
           "Emiliano Buendía Stati",
           0,
           "Aston Villa",
           57
          ],
          [
           "Jaden Philogene-Bidace",
           0,
           "Aston Villa",
           45
          ],
          [
           "Morgan Sanson",
           0,
           "Aston Villa",
           45
          ],
          [
           "Bertrand Traoré",
           0,
           "Aston Villa",
           50
          ],
          [
           "Omari Kellyman",
           0,
           "Aston Villa",
           45
          ],
          [
           "Tommi O'Reilly",
           0,
           "Aston Villa",
           45
          ],
          [
           "Siriki Dembélé",
           0,
           "Bournemouth",
           45
          ],
          [
           "Gavin Kilkenny",
           0,
           "Bournemouth",
           43
          ],
          [
           "Jamal Lowe",
           0,
           "Bournemouth",
           49
          ],
          [
           "Emiliano Marcondes",
           0,
           "Bournemouth",
           43
          ],
          [
           "Ben Pearson",
           0,
           "Bournemouth",
           45
          ],
          [
           "Tyler Adams",
           0,
           "Bournemouth",
           49
          ],
          [
           "Dominic Sadi",
           0,
           "Bournemouth",
           45
          ],
          [
           "Mads Bidstrup",
           0,
           "Brentford",
           45
          ],
          [
           "Sergi Canós Tenés",
           0,
           "Brentford",
           50
          ],
          [
           "Ryan Trevitt",
           0,
           "Brentford",
           45
          ],
          [
           "Ethan Brierley",
           0,
           "Brentford",
           45
          ],
          [
           "Myles Peart-Harris",
           0,
           "Brentford",
           45
          ],
          [
           "Steven Alzate",
           0,
           "Brighton",
           44
          ],
          [
           "Yasin Ayari",
           0,
           "Brighton",
           45
          ],
          [
           "Kacper Kozłowski",
           0,
           "Brighton",
           45
          ],
          [
           "Jeremy Sarmiento Morante",
           0,
           "Brighton",
           45
          ],
          [
           "Joshua Duffus",
           0,
           "Brighton",
           44
          ],
          [
           "Luca Barrington",
           0,
           "Brighton",
           45
          ],
          [
           "Cameron Peupion",
           0,
           "Brighton",
           45
          ],
          [
           "Enock Agyei",
           0,
           "Burnley",
           42
          ],
          [
           "Samuel Bastien",
           0,
           "Burnley",
           49
          ],
          [
           "Darko Churlinov",
           0,
           "Burnley",
           44
          ],
          [
           "Dara Costelloe",
           0,
           "Burnley",
           45
          ],
          [
           "Scott Twine",
           0,
           "Burnley",
           49
          ],
          [
           "Christian Pulisic",
           0,
           "Chelsea",
           55
          ],
          [
           "Hakim Ziyech",
           0,
           "Chelsea",
           54
          ],
          [
           "Ângelo Gabriel Borges Damaceno",
           0,
           "Chelsea",
           50
          ],
          [
           "Diego Manuel Jadon da Silva Moreira",
           0,
           "Chelsea",
           45
          ],
          [
           "Alex Matos",
           0,
           "Chelsea",
           45
          ],
          [
           "Leo Castledine",
           0,
           "Chelsea",
           45
          ],
          [
           "Ollie Harrison",
           0,
           "Chelsea",
           45
          ],
          [
           "Malcolm Ebiowei",
           0,
           "Crystal Palace",
           44
          ],
          [
           "Jadan Raymond",
           0,
           "Crystal Palace",
           45
          ],
          [
           "Dele Alli",
           0,
           "Everton",
           48
          ],
          [
           "Jean-Philippe Gbamin",
           0,
           "Everton",
           44
          ],
          [
           "Demarai Gray",
           0,
           "Everton",
           53
          ],
          [
           "Tyler Onyango",
           0,
           "Everton",
           44
          ],
          [
           "Mackenzie Hunt",
           0,
           "Everton",
           45
          ],
          [
           "Jenson Metcalfe",
           0,
           "Everton",
           45
          ],
          [
           "Ivan Neves Abreu Cavaleiro",
           0,
           "Fulham",
           50
          ],
          [
           "Tyrese Francois",
           0,
           "Fulham",
           44
          ],
          [
           "Anthony Knockaert",
           0,
           "Fulham",
           44
          ],
          [
           "Matthew Dibley-Dias",
           0,
           "Fulham",
           45
          ],
          [
           "Kristian Sekularac",
           0,
           "Fulham",
           45
          ],
          [
           "Joshua King",
           0,
           "Fulham",
           45
          ],
          [
           "Stefan Bajcetic",
           0,
           "Liverpool",
           47
          ],
          [
           "Fabio Henrique Tavares",
           0,
           "Liverpool",
           50
          ],
          [
           "Jordan Henderson",
           0,
           "Liverpool",
           50
          ],
          [
           "Ben Doak",
           0,
           "Liverpool",
           43
          ],
          [
           "Treymaurice Nyoni",
           0,
           "Liverpool",
           45
          ],
          [
           "Kaide Gordon",
           0,
           "Liverpool",
           45
          ],
          [
           "Allan Campbell",
           0,
           "Luton",
           49
          ],
          [
           "Luke Freeman",
           0,
           "Luton",
           49
          ],
          [
           "Carlos Mendes Gomes",
           0,
           "Luton",
           45
          ],
          [
           "Fred Onyedinma",
           0,
           "Luton",
           50
          ],
          [
           "Dion Pereira",
           0,
           "Luton",
           44
          ],
          [
           "Glen Rea",
           0,
           "Luton",
           44
          ],
          [
           "Elliot Thorpe",
           0,
           "Luton",
           45
          ],
          [
           "Louie Watson",
           0,
           "Luton",
           44
          ],
          [
           "Jayden Luker",
           0,
           "Luton",
           45
          ],
          [
           "Zack Nelson",
           0,
           "Luton",
           45
          ],
          [
           "Shea Charles",
           0,
           "Man City",
           45
          ],
          [
           "Riyad Mahrez",
           0,
           "Man City",
           75
          ],
          [
           "Máximo Perrone",
           0,
           "Man City",
           44
          ],
          [
           "Mahamadou Susoho",
           0,
           "Man City",
           45
          ],
          [
           "Micah Hamilton",
           0,
           "Man City",
           45
          ],
          [
           "Jacob Wright",
           0,
           "Man City",
           45
          ],
          [
           "Frederico Rodrigues de Paula Santos",
           0,
           "Man Utd",
           50
          ],
          [
           "Daniel Gore",
           0,
           "Man Utd",
           45
          ],
          [
           "Ryan Fraser",
           0,
           "Newcastle",
           49
          ],
          [
           "Isaac Hayden",
           0,
           "Newcastle",
           44
          ],
          [
           "Jeff Hendrick",
           0,
           "Newcastle",
           44
          ],
          [
           "Garang Kuol",
           0,
           "Newcastle",
           45
          ],
          [
           "Allan Saint-Maximin",
           0,
           "Newcastle",
           60
          ],
          [
           "Amadou Diallo",
           0,
           "Newcastle",
           45
          ],
          [
           "Travis Hernes",
           0,
           "Newcastle",
           45
          ],
          [
           "Brandon Aguilera Zamora",
           0,
           "Nott'm Forest",
           45
          ],
          [
           "Harry Arter",
           0,
           "Nott'm Forest",
           43
          ],
          [
           "Josh Bowler",
           0,
           "Nott'm Forest",
           45
          ],
          [
           "Remo Freuler",
           0,
           "Nott'm Forest",
           49
          ],
          [
           "Alex Mighten",
           0,
           "Nott'm Forest",
           44
          ],
          [
           "Lewis O'Brien",
           0,
           "Nott'm Forest",
           49
          ],
          [
           "Braian Ojeda Rodríguez",
           0,
           "Nott'm Forest",
           45
          ],
          [
           "Gustavo Henrique Furtado Scarpa",
           0,
           "Nott'm Forest",
           45
          ],
          [
           "Jonjo Shelvey",
           0,
           "Nott'm Forest",
           48
          ],
          [
           "Jamie McDonnell",
           0,
           "Nott'm Forest",
           45
          ],
          [
           "Ismaila Coulibaly",
           0,
           "Sheffield Utd",
           44
          ],
          [
           "Ryan Oné",
           0,
           "Sheffield Utd",
           44
          ],
          [
           "Sydie Peck",
           0,
           "Sheffield Utd",
           44
          ],
          [
           "Oliver Arblaster",
           0,
           "Sheffield Utd",
           45
          ],
          [
           "Tanguy Ndombélé Alvaro",
           0,
           "Spurs",
           44
          ],
          [
           "Yago de Santiago Alonso",
           0,
           "Spurs",
           45
          ],
          [
           "Conor Coventry",
           0,
           "West Ham",
           43
          ],
          [
           "Flynn Downes",
           0,
           "West Ham",
           50
          ],
          [
           "Nikola Vlašić",
           0,
           "West Ham",
           45
          ],
          [
           "Lewis Orford",
           0,
           "West Ham",
           45
          ],
          [
           "Francisco Jorge Tomás Oliveira",
           0,
           "Wolves",
           45
          ],
          [
           "Luke Cundle",
           0,
           "Wolves",
           45
          ],
          [
           "Gonçalo Manuel Ganchinho Guedes",
           0,
           "Wolves",
           54
          ],
          [
           "Joe Hodge",
           0,
           "Wolves",
           44
          ],
          [
           "Bruno Cavaco Jordão",
           0,
           "Wolves",
           43
          ],
          [
           "Daniel Castelo Podence",
           0,
           "Wolves",
           53
          ],
          [
           "Enso González",
           0,
           "Wolves",
           50
          ],
          [
           "Matthew Whittingham",
           0,
           "Wolves",
           45
          ],
          [
           "Tawanda Chirewa",
           0,
           "Wolves",
           44
          ],
          [
           "Owen Hesketh",
           0,
           "Wolves",
           45
          ],
          [
           "Ty Barnett",
           0,
           "Wolves",
           45
          ],
          [
           "Harvey Griffiths",
           0,
           "Wolves",
           45
          ],
          [
           "Noha Lemina",
           0,
           "Wolves",
           50
          ]
         ],
         "hovertemplate": "Difficulty Average for Upcoming 5 Games=%{x}<br>Current Form/Expected Points=%{y}<br>Fixture_Difficulty_Index=%{marker.color}<br>full_name=%{customdata[0]}<br>name=%{customdata[2]}<br>now_cost=%{customdata[3]}<extra></extra>",
         "legendgroup": "",
         "marker": {
          "color": [
           0.762,
           0.543,
           0.52,
           0.5,
           0.488,
           0.462,
           0.438,
           0.438,
           0.429,
           0.429,
           0.4,
           0.393,
           0.375,
           0.375,
           0.369,
           0.367,
           0.362,
           0.35,
           0.343,
           0.343,
           0.343,
           0.333,
           0.333,
           0.329,
           0.329,
           0.329,
           0.323,
           0.321,
           0.312,
           0.3,
           0.3,
           0.3,
           0.292,
           0.292,
           0.292,
           0.286,
           0.271,
           0.271,
           0.271,
           0.267,
           0.267,
           0.253,
           0.253,
           0.25,
           0.25,
           0.25,
           0.25,
           0.246,
           0.238,
           0.229,
           0.215,
           0.215,
           0.215,
           0.213,
           0.213,
           0.213,
           0.212,
           0.208,
           0.2,
           0.2,
           0.192,
           0.192,
           0.192,
           0.175,
           0.173,
           0.171,
           0.169,
           0.167,
           0.157,
           0.157,
           0.157,
           0.157,
           0.154,
           0.147,
           0.143,
           0.143,
           0.143,
           0.143,
           0.138,
           0.138,
           0.138,
           0.138,
           0.138,
           0.133,
           0.133,
           0.129,
           0.129,
           0.129,
           0.129,
           0.125,
           0.125,
           0.125,
           0.125,
           0.12,
           0.115,
           0.115,
           0.115,
           0.115,
           0.115,
           0.115,
           0.107,
           0.107,
           0.107,
           0.1,
           0.1,
           0.1,
           0.094,
           0.094,
           0.092,
           0.092,
           0.083,
           0.082,
           0.08,
           0.08,
           0.08,
           0.08,
           0.071,
           0.071,
           0.071,
           0.067,
           0.062,
           0.062,
           0.062,
           0.062,
           0.062,
           0.062,
           0.062,
           0.057,
           0.057,
           0.057,
           0.057,
           0.053,
           0.053,
           0.05,
           0.047,
           0.043,
           0.043,
           0.043,
           0.043,
           0.042,
           0.042,
           0.042,
           0.042,
           0.04,
           0.038,
           0.036,
           0.036,
           0.036,
           0.036,
           0.036,
           0.036,
           0.036,
           0.035,
           0.035,
           0.033,
           0.033,
           0.033,
           0.033,
           0.033,
           0.031,
           0.031,
           0.031,
           0.029,
           0.027,
           0.027,
           0.027,
           0.025,
           0.024,
           0.017,
           0.015,
           0.015,
           0.015,
           0.015,
           0.015,
           0.014,
           0.014,
           0.014,
           0.014,
           0.014,
           0.013,
           0.012,
           0.012,
           0.012,
           0.012,
           0,
           0,
           0,
           0,
           0,
           0,
           0,
           0,
           0,
           0,
           0,
           0,
           0,
           0,
           0,
           0,
           0,
           0,
           0,
           0,
           0,
           0,
           0,
           0,
           0,
           0,
           0,
           0,
           0,
           0,
           0,
           0,
           0,
           0,
           0,
           0,
           0,
           0,
           0,
           0,
           0,
           0,
           0,
           0,
           0,
           0,
           0,
           0,
           0,
           0,
           0,
           0,
           0,
           0,
           0,
           0,
           0,
           0,
           0,
           0,
           0,
           0,
           0,
           0,
           0,
           0,
           0,
           0,
           0,
           0,
           0,
           0,
           0,
           0,
           0,
           0,
           0,
           0,
           0,
           0,
           0,
           0,
           0,
           0,
           0,
           0,
           0,
           0,
           0,
           0,
           0,
           0,
           0,
           0,
           0,
           0,
           0,
           0,
           0,
           0,
           0,
           0,
           0,
           0,
           0,
           0,
           0,
           0,
           0,
           0,
           0,
           0,
           0,
           0,
           0,
           0,
           0,
           0,
           0,
           0,
           0,
           0,
           0,
           0,
           0,
           0,
           0,
           0,
           0,
           0,
           0,
           0,
           0,
           0,
           0,
           0,
           0,
           0,
           0,
           0,
           0,
           0,
           0,
           0,
           0,
           0,
           0,
           0,
           0,
           0,
           0,
           0,
           0,
           0,
           0,
           0,
           0,
           0,
           0,
           0,
           0,
           0,
           0,
           0,
           0,
           0,
           0,
           0,
           0,
           0,
           0,
           0,
           0
          ],
          "coloraxis": "coloraxis",
          "size": [
           0.762,
           0.543,
           0.52,
           0.5,
           0.488,
           0.462,
           0.438,
           0.438,
           0.429,
           0.429,
           0.4,
           0.393,
           0.375,
           0.375,
           0.369,
           0.367,
           0.362,
           0.35,
           0.343,
           0.343,
           0.343,
           0.333,
           0.333,
           0.329,
           0.329,
           0.329,
           0.323,
           0.321,
           0.312,
           0.3,
           0.3,
           0.3,
           0.292,
           0.292,
           0.292,
           0.286,
           0.271,
           0.271,
           0.271,
           0.267,
           0.267,
           0.253,
           0.253,
           0.25,
           0.25,
           0.25,
           0.25,
           0.246,
           0.238,
           0.229,
           0.215,
           0.215,
           0.215,
           0.213,
           0.213,
           0.213,
           0.212,
           0.208,
           0.2,
           0.2,
           0.192,
           0.192,
           0.192,
           0.175,
           0.173,
           0.171,
           0.169,
           0.167,
           0.157,
           0.157,
           0.157,
           0.157,
           0.154,
           0.147,
           0.143,
           0.143,
           0.143,
           0.143,
           0.138,
           0.138,
           0.138,
           0.138,
           0.138,
           0.133,
           0.133,
           0.129,
           0.129,
           0.129,
           0.129,
           0.125,
           0.125,
           0.125,
           0.125,
           0.12,
           0.115,
           0.115,
           0.115,
           0.115,
           0.115,
           0.115,
           0.107,
           0.107,
           0.107,
           0.1,
           0.1,
           0.1,
           0.094,
           0.094,
           0.092,
           0.092,
           0.083,
           0.082,
           0.08,
           0.08,
           0.08,
           0.08,
           0.071,
           0.071,
           0.071,
           0.067,
           0.062,
           0.062,
           0.062,
           0.062,
           0.062,
           0.062,
           0.062,
           0.057,
           0.057,
           0.057,
           0.057,
           0.053,
           0.053,
           0.05,
           0.047,
           0.043,
           0.043,
           0.043,
           0.043,
           0.042,
           0.042,
           0.042,
           0.042,
           0.04,
           0.038,
           0.036,
           0.036,
           0.036,
           0.036,
           0.036,
           0.036,
           0.036,
           0.035,
           0.035,
           0.033,
           0.033,
           0.033,
           0.033,
           0.033,
           0.031,
           0.031,
           0.031,
           0.029,
           0.027,
           0.027,
           0.027,
           0.025,
           0.024,
           0.017,
           0.015,
           0.015,
           0.015,
           0.015,
           0.015,
           0.014,
           0.014,
           0.014,
           0.014,
           0.014,
           0.013,
           0.012,
           0.012,
           0.012,
           0.012,
           0,
           0,
           0,
           0,
           0,
           0,
           0,
           0,
           0,
           0,
           0,
           0,
           0,
           0,
           0,
           0,
           0,
           0,
           0,
           0,
           0,
           0,
           0,
           0,
           0,
           0,
           0,
           0,
           0,
           0,
           0,
           0,
           0,
           0,
           0,
           0,
           0,
           0,
           0,
           0,
           0,
           0,
           0,
           0,
           0,
           0,
           0,
           0,
           0,
           0,
           0,
           0,
           0,
           0,
           0,
           0,
           0,
           0,
           0,
           0,
           0,
           0,
           0,
           0,
           0,
           0,
           0,
           0,
           0,
           0,
           0,
           0,
           0,
           0,
           0,
           0,
           0,
           0,
           0,
           0,
           0,
           0,
           0,
           0,
           0,
           0,
           0,
           0,
           0,
           0,
           0,
           0,
           0,
           0,
           0,
           0,
           0,
           0,
           0,
           0,
           0,
           0,
           0,
           0,
           0,
           0,
           0,
           0,
           0,
           0,
           0,
           0,
           0,
           0,
           0,
           0,
           0,
           0,
           0,
           0,
           0,
           0,
           0,
           0,
           0,
           0,
           0,
           0,
           0,
           0,
           0,
           0,
           0,
           0,
           0,
           0,
           0,
           0,
           0,
           0,
           0,
           0,
           0,
           0,
           0,
           0,
           0,
           0,
           0,
           0,
           0,
           0,
           0,
           0,
           0,
           0,
           0,
           0,
           0,
           0,
           0,
           0,
           0,
           0,
           0,
           0,
           0,
           0,
           0,
           0,
           0,
           0,
           0
          ],
          "sizemode": "area",
          "sizeref": 0.0008466666666666667,
          "symbol": "circle"
         },
         "mode": "markers",
         "name": "",
         "orientation": "v",
         "showlegend": false,
         "type": "scatter",
         "x": [
          16,
          14,
          15,
          13,
          16,
          13,
          16,
          16,
          14,
          14,
          17,
          14,
          12,
          12,
          13,
          15,
          16,
          12,
          14,
          14,
          14,
          15,
          12,
          17,
          14,
          14,
          13,
          14,
          16,
          14,
          14,
          16,
          13,
          12,
          13,
          14,
          14,
          14,
          14,
          15,
          15,
          15,
          15,
          14,
          12,
          12,
          16,
          13,
          16,
          14,
          13,
          13,
          13,
          15,
          15,
          15,
          17,
          12,
          14,
          14,
          13,
          13,
          12,
          16,
          15,
          14,
          13,
          15,
          14,
          14,
          14,
          14,
          13,
          15,
          14,
          14,
          14,
          14,
          13,
          16,
          13,
          13,
          13,
          15,
          15,
          14,
          14,
          14,
          14,
          12,
          16,
          12,
          12,
          15,
          13,
          13,
          13,
          13,
          13,
          13,
          14,
          14,
          15,
          14,
          15,
          14,
          16,
          17,
          13,
          13,
          12,
          17,
          15,
          15,
          15,
          15,
          17,
          14,
          14,
          12,
          13,
          13,
          16,
          13,
          13,
          16,
          13,
          14,
          14,
          14,
          14,
          15,
          15,
          16,
          15,
          14,
          14,
          14,
          14,
          12,
          12,
          12,
          12,
          15,
          13,
          14,
          14,
          14,
          14,
          14,
          14,
          14,
          17,
          17,
          15,
          15,
          15,
          15,
          15,
          16,
          16,
          16,
          14,
          15,
          15,
          15,
          12,
          17,
          12,
          13,
          13,
          13,
          13,
          13,
          14,
          14,
          14,
          14,
          14,
          15,
          16,
          16,
          16,
          16,
          15,
          14,
          13,
          13,
          16,
          13,
          13,
          14,
          14,
          16,
          15,
          13,
          15,
          12,
          14,
          14,
          13,
          15,
          14,
          13,
          12,
          13,
          14,
          12,
          14,
          15,
          16,
          16,
          14,
          14,
          13,
          13,
          12,
          15,
          15,
          13,
          16,
          14,
          13,
          13,
          15,
          14,
          14,
          13,
          13,
          14,
          15,
          14,
          12,
          13,
          15,
          16,
          16,
          16,
          16,
          16,
          16,
          16,
          12,
          12,
          12,
          12,
          12,
          12,
          13,
          13,
          13,
          13,
          13,
          13,
          13,
          15,
          15,
          15,
          15,
          15,
          16,
          16,
          16,
          16,
          16,
          16,
          16,
          13,
          13,
          13,
          13,
          13,
          15,
          15,
          15,
          15,
          15,
          15,
          15,
          12,
          12,
          15,
          15,
          15,
          15,
          15,
          15,
          14,
          14,
          14,
          14,
          14,
          14,
          14,
          14,
          14,
          14,
          14,
          14,
          14,
          14,
          14,
          14,
          14,
          14,
          14,
          14,
          14,
          14,
          17,
          17,
          17,
          17,
          17,
          17,
          14,
          14,
          13,
          13,
          13,
          13,
          13,
          13,
          13,
          15,
          15,
          15,
          15,
          15,
          15,
          15,
          15,
          15,
          15,
          14,
          14,
          14,
          14,
          13,
          13,
          14,
          14,
          14,
          14,
          14,
          14,
          14,
          14,
          14,
          14,
          14,
          14,
          14,
          14,
          14,
          14,
          14
         ],
         "xaxis": "x",
         "y": [
          12.2,
          7.6,
          7.8,
          6.5,
          7.8,
          6,
          7,
          7,
          6,
          6,
          6.8,
          5.5,
          4.5,
          4.5,
          4.8,
          5.5,
          5.8,
          4.2,
          4.8,
          4.8,
          4.8,
          5,
          4,
          5.6,
          4.6,
          4.6,
          4.2,
          4.5,
          5,
          4.2,
          4.2,
          4.8,
          3.8,
          3.5,
          3.8,
          4,
          3.8,
          3.8,
          3.8,
          4,
          4,
          3.8,
          3.8,
          3.5,
          3,
          3,
          4,
          3.2,
          3.8,
          3.2,
          2.8,
          2.8,
          2.8,
          3.2,
          3.2,
          3.2,
          3.6,
          2.5,
          2.8,
          2.8,
          2.5,
          2.5,
          2.3,
          2.8,
          2.6,
          2.4,
          2.2,
          2.5,
          2.2,
          2.2,
          2.2,
          2.2,
          2,
          2.2,
          2,
          2,
          2,
          2,
          1.8,
          2.2,
          1.8,
          1.8,
          1.8,
          2,
          2,
          1.8,
          1.8,
          1.8,
          1.8,
          1.5,
          2,
          1.5,
          1.5,
          1.8,
          1.5,
          1.5,
          1.5,
          1.5,
          1.5,
          1.5,
          1.5,
          1.5,
          1.6,
          1.4,
          1.5,
          1.4,
          1.5,
          1.6,
          1.2,
          1.2,
          1,
          1.4,
          1.2,
          1.2,
          1.2,
          1.2,
          1.2,
          1,
          1,
          0.8,
          0.8,
          0.8,
          1,
          0.8,
          0.8,
          1,
          0.8,
          0.8,
          0.8,
          0.8,
          0.8,
          0.8,
          0.8,
          0.8,
          0.7,
          0.6,
          0.6,
          0.6,
          0.6,
          0.5,
          0.5,
          0.5,
          0.5,
          0.6,
          0.5,
          0.5,
          0.5,
          0.5,
          0.5,
          0.5,
          0.5,
          0.5,
          0.6,
          0.6,
          0.5,
          0.5,
          0.5,
          0.5,
          0.5,
          0.5,
          0.5,
          0.5,
          0.4,
          0.4,
          0.4,
          0.4,
          0.3,
          0.4,
          0.2,
          0.2,
          0.2,
          0.2,
          0.2,
          0.2,
          0.2,
          0.2,
          0.2,
          0.2,
          0.2,
          0.2,
          0.2,
          0.2,
          0.2,
          0.2,
          0,
          0,
          0,
          0,
          0,
          0,
          0,
          0,
          0,
          0,
          0,
          0,
          0,
          0,
          0,
          0,
          0,
          0,
          0,
          0,
          0,
          0,
          0,
          0,
          0,
          0,
          0,
          0,
          0,
          0,
          0,
          0,
          0,
          0,
          0,
          0,
          0,
          0,
          0,
          0,
          0,
          0,
          0,
          0,
          0,
          0,
          0,
          0,
          0,
          0,
          0,
          0,
          0,
          0,
          0,
          0,
          0,
          0,
          0,
          0,
          0,
          0,
          0,
          0,
          0,
          0,
          0,
          0,
          0,
          0,
          0,
          0,
          0,
          0,
          0,
          0,
          0,
          0,
          0,
          0,
          0,
          0,
          0,
          0,
          0,
          0,
          0,
          0,
          0,
          0,
          0,
          0,
          0,
          0,
          0,
          0,
          0,
          0,
          0,
          0,
          0,
          0,
          0,
          0,
          0,
          0,
          0,
          0,
          0,
          0,
          0,
          0,
          0,
          0,
          0,
          0,
          0,
          0,
          0,
          0,
          0,
          0,
          0,
          0,
          0,
          0,
          0,
          0,
          0,
          0,
          0,
          0,
          0,
          0,
          0,
          0,
          0,
          0,
          0,
          0,
          0,
          0,
          0,
          0,
          0,
          0,
          0,
          0,
          0,
          0,
          0,
          0,
          0,
          0,
          0,
          0,
          0,
          0,
          0,
          0,
          0,
          0,
          0,
          0,
          0,
          0,
          0,
          0,
          0,
          0,
          0,
          0,
          0
         ],
         "yaxis": "y"
        }
       ],
       "layout": {
        "annotations": [
         {
          "font": {
           "color": "black",
           "size": 30
          },
          "showarrow": false,
          "text": "Buy",
          "x": 12.5,
          "y": 7
         },
         {
          "font": {
           "color": "black",
           "size": 30
          },
          "showarrow": false,
          "text": "Sell",
          "x": 15.5,
          "y": 1
         }
        ],
        "coloraxis": {
         "colorbar": {
          "title": {
           "text": "Fixture_Difficulty_Index"
          }
         },
         "colorscale": [
          [
           0,
           "red"
          ],
          [
           0.2,
           "orange"
          ],
          [
           0.4,
           "yellow"
          ],
          [
           0.9,
           "green"
          ],
          [
           1,
           "darkgreen"
          ]
         ]
        },
        "height": 800,
        "legend": {
         "itemsizing": "constant",
         "tracegroupgap": 0
        },
        "shapes": [
         {
          "fillcolor": "green",
          "layer": "below",
          "line": {
           "width": 0
          },
          "opacity": 0.3,
          "type": "circle",
          "x0": 9,
          "x1": 16,
          "xref": "x",
          "y0": 10,
          "y1": 5,
          "yref": "y"
         },
         {
          "fillcolor": "red",
          "layer": "below",
          "line": {
           "width": 0
          },
          "opacity": 0.3,
          "type": "circle",
          "x0": 11.8,
          "x1": 20,
          "xref": "x",
          "y0": 2,
          "y1": -2,
          "yref": "y"
         }
        ],
        "showlegend": false,
        "template": {
         "data": {
          "bar": [
           {
            "error_x": {
             "color": "#2a3f5f"
            },
            "error_y": {
             "color": "#2a3f5f"
            },
            "marker": {
             "line": {
              "color": "#E5ECF6",
              "width": 0.5
             },
             "pattern": {
              "fillmode": "overlay",
              "size": 10,
              "solidity": 0.2
             }
            },
            "type": "bar"
           }
          ],
          "barpolar": [
           {
            "marker": {
             "line": {
              "color": "#E5ECF6",
              "width": 0.5
             },
             "pattern": {
              "fillmode": "overlay",
              "size": 10,
              "solidity": 0.2
             }
            },
            "type": "barpolar"
           }
          ],
          "carpet": [
           {
            "aaxis": {
             "endlinecolor": "#2a3f5f",
             "gridcolor": "white",
             "linecolor": "white",
             "minorgridcolor": "white",
             "startlinecolor": "#2a3f5f"
            },
            "baxis": {
             "endlinecolor": "#2a3f5f",
             "gridcolor": "white",
             "linecolor": "white",
             "minorgridcolor": "white",
             "startlinecolor": "#2a3f5f"
            },
            "type": "carpet"
           }
          ],
          "choropleth": [
           {
            "colorbar": {
             "outlinewidth": 0,
             "ticks": ""
            },
            "type": "choropleth"
           }
          ],
          "contour": [
           {
            "colorbar": {
             "outlinewidth": 0,
             "ticks": ""
            },
            "colorscale": [
             [
              0,
              "#0d0887"
             ],
             [
              0.1111111111111111,
              "#46039f"
             ],
             [
              0.2222222222222222,
              "#7201a8"
             ],
             [
              0.3333333333333333,
              "#9c179e"
             ],
             [
              0.4444444444444444,
              "#bd3786"
             ],
             [
              0.5555555555555556,
              "#d8576b"
             ],
             [
              0.6666666666666666,
              "#ed7953"
             ],
             [
              0.7777777777777778,
              "#fb9f3a"
             ],
             [
              0.8888888888888888,
              "#fdca26"
             ],
             [
              1,
              "#f0f921"
             ]
            ],
            "type": "contour"
           }
          ],
          "contourcarpet": [
           {
            "colorbar": {
             "outlinewidth": 0,
             "ticks": ""
            },
            "type": "contourcarpet"
           }
          ],
          "heatmap": [
           {
            "colorbar": {
             "outlinewidth": 0,
             "ticks": ""
            },
            "colorscale": [
             [
              0,
              "#0d0887"
             ],
             [
              0.1111111111111111,
              "#46039f"
             ],
             [
              0.2222222222222222,
              "#7201a8"
             ],
             [
              0.3333333333333333,
              "#9c179e"
             ],
             [
              0.4444444444444444,
              "#bd3786"
             ],
             [
              0.5555555555555556,
              "#d8576b"
             ],
             [
              0.6666666666666666,
              "#ed7953"
             ],
             [
              0.7777777777777778,
              "#fb9f3a"
             ],
             [
              0.8888888888888888,
              "#fdca26"
             ],
             [
              1,
              "#f0f921"
             ]
            ],
            "type": "heatmap"
           }
          ],
          "heatmapgl": [
           {
            "colorbar": {
             "outlinewidth": 0,
             "ticks": ""
            },
            "colorscale": [
             [
              0,
              "#0d0887"
             ],
             [
              0.1111111111111111,
              "#46039f"
             ],
             [
              0.2222222222222222,
              "#7201a8"
             ],
             [
              0.3333333333333333,
              "#9c179e"
             ],
             [
              0.4444444444444444,
              "#bd3786"
             ],
             [
              0.5555555555555556,
              "#d8576b"
             ],
             [
              0.6666666666666666,
              "#ed7953"
             ],
             [
              0.7777777777777778,
              "#fb9f3a"
             ],
             [
              0.8888888888888888,
              "#fdca26"
             ],
             [
              1,
              "#f0f921"
             ]
            ],
            "type": "heatmapgl"
           }
          ],
          "histogram": [
           {
            "marker": {
             "pattern": {
              "fillmode": "overlay",
              "size": 10,
              "solidity": 0.2
             }
            },
            "type": "histogram"
           }
          ],
          "histogram2d": [
           {
            "colorbar": {
             "outlinewidth": 0,
             "ticks": ""
            },
            "colorscale": [
             [
              0,
              "#0d0887"
             ],
             [
              0.1111111111111111,
              "#46039f"
             ],
             [
              0.2222222222222222,
              "#7201a8"
             ],
             [
              0.3333333333333333,
              "#9c179e"
             ],
             [
              0.4444444444444444,
              "#bd3786"
             ],
             [
              0.5555555555555556,
              "#d8576b"
             ],
             [
              0.6666666666666666,
              "#ed7953"
             ],
             [
              0.7777777777777778,
              "#fb9f3a"
             ],
             [
              0.8888888888888888,
              "#fdca26"
             ],
             [
              1,
              "#f0f921"
             ]
            ],
            "type": "histogram2d"
           }
          ],
          "histogram2dcontour": [
           {
            "colorbar": {
             "outlinewidth": 0,
             "ticks": ""
            },
            "colorscale": [
             [
              0,
              "#0d0887"
             ],
             [
              0.1111111111111111,
              "#46039f"
             ],
             [
              0.2222222222222222,
              "#7201a8"
             ],
             [
              0.3333333333333333,
              "#9c179e"
             ],
             [
              0.4444444444444444,
              "#bd3786"
             ],
             [
              0.5555555555555556,
              "#d8576b"
             ],
             [
              0.6666666666666666,
              "#ed7953"
             ],
             [
              0.7777777777777778,
              "#fb9f3a"
             ],
             [
              0.8888888888888888,
              "#fdca26"
             ],
             [
              1,
              "#f0f921"
             ]
            ],
            "type": "histogram2dcontour"
           }
          ],
          "mesh3d": [
           {
            "colorbar": {
             "outlinewidth": 0,
             "ticks": ""
            },
            "type": "mesh3d"
           }
          ],
          "parcoords": [
           {
            "line": {
             "colorbar": {
              "outlinewidth": 0,
              "ticks": ""
             }
            },
            "type": "parcoords"
           }
          ],
          "pie": [
           {
            "automargin": true,
            "type": "pie"
           }
          ],
          "scatter": [
           {
            "fillpattern": {
             "fillmode": "overlay",
             "size": 10,
             "solidity": 0.2
            },
            "type": "scatter"
           }
          ],
          "scatter3d": [
           {
            "line": {
             "colorbar": {
              "outlinewidth": 0,
              "ticks": ""
             }
            },
            "marker": {
             "colorbar": {
              "outlinewidth": 0,
              "ticks": ""
             }
            },
            "type": "scatter3d"
           }
          ],
          "scattercarpet": [
           {
            "marker": {
             "colorbar": {
              "outlinewidth": 0,
              "ticks": ""
             }
            },
            "type": "scattercarpet"
           }
          ],
          "scattergeo": [
           {
            "marker": {
             "colorbar": {
              "outlinewidth": 0,
              "ticks": ""
             }
            },
            "type": "scattergeo"
           }
          ],
          "scattergl": [
           {
            "marker": {
             "colorbar": {
              "outlinewidth": 0,
              "ticks": ""
             }
            },
            "type": "scattergl"
           }
          ],
          "scattermapbox": [
           {
            "marker": {
             "colorbar": {
              "outlinewidth": 0,
              "ticks": ""
             }
            },
            "type": "scattermapbox"
           }
          ],
          "scatterpolar": [
           {
            "marker": {
             "colorbar": {
              "outlinewidth": 0,
              "ticks": ""
             }
            },
            "type": "scatterpolar"
           }
          ],
          "scatterpolargl": [
           {
            "marker": {
             "colorbar": {
              "outlinewidth": 0,
              "ticks": ""
             }
            },
            "type": "scatterpolargl"
           }
          ],
          "scatterternary": [
           {
            "marker": {
             "colorbar": {
              "outlinewidth": 0,
              "ticks": ""
             }
            },
            "type": "scatterternary"
           }
          ],
          "surface": [
           {
            "colorbar": {
             "outlinewidth": 0,
             "ticks": ""
            },
            "colorscale": [
             [
              0,
              "#0d0887"
             ],
             [
              0.1111111111111111,
              "#46039f"
             ],
             [
              0.2222222222222222,
              "#7201a8"
             ],
             [
              0.3333333333333333,
              "#9c179e"
             ],
             [
              0.4444444444444444,
              "#bd3786"
             ],
             [
              0.5555555555555556,
              "#d8576b"
             ],
             [
              0.6666666666666666,
              "#ed7953"
             ],
             [
              0.7777777777777778,
              "#fb9f3a"
             ],
             [
              0.8888888888888888,
              "#fdca26"
             ],
             [
              1,
              "#f0f921"
             ]
            ],
            "type": "surface"
           }
          ],
          "table": [
           {
            "cells": {
             "fill": {
              "color": "#EBF0F8"
             },
             "line": {
              "color": "white"
             }
            },
            "header": {
             "fill": {
              "color": "#C8D4E3"
             },
             "line": {
              "color": "white"
             }
            },
            "type": "table"
           }
          ]
         },
         "layout": {
          "annotationdefaults": {
           "arrowcolor": "#2a3f5f",
           "arrowhead": 0,
           "arrowwidth": 1
          },
          "autotypenumbers": "strict",
          "coloraxis": {
           "colorbar": {
            "outlinewidth": 0,
            "ticks": ""
           }
          },
          "colorscale": {
           "diverging": [
            [
             0,
             "#8e0152"
            ],
            [
             0.1,
             "#c51b7d"
            ],
            [
             0.2,
             "#de77ae"
            ],
            [
             0.3,
             "#f1b6da"
            ],
            [
             0.4,
             "#fde0ef"
            ],
            [
             0.5,
             "#f7f7f7"
            ],
            [
             0.6,
             "#e6f5d0"
            ],
            [
             0.7,
             "#b8e186"
            ],
            [
             0.8,
             "#7fbc41"
            ],
            [
             0.9,
             "#4d9221"
            ],
            [
             1,
             "#276419"
            ]
           ],
           "sequential": [
            [
             0,
             "#0d0887"
            ],
            [
             0.1111111111111111,
             "#46039f"
            ],
            [
             0.2222222222222222,
             "#7201a8"
            ],
            [
             0.3333333333333333,
             "#9c179e"
            ],
            [
             0.4444444444444444,
             "#bd3786"
            ],
            [
             0.5555555555555556,
             "#d8576b"
            ],
            [
             0.6666666666666666,
             "#ed7953"
            ],
            [
             0.7777777777777778,
             "#fb9f3a"
            ],
            [
             0.8888888888888888,
             "#fdca26"
            ],
            [
             1,
             "#f0f921"
            ]
           ],
           "sequentialminus": [
            [
             0,
             "#0d0887"
            ],
            [
             0.1111111111111111,
             "#46039f"
            ],
            [
             0.2222222222222222,
             "#7201a8"
            ],
            [
             0.3333333333333333,
             "#9c179e"
            ],
            [
             0.4444444444444444,
             "#bd3786"
            ],
            [
             0.5555555555555556,
             "#d8576b"
            ],
            [
             0.6666666666666666,
             "#ed7953"
            ],
            [
             0.7777777777777778,
             "#fb9f3a"
            ],
            [
             0.8888888888888888,
             "#fdca26"
            ],
            [
             1,
             "#f0f921"
            ]
           ]
          },
          "colorway": [
           "#636efa",
           "#EF553B",
           "#00cc96",
           "#ab63fa",
           "#FFA15A",
           "#19d3f3",
           "#FF6692",
           "#B6E880",
           "#FF97FF",
           "#FECB52"
          ],
          "font": {
           "color": "#2a3f5f"
          },
          "geo": {
           "bgcolor": "white",
           "lakecolor": "white",
           "landcolor": "#E5ECF6",
           "showlakes": true,
           "showland": true,
           "subunitcolor": "white"
          },
          "hoverlabel": {
           "align": "left"
          },
          "hovermode": "closest",
          "mapbox": {
           "style": "light"
          },
          "paper_bgcolor": "white",
          "plot_bgcolor": "#E5ECF6",
          "polar": {
           "angularaxis": {
            "gridcolor": "white",
            "linecolor": "white",
            "ticks": ""
           },
           "bgcolor": "#E5ECF6",
           "radialaxis": {
            "gridcolor": "white",
            "linecolor": "white",
            "ticks": ""
           }
          },
          "scene": {
           "xaxis": {
            "backgroundcolor": "#E5ECF6",
            "gridcolor": "white",
            "gridwidth": 2,
            "linecolor": "white",
            "showbackground": true,
            "ticks": "",
            "zerolinecolor": "white"
           },
           "yaxis": {
            "backgroundcolor": "#E5ECF6",
            "gridcolor": "white",
            "gridwidth": 2,
            "linecolor": "white",
            "showbackground": true,
            "ticks": "",
            "zerolinecolor": "white"
           },
           "zaxis": {
            "backgroundcolor": "#E5ECF6",
            "gridcolor": "white",
            "gridwidth": 2,
            "linecolor": "white",
            "showbackground": true,
            "ticks": "",
            "zerolinecolor": "white"
           }
          },
          "shapedefaults": {
           "line": {
            "color": "#2a3f5f"
           }
          },
          "ternary": {
           "aaxis": {
            "gridcolor": "white",
            "linecolor": "white",
            "ticks": ""
           },
           "baxis": {
            "gridcolor": "white",
            "linecolor": "white",
            "ticks": ""
           },
           "bgcolor": "#E5ECF6",
           "caxis": {
            "gridcolor": "white",
            "linecolor": "white",
            "ticks": ""
           }
          },
          "title": {
           "x": 0.05
          },
          "xaxis": {
           "automargin": true,
           "gridcolor": "white",
           "linecolor": "white",
           "ticks": "",
           "title": {
            "standoff": 15
           },
           "zerolinecolor": "white",
           "zerolinewidth": 2
          },
          "yaxis": {
           "automargin": true,
           "gridcolor": "white",
           "linecolor": "white",
           "ticks": "",
           "title": {
            "standoff": 15
           },
           "zerolinecolor": "white",
           "zerolinewidth": 2
          }
         }
        },
        "title": {
         "text": "Current Form vs Difficulty of Upcoming Games for Midfielders"
        },
        "xaxis": {
         "anchor": "y",
         "domain": [
          0,
          1
         ],
         "range": [
          11.8,
          16.3
         ],
         "title": {
          "text": "Difficulty Average for Upcoming 5 Games"
         }
        },
        "yaxis": {
         "anchor": "x",
         "domain": [
          0,
          1
         ],
         "range": [
          0,
          8.5
         ],
         "title": {
          "text": "Current Form/Expected Points"
         }
        }
       }
      }
     },
     "metadata": {},
     "output_type": "display_data"
    }
   ],
   "source": [
    "\n",
    "# Rename 'FD_index' to 'Fixture_Difficulty_Index'. Did this here to keep main df cleaner\n",
    "sorted_midfielders_df.rename(columns={'FD_index': 'Fixture_Difficulty_Index'}, inplace=True)\n",
    "\n",
    "# Wanted interactive scatter plot with hover information so that I could see the player, team, price and FD index without it being on the axis\n",
    "fig = px.scatter(sorted_midfielders_df, x='Difficulty_score', y='form_player', color='Fixture_Difficulty_Index', #used to visualise quickly which is best pick\n",
    "                 size='Fixture_Difficulty_Index',  \n",
    "                 labels={'form_player': 'Current Form/Expected Points', 'Difficulty_score': 'Difficulty Average for Upcoming 5 Games'},\n",
    "                 hover_data=['full_name', 'Fixture_Difficulty_Index', 'name', 'now_cost'], title='Current Form vs Difficulty of Upcoming Games for Midfielders',\n",
    "                 size_max=30,  \n",
    "                 color_continuous_scale=[\n",
    "                    (0.0, 'red'),\n",
    "                    (0.2, 'orange'),\n",
    "                    (0.4, 'yellow'),\n",
    "                    (0.9, 'green'),\n",
    "                    (1.0, 'darkgreen') # so I tried to get this to fade from green -buy, to red -sell, and everything else yellow and orange, sorta worked\n",
    "                 ]\n",
    "                )\n",
    "\n",
    "\"\"\" Add circles and text for the suggested buy and sell regions. Couldnt find a better way to do this without installing a lot of things Im not\n",
    "familar with and didn't have time to learn. Brute force did the trick though\n",
    "\"\"\"\n",
    "fig.update_layout(\n",
    "    shapes=[\n",
    "        dict(\n",
    "            type='circle',\n",
    "            xref='x',\n",
    "            yref='y',\n",
    "            x0=9,\n",
    "            y0=10,\n",
    "            x1=16,\n",
    "            y1=5,\n",
    "            fillcolor='green',\n",
    "            opacity=0.3,\n",
    "            layer='below',\n",
    "            line=dict(width=0),\n",
    "        ),\n",
    "        dict(\n",
    "            type='circle',\n",
    "            xref='x',\n",
    "            yref='y',\n",
    "            x0=11.8,\n",
    "            y0=2,\n",
    "            x1=20,\n",
    "            y1=-2,\n",
    "            fillcolor='red',\n",
    "            opacity=0.3,\n",
    "            layer='below',\n",
    "            line=dict(width=0),\n",
    "        )\n",
    "    ],\n",
    "    annotations=[\n",
    "        dict(\n",
    "            text='Buy', #thought it was clear, but Esky did say to make things clearer, than not :D\n",
    "            x=12.5,  \n",
    "            y=7,   \n",
    "            showarrow=False,\n",
    "            font=dict(color='black', size=30),\n",
    "        ),\n",
    "        dict(\n",
    "            text='Sell',\n",
    "            x=15.5,  \n",
    "            y=1,   \n",
    "            showarrow=False,\n",
    "            font=dict(color='black', size=30),\n",
    "        )\n",
    "    ]\n",
    ")\n",
    "\n",
    "\n",
    "fig.update_layout(showlegend=False, height=800)  \n",
    "\n",
    "# Circles were going too far out, so had to zoom in \n",
    "fig.update_xaxes(range=[11.8, 16.3])\n",
    "fig.update_yaxes(range=[0, 8.5])\n",
    "\n",
    "fig.show()\n"
   ]
  },
  {
   "cell_type": "code",
   "execution_count": 8,
   "id": "c5591b79-0eb2-4c13-9f8f-bfb599a9a387",
   "metadata": {
    "tags": []
   },
   "outputs": [
    {
     "data": {
      "application/vnd.plotly.v1+json": {
       "config": {
        "plotlyServerURL": "https://plot.ly"
       },
       "data": [
        {
         "customdata": [
          [
           "Ollie Watkins",
           0.833,
           "Aston Villa",
           87
          ],
          [
           "Rasmus Højlund",
           0.657,
           "Man Utd",
           72
          ],
          [
           "Rodrigo Muniz Carvalho",
           0.536,
           "Fulham",
           44
          ],
          [
           "Dominic Solanke",
           0.5,
           "Bournemouth",
           69
          ],
          [
           "Carlton Morris",
           0.443,
           "Luton",
           50
          ],
          [
           "Elijah Adebayo",
           0.4,
           "Luton",
           49
          ],
          [
           "Matheus Santos Carneiro Da Cunha",
           0.393,
           "Wolves",
           57
          ],
          [
           "Chiedozie Ogbene",
           0.371,
           "Luton",
           49
          ],
          [
           "David Datro Fofana",
           0.369,
           "Burnley",
           50
          ],
          [
           "Erling Haaland",
           0.341,
           "Man City",
           144
          ],
          [
           "Ivan Toney",
           0.333,
           "Brentford",
           82
          ],
          [
           "Jean-Philippe Mateta",
           0.317,
           "Crystal Palace",
           49
          ],
          [
           "Cody Gakpo",
           0.286,
           "Liverpool",
           72
          ],
          [
           "Julián Álvarez",
           0.282,
           "Man City",
           67
          ],
          [
           "Taiwo Awoniyi",
           0.267,
           "Nott'm Forest",
           63
          ],
          [
           "Danny Welbeck",
           0.25,
           "Brighton",
           57
          ],
          [
           "Antoine Semenyo",
           0.231,
           "Bournemouth",
           45
          ],
          [
           "Neal Maupay",
           0.227,
           "Brentford",
           49
          ],
          [
           "Timo Werner",
           0.192,
           "Spurs",
           63
          ],
          [
           "Dominic Calvert-Lewin",
           0.187,
           "Everton",
           58
          ],
          [
           "Darwin Núñez Ribeiro",
           0.186,
           "Liverpool",
           76
          ],
          [
           "Cameron Archer",
           0.157,
           "Sheffield Utd",
           43
          ],
          [
           "João Pedro Junqueira de Jesus",
           0.156,
           "Brighton",
           53
          ],
          [
           "Gabriel Fernando de Jesus",
           0.156,
           "Arsenal",
           78
          ],
          [
           "Christopher Nkunku",
           0.147,
           "Chelsea",
           73
          ],
          [
           "Nicolas Jackson",
           0.12,
           "Chelsea",
           68
          ],
          [
           "Zeki Amdouni",
           0.115,
           "Burnley",
           53
          ],
          [
           "Odsonne Edouard",
           0.1,
           "Crystal Palace",
           54
          ],
          [
           "Oliver McBurnie",
           0.086,
           "Sheffield Utd",
           54
          ],
          [
           "Evan Ferguson",
           0.075,
           "Brighton",
           58
          ],
          [
           "Norberto Bercique Gomes Betuncal",
           0.067,
           "Everton",
           57
          ],
          [
           "Lyle Foster",
           0.062,
           "Burnley",
           47
          ],
          [
           "William Osula",
           0.057,
           "Sheffield Utd",
           43
          ],
          [
           "Cauley Woodrow",
           0.057,
           "Luton",
           43
          ],
          [
           "Enes Ünal",
           0.054,
           "Bournemouth",
           50
          ],
          [
           "Eddie Nketiah",
           0.05,
           "Arsenal",
           51
          ],
          [
           "Callum Wilson",
           0.038,
           "Newcastle",
           78
          ],
          [
           "Armando Broja",
           0.036,
           "Fulham",
           49
          ],
          [
           "Danny Ings",
           0.036,
           "West Ham",
           56
          ],
          [
           "Rhian Brewster",
           0.036,
           "Sheffield Utd",
           49
          ],
          [
           "Jayden Danns",
           0.036,
           "Liverpool",
           45
          ],
          [
           "Youssef Ramalho Chermiti",
           0.033,
           "Everton",
           48
          ],
          [
           "Divock Origi",
           0.033,
           "Nott'm Forest",
           50
          ],
          [
           "Yoane Wissa",
           0.027,
           "Brentford",
           56
          ],
          [
           "Rodrigo Duarte Ribeiro",
           0.02,
           "Nott'm Forest",
           45
          ],
          [
           "Alexander Isak",
           0.015,
           "Newcastle",
           75
          ],
          [
           "Jay Rodriguez",
           0.015,
           "Burnley",
           53
          ],
          [
           "Raúl Jiménez",
           0.014,
           "Fulham",
           50
          ],
          [
           "Jacob Brown",
           0.014,
           "Luton",
           49
          ],
          [
           "Michail Antonio",
           0.014,
           "West Ham",
           57
          ],
          [
           "Nathan Fraser",
           0.014,
           "Wolves",
           45
          ],
          [
           "Chris Wood",
           0.013,
           "Nott'm Forest",
           48
          ],
          [
           "Carlos Vinícius Alves Morais",
           0,
           "Fulham",
           45
          ],
          [
           "Kieffer Moore",
           0,
           "Bournemouth",
           46
          ],
          [
           "Anthony Martial",
           0,
           "Man Utd",
           64
          ],
          [
           "Jhon Durán",
           0,
           "Aston Villa",
           50
          ],
          [
           "Fábio Silva",
           0,
           "Wolves",
           52
          ],
          [
           "Sasa Kalajdzic",
           0,
           "Wolves",
           49
          ],
          [
           "Deivid Washington de Souza Eugênio",
           0,
           "Chelsea",
           45
          ],
          [
           "Alejo Véliz",
           0,
           "Spurs",
           54
          ],
          [
           "Bénie Traoré",
           0,
           "Sheffield Utd",
           51
          ],
          [
           "Aleksandar Mitrović",
           0,
           "Fulham",
           74
          ],
          [
           "Divin Mubama",
           0,
           "West Ham",
           42
          ],
          [
           "Michael Obafemi",
           0,
           "Burnley",
           49
          ],
          [
           "Folarin Balogun",
           0,
           "Arsenal",
           44
          ],
          [
           "Keinan Davis",
           0,
           "Aston Villa",
           49
          ],
          [
           "Wesley Moraes Ferreira da Silva",
           0,
           "Aston Villa",
           50
          ],
          [
           "Halil Dervişoğlu",
           0,
           "Brentford",
           45
          ],
          [
           "Aaron Connolly",
           0,
           "Brighton",
           45
          ],
          [
           "Deniz Undav",
           0,
           "Brighton",
           55
          ],
          [
           "Andi Zeqiri",
           0,
           "Brighton",
           44
          ],
          [
           "Mark O’Mahony",
           0,
           "Brighton",
           45
          ],
          [
           "Wout Weghorst",
           0,
           "Burnley",
           55
          ],
          [
           "Pierre-Emerick Aubameyang",
           0,
           "Chelsea",
           65
          ],
          [
           "Romelu Lukaku Bolingoli",
           0,
           "Chelsea",
           68
          ],
          [
           "Mason Burstow",
           0,
           "Chelsea",
           45
          ],
          [
           "Ronnie Stutter",
           0,
           "Chelsea",
           45
          ],
          [
           "Luke Plange",
           0,
           "Crystal Palace",
           45
          ],
          [
           "John-Kymani Gordon",
           0,
           "Crystal Palace",
           45
          ],
          [
           "Ademola Ola-Adebomi",
           0,
           "Crystal Palace",
           45
          ],
          [
           "Franco Umeh-Chibueze",
           0,
           "Crystal Palace",
           45
          ],
          [
           "Ellis Simms",
           0,
           "Everton",
           45
          ],
          [
           "Thomas Cannon",
           0,
           "Everton",
           45
          ],
          [
           "Jay Stansfield",
           0,
           "Fulham",
           45
          ],
          [
           "Lewis Koumas",
           0,
           "Liverpool",
           45
          ],
          [
           "John McAtee",
           0,
           "Luton",
           45
          ],
          [
           "Admiral Muskwe",
           0,
           "Luton",
           45
          ],
          [
           "Aribim Pepple",
           0,
           "Luton",
           45
          ],
          [
           "Joe Taylor",
           0,
           "Luton",
           45
          ],
          [
           "Shola Shoretire",
           0,
           "Man Utd",
           44
          ],
          [
           "Joe Hugill",
           0,
           "Man Utd",
           45
          ],
          [
           "Ben Parkinson",
           0,
           "Newcastle",
           45
          ],
          [
           "Michael Ndiweni",
           0,
           "Newcastle",
           44
          ],
          [
           "Emmanuel Dennis",
           0,
           "Nott'm Forest",
           48
          ],
          [
           "Sam Surridge",
           0,
           "Nott'm Forest",
           45
          ],
          [
           "Hwang Ui-jo",
           0,
           "Nott'm Forest",
           44
          ],
          [
           "Detlef Esapa Osong",
           0,
           "Nott'm Forest",
           45
          ],
          [
           "Joe Gardner",
           0,
           "Nott'm Forest",
           45
          ],
          [
           "Daniel Jebbison",
           0,
           "Sheffield Utd",
           48
          ],
          [
           "Iliman Ndiaye",
           0,
           "Sheffield Utd",
           55
          ],
          [
           "Louie Marsh",
           0,
           "Sheffield Utd",
           45
          ],
          [
           "Antwoine Hackford",
           0,
           "Sheffield Utd",
           44
          ],
          [
           "Billy Blacker",
           0,
           "Sheffield Utd",
           45
          ],
          [
           "Harry Kane",
           0,
           "Spurs",
           125
          ],
          [
           "Dane Scarlett",
           0,
           "Spurs",
           45
          ],
          [
           "Jamie Donley",
           0,
           "Spurs",
           45
          ],
          [
           "Gianluca Scamacca",
           0,
           "West Ham",
           60
          ],
          [
           "Callum Marshall",
           0,
           "West Ham",
           45
          ]
         ],
         "hovertemplate": "Difficulty Average for Upcoming 5 Games=%{x}<br>Current Form/Expected Points=%{y}<br>Fixture_Difficulty_Index=%{marker.color}<br>full_name=%{customdata[0]}<br>name=%{customdata[2]}<br>now_cost=%{customdata[3]}<extra></extra>",
         "legendgroup": "",
         "marker": {
          "color": [
           0.833,
           0.657,
           0.536,
           0.5,
           0.443,
           0.4,
           0.393,
           0.371,
           0.369,
           0.341,
           0.333,
           0.317,
           0.286,
           0.282,
           0.267,
           0.25,
           0.231,
           0.227,
           0.192,
           0.187,
           0.186,
           0.157,
           0.156,
           0.156,
           0.147,
           0.12,
           0.115,
           0.1,
           0.086,
           0.075,
           0.067,
           0.062,
           0.057,
           0.057,
           0.054,
           0.05,
           0.038,
           0.036,
           0.036,
           0.036,
           0.036,
           0.033,
           0.033,
           0.027,
           0.02,
           0.015,
           0.015,
           0.014,
           0.014,
           0.014,
           0.014,
           0.013,
           0,
           0,
           0,
           0,
           0,
           0,
           0,
           0,
           0,
           0,
           0,
           0,
           0,
           0,
           0,
           0,
           0,
           0,
           0,
           0,
           0,
           0,
           0,
           0,
           0,
           0,
           0,
           0,
           0,
           0,
           0,
           0,
           0,
           0,
           0,
           0,
           0,
           0,
           0,
           0,
           0,
           0,
           0,
           0,
           0,
           0,
           0,
           0,
           0,
           0,
           0,
           0,
           0,
           0,
           0,
           0
          ],
          "coloraxis": "coloraxis",
          "size": [
           0.833,
           0.657,
           0.536,
           0.5,
           0.443,
           0.4,
           0.393,
           0.371,
           0.369,
           0.341,
           0.333,
           0.317,
           0.286,
           0.282,
           0.267,
           0.25,
           0.231,
           0.227,
           0.192,
           0.187,
           0.186,
           0.157,
           0.156,
           0.156,
           0.147,
           0.12,
           0.115,
           0.1,
           0.086,
           0.075,
           0.067,
           0.062,
           0.057,
           0.057,
           0.054,
           0.05,
           0.038,
           0.036,
           0.036,
           0.036,
           0.036,
           0.033,
           0.033,
           0.027,
           0.02,
           0.015,
           0.015,
           0.014,
           0.014,
           0.014,
           0.014,
           0.013,
           0,
           0,
           0,
           0,
           0,
           0,
           0,
           0,
           0,
           0,
           0,
           0,
           0,
           0,
           0,
           0,
           0,
           0,
           0,
           0,
           0,
           0,
           0,
           0,
           0,
           0,
           0,
           0,
           0,
           0,
           0,
           0,
           0,
           0,
           0,
           0,
           0,
           0,
           0,
           0,
           0,
           0,
           0,
           0,
           0,
           0,
           0,
           0,
           0,
           0,
           0,
           0,
           0,
           0,
           0,
           0
          ],
          "sizemode": "area",
          "sizeref": 0.0009255555555555555,
          "symbol": "circle"
         },
         "mode": "markers",
         "name": "",
         "orientation": "v",
         "showlegend": false,
         "type": "scatter",
         "x": [
          12,
          14,
          14,
          13,
          14,
          14,
          14,
          14,
          13,
          17,
          15,
          12,
          14,
          17,
          15,
          16,
          13,
          15,
          13,
          15,
          14,
          14,
          16,
          16,
          15,
          15,
          13,
          12,
          14,
          16,
          15,
          13,
          14,
          14,
          13,
          16,
          13,
          14,
          14,
          14,
          14,
          15,
          15,
          15,
          15,
          13,
          13,
          14,
          14,
          14,
          14,
          15,
          14,
          13,
          14,
          12,
          14,
          14,
          15,
          13,
          14,
          14,
          14,
          13,
          16,
          12,
          12,
          15,
          16,
          16,
          16,
          16,
          13,
          15,
          15,
          15,
          15,
          12,
          12,
          12,
          12,
          15,
          15,
          14,
          14,
          14,
          14,
          14,
          14,
          14,
          14,
          13,
          13,
          15,
          15,
          15,
          15,
          15,
          14,
          14,
          14,
          14,
          14,
          13,
          13,
          13,
          14,
          14
         ],
         "xaxis": "x",
         "y": [
          10,
          9.2,
          7.5,
          6.5,
          6.2,
          5.6,
          5.5,
          5.2,
          4.8,
          5.8,
          5,
          3.8,
          4,
          4.8,
          4,
          4,
          3,
          3.4,
          2.5,
          2.8,
          2.6,
          2.2,
          2.5,
          2.5,
          2.2,
          1.8,
          1.5,
          1.2,
          1.2,
          1.2,
          1,
          0.8,
          0.8,
          0.8,
          0.7,
          0.8,
          0.5,
          0.5,
          0.5,
          0.5,
          0.5,
          0.5,
          0.5,
          0.4,
          0.3,
          0.2,
          0.2,
          0.2,
          0.2,
          0.2,
          0.2,
          0.2,
          0,
          0,
          0,
          0,
          0,
          0,
          0,
          0,
          0,
          0,
          0,
          0,
          0,
          0,
          0,
          0,
          0,
          0,
          0,
          0,
          0,
          0,
          0,
          0,
          0,
          0,
          0,
          0,
          0,
          0,
          0,
          0,
          0,
          0,
          0,
          0,
          0,
          0,
          0,
          0,
          0,
          0,
          0,
          0,
          0,
          0,
          0,
          0,
          0,
          0,
          0,
          0,
          0,
          0,
          0,
          0
         ],
         "yaxis": "y"
        }
       ],
       "layout": {
        "annotations": [
         {
          "font": {
           "color": "black",
           "size": 30
          },
          "showarrow": false,
          "text": "Buy",
          "x": 12.5,
          "y": 7
         },
         {
          "font": {
           "color": "black",
           "size": 30
          },
          "showarrow": false,
          "text": "Sell",
          "x": 15.5,
          "y": 1
         }
        ],
        "coloraxis": {
         "colorbar": {
          "title": {
           "text": "Fixture_Difficulty_Index"
          }
         },
         "colorscale": [
          [
           0,
           "red"
          ],
          [
           0.2,
           "orange"
          ],
          [
           0.4,
           "yellow"
          ],
          [
           0.9,
           "green"
          ],
          [
           1,
           "darkgreen"
          ]
         ]
        },
        "height": 800,
        "legend": {
         "itemsizing": "constant",
         "tracegroupgap": 0
        },
        "shapes": [
         {
          "fillcolor": "green",
          "layer": "below",
          "line": {
           "width": 0
          },
          "opacity": 0.3,
          "type": "circle",
          "x0": 9,
          "x1": 16,
          "xref": "x",
          "y0": 10,
          "y1": 4,
          "yref": "y"
         },
         {
          "fillcolor": "red",
          "layer": "below",
          "line": {
           "width": 0
          },
          "opacity": 0.3,
          "type": "circle",
          "x0": 11.8,
          "x1": 20,
          "xref": "x",
          "y0": 2,
          "y1": -2.5,
          "yref": "y"
         }
        ],
        "showlegend": false,
        "template": {
         "data": {
          "bar": [
           {
            "error_x": {
             "color": "#2a3f5f"
            },
            "error_y": {
             "color": "#2a3f5f"
            },
            "marker": {
             "line": {
              "color": "#E5ECF6",
              "width": 0.5
             },
             "pattern": {
              "fillmode": "overlay",
              "size": 10,
              "solidity": 0.2
             }
            },
            "type": "bar"
           }
          ],
          "barpolar": [
           {
            "marker": {
             "line": {
              "color": "#E5ECF6",
              "width": 0.5
             },
             "pattern": {
              "fillmode": "overlay",
              "size": 10,
              "solidity": 0.2
             }
            },
            "type": "barpolar"
           }
          ],
          "carpet": [
           {
            "aaxis": {
             "endlinecolor": "#2a3f5f",
             "gridcolor": "white",
             "linecolor": "white",
             "minorgridcolor": "white",
             "startlinecolor": "#2a3f5f"
            },
            "baxis": {
             "endlinecolor": "#2a3f5f",
             "gridcolor": "white",
             "linecolor": "white",
             "minorgridcolor": "white",
             "startlinecolor": "#2a3f5f"
            },
            "type": "carpet"
           }
          ],
          "choropleth": [
           {
            "colorbar": {
             "outlinewidth": 0,
             "ticks": ""
            },
            "type": "choropleth"
           }
          ],
          "contour": [
           {
            "colorbar": {
             "outlinewidth": 0,
             "ticks": ""
            },
            "colorscale": [
             [
              0,
              "#0d0887"
             ],
             [
              0.1111111111111111,
              "#46039f"
             ],
             [
              0.2222222222222222,
              "#7201a8"
             ],
             [
              0.3333333333333333,
              "#9c179e"
             ],
             [
              0.4444444444444444,
              "#bd3786"
             ],
             [
              0.5555555555555556,
              "#d8576b"
             ],
             [
              0.6666666666666666,
              "#ed7953"
             ],
             [
              0.7777777777777778,
              "#fb9f3a"
             ],
             [
              0.8888888888888888,
              "#fdca26"
             ],
             [
              1,
              "#f0f921"
             ]
            ],
            "type": "contour"
           }
          ],
          "contourcarpet": [
           {
            "colorbar": {
             "outlinewidth": 0,
             "ticks": ""
            },
            "type": "contourcarpet"
           }
          ],
          "heatmap": [
           {
            "colorbar": {
             "outlinewidth": 0,
             "ticks": ""
            },
            "colorscale": [
             [
              0,
              "#0d0887"
             ],
             [
              0.1111111111111111,
              "#46039f"
             ],
             [
              0.2222222222222222,
              "#7201a8"
             ],
             [
              0.3333333333333333,
              "#9c179e"
             ],
             [
              0.4444444444444444,
              "#bd3786"
             ],
             [
              0.5555555555555556,
              "#d8576b"
             ],
             [
              0.6666666666666666,
              "#ed7953"
             ],
             [
              0.7777777777777778,
              "#fb9f3a"
             ],
             [
              0.8888888888888888,
              "#fdca26"
             ],
             [
              1,
              "#f0f921"
             ]
            ],
            "type": "heatmap"
           }
          ],
          "heatmapgl": [
           {
            "colorbar": {
             "outlinewidth": 0,
             "ticks": ""
            },
            "colorscale": [
             [
              0,
              "#0d0887"
             ],
             [
              0.1111111111111111,
              "#46039f"
             ],
             [
              0.2222222222222222,
              "#7201a8"
             ],
             [
              0.3333333333333333,
              "#9c179e"
             ],
             [
              0.4444444444444444,
              "#bd3786"
             ],
             [
              0.5555555555555556,
              "#d8576b"
             ],
             [
              0.6666666666666666,
              "#ed7953"
             ],
             [
              0.7777777777777778,
              "#fb9f3a"
             ],
             [
              0.8888888888888888,
              "#fdca26"
             ],
             [
              1,
              "#f0f921"
             ]
            ],
            "type": "heatmapgl"
           }
          ],
          "histogram": [
           {
            "marker": {
             "pattern": {
              "fillmode": "overlay",
              "size": 10,
              "solidity": 0.2
             }
            },
            "type": "histogram"
           }
          ],
          "histogram2d": [
           {
            "colorbar": {
             "outlinewidth": 0,
             "ticks": ""
            },
            "colorscale": [
             [
              0,
              "#0d0887"
             ],
             [
              0.1111111111111111,
              "#46039f"
             ],
             [
              0.2222222222222222,
              "#7201a8"
             ],
             [
              0.3333333333333333,
              "#9c179e"
             ],
             [
              0.4444444444444444,
              "#bd3786"
             ],
             [
              0.5555555555555556,
              "#d8576b"
             ],
             [
              0.6666666666666666,
              "#ed7953"
             ],
             [
              0.7777777777777778,
              "#fb9f3a"
             ],
             [
              0.8888888888888888,
              "#fdca26"
             ],
             [
              1,
              "#f0f921"
             ]
            ],
            "type": "histogram2d"
           }
          ],
          "histogram2dcontour": [
           {
            "colorbar": {
             "outlinewidth": 0,
             "ticks": ""
            },
            "colorscale": [
             [
              0,
              "#0d0887"
             ],
             [
              0.1111111111111111,
              "#46039f"
             ],
             [
              0.2222222222222222,
              "#7201a8"
             ],
             [
              0.3333333333333333,
              "#9c179e"
             ],
             [
              0.4444444444444444,
              "#bd3786"
             ],
             [
              0.5555555555555556,
              "#d8576b"
             ],
             [
              0.6666666666666666,
              "#ed7953"
             ],
             [
              0.7777777777777778,
              "#fb9f3a"
             ],
             [
              0.8888888888888888,
              "#fdca26"
             ],
             [
              1,
              "#f0f921"
             ]
            ],
            "type": "histogram2dcontour"
           }
          ],
          "mesh3d": [
           {
            "colorbar": {
             "outlinewidth": 0,
             "ticks": ""
            },
            "type": "mesh3d"
           }
          ],
          "parcoords": [
           {
            "line": {
             "colorbar": {
              "outlinewidth": 0,
              "ticks": ""
             }
            },
            "type": "parcoords"
           }
          ],
          "pie": [
           {
            "automargin": true,
            "type": "pie"
           }
          ],
          "scatter": [
           {
            "fillpattern": {
             "fillmode": "overlay",
             "size": 10,
             "solidity": 0.2
            },
            "type": "scatter"
           }
          ],
          "scatter3d": [
           {
            "line": {
             "colorbar": {
              "outlinewidth": 0,
              "ticks": ""
             }
            },
            "marker": {
             "colorbar": {
              "outlinewidth": 0,
              "ticks": ""
             }
            },
            "type": "scatter3d"
           }
          ],
          "scattercarpet": [
           {
            "marker": {
             "colorbar": {
              "outlinewidth": 0,
              "ticks": ""
             }
            },
            "type": "scattercarpet"
           }
          ],
          "scattergeo": [
           {
            "marker": {
             "colorbar": {
              "outlinewidth": 0,
              "ticks": ""
             }
            },
            "type": "scattergeo"
           }
          ],
          "scattergl": [
           {
            "marker": {
             "colorbar": {
              "outlinewidth": 0,
              "ticks": ""
             }
            },
            "type": "scattergl"
           }
          ],
          "scattermapbox": [
           {
            "marker": {
             "colorbar": {
              "outlinewidth": 0,
              "ticks": ""
             }
            },
            "type": "scattermapbox"
           }
          ],
          "scatterpolar": [
           {
            "marker": {
             "colorbar": {
              "outlinewidth": 0,
              "ticks": ""
             }
            },
            "type": "scatterpolar"
           }
          ],
          "scatterpolargl": [
           {
            "marker": {
             "colorbar": {
              "outlinewidth": 0,
              "ticks": ""
             }
            },
            "type": "scatterpolargl"
           }
          ],
          "scatterternary": [
           {
            "marker": {
             "colorbar": {
              "outlinewidth": 0,
              "ticks": ""
             }
            },
            "type": "scatterternary"
           }
          ],
          "surface": [
           {
            "colorbar": {
             "outlinewidth": 0,
             "ticks": ""
            },
            "colorscale": [
             [
              0,
              "#0d0887"
             ],
             [
              0.1111111111111111,
              "#46039f"
             ],
             [
              0.2222222222222222,
              "#7201a8"
             ],
             [
              0.3333333333333333,
              "#9c179e"
             ],
             [
              0.4444444444444444,
              "#bd3786"
             ],
             [
              0.5555555555555556,
              "#d8576b"
             ],
             [
              0.6666666666666666,
              "#ed7953"
             ],
             [
              0.7777777777777778,
              "#fb9f3a"
             ],
             [
              0.8888888888888888,
              "#fdca26"
             ],
             [
              1,
              "#f0f921"
             ]
            ],
            "type": "surface"
           }
          ],
          "table": [
           {
            "cells": {
             "fill": {
              "color": "#EBF0F8"
             },
             "line": {
              "color": "white"
             }
            },
            "header": {
             "fill": {
              "color": "#C8D4E3"
             },
             "line": {
              "color": "white"
             }
            },
            "type": "table"
           }
          ]
         },
         "layout": {
          "annotationdefaults": {
           "arrowcolor": "#2a3f5f",
           "arrowhead": 0,
           "arrowwidth": 1
          },
          "autotypenumbers": "strict",
          "coloraxis": {
           "colorbar": {
            "outlinewidth": 0,
            "ticks": ""
           }
          },
          "colorscale": {
           "diverging": [
            [
             0,
             "#8e0152"
            ],
            [
             0.1,
             "#c51b7d"
            ],
            [
             0.2,
             "#de77ae"
            ],
            [
             0.3,
             "#f1b6da"
            ],
            [
             0.4,
             "#fde0ef"
            ],
            [
             0.5,
             "#f7f7f7"
            ],
            [
             0.6,
             "#e6f5d0"
            ],
            [
             0.7,
             "#b8e186"
            ],
            [
             0.8,
             "#7fbc41"
            ],
            [
             0.9,
             "#4d9221"
            ],
            [
             1,
             "#276419"
            ]
           ],
           "sequential": [
            [
             0,
             "#0d0887"
            ],
            [
             0.1111111111111111,
             "#46039f"
            ],
            [
             0.2222222222222222,
             "#7201a8"
            ],
            [
             0.3333333333333333,
             "#9c179e"
            ],
            [
             0.4444444444444444,
             "#bd3786"
            ],
            [
             0.5555555555555556,
             "#d8576b"
            ],
            [
             0.6666666666666666,
             "#ed7953"
            ],
            [
             0.7777777777777778,
             "#fb9f3a"
            ],
            [
             0.8888888888888888,
             "#fdca26"
            ],
            [
             1,
             "#f0f921"
            ]
           ],
           "sequentialminus": [
            [
             0,
             "#0d0887"
            ],
            [
             0.1111111111111111,
             "#46039f"
            ],
            [
             0.2222222222222222,
             "#7201a8"
            ],
            [
             0.3333333333333333,
             "#9c179e"
            ],
            [
             0.4444444444444444,
             "#bd3786"
            ],
            [
             0.5555555555555556,
             "#d8576b"
            ],
            [
             0.6666666666666666,
             "#ed7953"
            ],
            [
             0.7777777777777778,
             "#fb9f3a"
            ],
            [
             0.8888888888888888,
             "#fdca26"
            ],
            [
             1,
             "#f0f921"
            ]
           ]
          },
          "colorway": [
           "#636efa",
           "#EF553B",
           "#00cc96",
           "#ab63fa",
           "#FFA15A",
           "#19d3f3",
           "#FF6692",
           "#B6E880",
           "#FF97FF",
           "#FECB52"
          ],
          "font": {
           "color": "#2a3f5f"
          },
          "geo": {
           "bgcolor": "white",
           "lakecolor": "white",
           "landcolor": "#E5ECF6",
           "showlakes": true,
           "showland": true,
           "subunitcolor": "white"
          },
          "hoverlabel": {
           "align": "left"
          },
          "hovermode": "closest",
          "mapbox": {
           "style": "light"
          },
          "paper_bgcolor": "white",
          "plot_bgcolor": "#E5ECF6",
          "polar": {
           "angularaxis": {
            "gridcolor": "white",
            "linecolor": "white",
            "ticks": ""
           },
           "bgcolor": "#E5ECF6",
           "radialaxis": {
            "gridcolor": "white",
            "linecolor": "white",
            "ticks": ""
           }
          },
          "scene": {
           "xaxis": {
            "backgroundcolor": "#E5ECF6",
            "gridcolor": "white",
            "gridwidth": 2,
            "linecolor": "white",
            "showbackground": true,
            "ticks": "",
            "zerolinecolor": "white"
           },
           "yaxis": {
            "backgroundcolor": "#E5ECF6",
            "gridcolor": "white",
            "gridwidth": 2,
            "linecolor": "white",
            "showbackground": true,
            "ticks": "",
            "zerolinecolor": "white"
           },
           "zaxis": {
            "backgroundcolor": "#E5ECF6",
            "gridcolor": "white",
            "gridwidth": 2,
            "linecolor": "white",
            "showbackground": true,
            "ticks": "",
            "zerolinecolor": "white"
           }
          },
          "shapedefaults": {
           "line": {
            "color": "#2a3f5f"
           }
          },
          "ternary": {
           "aaxis": {
            "gridcolor": "white",
            "linecolor": "white",
            "ticks": ""
           },
           "baxis": {
            "gridcolor": "white",
            "linecolor": "white",
            "ticks": ""
           },
           "bgcolor": "#E5ECF6",
           "caxis": {
            "gridcolor": "white",
            "linecolor": "white",
            "ticks": ""
           }
          },
          "title": {
           "x": 0.05
          },
          "xaxis": {
           "automargin": true,
           "gridcolor": "white",
           "linecolor": "white",
           "ticks": "",
           "title": {
            "standoff": 15
           },
           "zerolinecolor": "white",
           "zerolinewidth": 2
          },
          "yaxis": {
           "automargin": true,
           "gridcolor": "white",
           "linecolor": "white",
           "ticks": "",
           "title": {
            "standoff": 15
           },
           "zerolinecolor": "white",
           "zerolinewidth": 2
          }
         }
        },
        "title": {
         "text": "Current Form vs Difficulty of Upcoming Games for Forwards"
        },
        "xaxis": {
         "anchor": "y",
         "domain": [
          0,
          1
         ],
         "range": [
          11.8,
          16.3
         ],
         "title": {
          "text": "Difficulty Average for Upcoming 5 Games"
         }
        },
        "yaxis": {
         "anchor": "x",
         "domain": [
          0,
          1
         ],
         "range": [
          0,
          8
         ],
         "title": {
          "text": "Current Form/Expected Points"
         }
        }
       }
      }
     },
     "metadata": {},
     "output_type": "display_data"
    }
   ],
   "source": [
    "# Now the same for Forwards\n",
    "sorted_forwards_df.rename(columns={'FD_index': 'Fixture_Difficulty_Index'}, inplace=True)\n",
    "\n",
    "\n",
    "fig = px.scatter(sorted_forwards_df, x='Difficulty_score', y='form_player', color='Fixture_Difficulty_Index', \n",
    "                 size='Fixture_Difficulty_Index',  \n",
    "                 labels={'form_player': 'Current Form/Expected Points', 'Difficulty_score': 'Difficulty Average for Upcoming 5 Games'},\n",
    "                 hover_data=['full_name', 'Fixture_Difficulty_Index', 'name', 'now_cost'], title='Current Form vs Difficulty of Upcoming Games for Forwards',\n",
    "                 size_max=30,  \n",
    "                 color_continuous_scale=[\n",
    "                    (0.0, 'red'),\n",
    "                    (0.2, 'orange'),\n",
    "                    (0.4, 'yellow'),\n",
    "                    (0.9, 'green'),\n",
    "                    (1.0, 'darkgreen') \n",
    "                 ]\n",
    "                )\n",
    "\n",
    "\n",
    "fig.update_layout(\n",
    "    shapes=[\n",
    "        dict(\n",
    "            type='circle',\n",
    "            xref='x',\n",
    "            yref='y',\n",
    "            x0=9,\n",
    "            y0=10,\n",
    "            x1=16,\n",
    "            y1=4,\n",
    "            fillcolor='green',\n",
    "            opacity=0.3,\n",
    "            layer='below',\n",
    "            line=dict(width=0),\n",
    "        ),\n",
    "        dict(\n",
    "            type='circle',\n",
    "            xref='x',\n",
    "            yref='y',\n",
    "            x0=11.8,\n",
    "            y0=2,\n",
    "            x1=20,\n",
    "            y1=-2.5,\n",
    "            fillcolor='red',\n",
    "            opacity=0.3,\n",
    "            layer='below',\n",
    "            line=dict(width=0),\n",
    "        )\n",
    "    ],\n",
    "    annotations=[\n",
    "        dict(\n",
    "            text='Buy', \n",
    "            x=12.5,  \n",
    "            y=7,   \n",
    "            showarrow=False,\n",
    "            font=dict(color='black', size=30),\n",
    "        ),\n",
    "        dict(\n",
    "            text='Sell',\n",
    "            x=15.5,  \n",
    "            y=1,   \n",
    "            showarrow=False,\n",
    "            font=dict(color='black', size=30),\n",
    "        )\n",
    "    ]\n",
    ")\n",
    "\n",
    "\n",
    "fig.update_layout(showlegend=False, height=800)  \n",
    "\n",
    "\n",
    "fig.update_xaxes(range=[11.8, 16.3])\n",
    "fig.update_yaxes(range=[0, 8])\n",
    "\n",
    "fig.show()\n"
   ]
  },
  {
   "cell_type": "code",
   "execution_count": 9,
   "id": "0d9e8b1f-a8ee-4310-8fbb-e73f034c4d12",
   "metadata": {
    "tags": []
   },
   "outputs": [
    {
     "data": {
      "application/vnd.plotly.v1+json": {
       "config": {
        "plotlyServerURL": "https://plot.ly"
       },
       "data": [
        {
         "customdata": [
          [
           "Fabian Schär",
           0.523,
           "Newcastle",
           54
          ],
          [
           "Kieran Trippier",
           0.4,
           "Newcastle",
           69
          ],
          [
           "Conor Bradley",
           0.357,
           "Liverpool",
           41
          ],
          [
           "Lewis Dunk",
           0.325,
           "Brighton",
           50
          ],
          [
           "William Saliba",
           0.325,
           "Arsenal",
           57
          ],
          [
           "Antonee Robinson",
           0.321,
           "Fulham",
           44
          ],
          [
           "Alexandre Moreno Lopera",
           0.317,
           "Aston Villa",
           52
          ],
          [
           "Destiny Udogie",
           0.308,
           "Spurs",
           49
          ],
          [
           "Gabriel dos Santos Magalhães",
           0.3,
           "Arsenal",
           52
          ],
          [
           "Jakub Kiwior",
           0.3,
           "Arsenal",
           43
          ],
          [
           "Diogo Dalot Teixeira",
           0.286,
           "Man Utd",
           52
          ],
          [
           "Benjamin White",
           0.281,
           "Arsenal",
           56
          ],
          [
           "Jarrad Branthwaite",
           0.267,
           "Everton",
           42
          ],
          [
           "Ashley Young",
           0.253,
           "Everton",
           44
          ],
          [
           "Harry Maguire",
           0.25,
           "Man Utd",
           42
          ],
          [
           "Sergio Reguilón",
           0.24,
           "Brentford",
           44
          ],
          [
           "Marcos Senesi",
           0.215,
           "Bournemouth",
           45
          ],
          [
           "Virgil van Dijk",
           0.214,
           "Liverpool",
           64
          ],
          [
           "Nathan Aké",
           0.2,
           "Man City",
           51
          ],
          [
           "Rúben Gato Alves Dias",
           0.188,
           "Man City",
           55
          ],
          [
           "Gabriel Osho",
           0.186,
           "Luton",
           44
          ],
          [
           "Clément Lenglet",
           0.183,
           "Aston Villa",
           45
          ],
          [
           "Max Kilman",
           0.179,
           "Wolves",
           45
          ],
          [
           "Issa Diop",
           0.179,
           "Fulham",
           44
          ],
          [
           "Luke Shaw",
           0.179,
           "Man Utd",
           52
          ],
          [
           "Kyle Walker",
           0.176,
           "Man City",
           55
          ],
          [
           "James Tarkowski",
           0.167,
           "Everton",
           46
          ],
          [
           "Vitalii Mykolenko",
           0.167,
           "Everton",
           46
          ],
          [
           "Murillo Santiago Costa dos Santos",
           0.167,
           "Nott'm Forest",
           45
          ],
          [
           "Thiago Emiliano da Silva",
           0.167,
           "Chelsea",
           50
          ],
          [
           "John Stones",
           0.165,
           "Man City",
           53
          ],
          [
           "Timothy Castagne",
           0.157,
           "Fulham",
           45
          ],
          [
           "Alfie Doughty",
           0.157,
           "Luton",
           46
          ],
          [
           "Dara O'Shea",
           0.154,
           "Burnley",
           44
          ],
          [
           "Joachim Andersen",
           0.15,
           "Crystal Palace",
           47
          ],
          [
           "Diego Carlos Santos Silva",
           0.15,
           "Aston Villa",
           44
          ],
          [
           "Neco Williams",
           0.147,
           "Nott'm Forest",
           43
          ],
          [
           "Mads Roerslev Rasmussen",
           0.147,
           "Brentford",
           44
          ],
          [
           "Nuno Varela Tavares",
           0.147,
           "Nott'm Forest",
           40
          ],
          [
           "Amari'i Bell",
           0.143,
           "Luton",
           39
          ],
          [
           "Manuel Akanji",
           0.141,
           "Man City",
           49
          ],
          [
           "Ameen Al-Dakhil",
           0.138,
           "Burnley",
           38
          ],
          [
           "Jan Paul van Hecke",
           0.138,
           "Brighton",
           41
          ],
          [
           "Nathan Collins",
           0.133,
           "Brentford",
           45
          ],
          [
           "Ben Godfrey",
           0.133,
           "Everton",
           43
          ],
          [
           "Malo Gusto",
           0.133,
           "Chelsea",
           42
          ],
          [
           "Rayan Aït-Nouri",
           0.129,
           "Wolves",
           45
          ],
          [
           "Andrew Robertson",
           0.129,
           "Liverpool",
           64
          ],
          [
           "Tosin Adarabioyo",
           0.129,
           "Fulham",
           43
          ],
          [
           "Oleksandr Zinchenko",
           0.125,
           "Arsenal",
           51
          ],
          [
           "Tariq Lamptey",
           0.125,
           "Brighton",
           39
          ],
          [
           "Ben Mee",
           0.12,
           "Brentford",
           48
          ],
          [
           "Sven Botman",
           0.115,
           "Newcastle",
           45
          ],
          [
           "Joe Gomez",
           0.114,
           "Liverpool",
           46
          ],
          [
           "Reece Burke",
           0.114,
           "Luton",
           40
          ],
          [
           "Ethan Pinnock",
           0.107,
           "Brentford",
           46
          ],
          [
           "Craig Dawson",
           0.107,
           "Wolves",
           45
          ],
          [
           "Raphaël Varane",
           0.107,
           "Man Utd",
           49
          ],
          [
           "Lisandro Martínez",
           0.107,
           "Man Utd",
           47
          ],
          [
           "Felipe Augusto de Almeida Monteiro",
           0.1,
           "Nott'm Forest",
           44
          ],
          [
           "Lorenz Assignon",
           0.1,
           "Burnley",
           40
          ],
          [
           "Cristian Romero",
           0.092,
           "Spurs",
           49
          ],
          [
           "Illia Zabarnyi",
           0.092,
           "Bournemouth",
           44
          ],
          [
           "Micky van de Ven",
           0.092,
           "Spurs",
           44
          ],
          [
           "Lloyd Kelly",
           0.092,
           "Bournemouth",
           45
          ],
          [
           "Adam Smith",
           0.092,
           "Bournemouth",
           44
          ],
          [
           "Trent Alexander-Arnold",
           0.086,
           "Liverpool",
           85
          ],
          [
           "Tim Ream",
           0.086,
           "Fulham",
           45
          ],
          [
           "Toti António Gomes",
           0.086,
           "Wolves",
           44
          ],
          [
           "Max Lowe",
           0.086,
           "Sheffield Utd",
           43
          ],
          [
           "Matty Cash",
           0.083,
           "Aston Villa",
           46
          ],
          [
           "Tyrick Mitchell",
           0.083,
           "Crystal Palace",
           45
          ],
          [
           "Chris Richards",
           0.083,
           "Crystal Palace",
           39
          ],
          [
           "Gonzalo Montiel",
           0.08,
           "Nott'm Forest",
           44
          ],
          [
           "Pedro Porro",
           0.077,
           "Spurs",
           57
          ],
          [
           "Victor da Silva",
           0.077,
           "Burnley",
           44
          ],
          [
           "Tino Livramento",
           0.077,
           "Newcastle",
           41
          ],
          [
           "Maxime Esteve",
           0.077,
           "Burnley",
           40
          ],
          [
           "Emerson Palmieri dos Santos",
           0.071,
           "West Ham",
           45
          ],
          [
           "Kristoffer Ajer",
           0.067,
           "Brentford",
           44
          ],
          [
           "Dan Burn",
           0.062,
           "Newcastle",
           44
          ],
          [
           "Milos Kerkez",
           0.062,
           "Bournemouth",
           44
          ],
          [
           "Kurt Zouma",
           0.057,
           "West Ham",
           45
          ],
          [
           "Matt Doherty",
           0.057,
           "Wolves",
           43
          ],
          [
           "Nélson Cabral Semedo",
           0.057,
           "Wolves",
           45
          ],
          [
           "Ben Johnson",
           0.057,
           "West Ham",
           44
          ],
          [
           "Jonny Evans",
           0.057,
           "Man Utd",
           40
          ],
          [
           "Levi Colwill",
           0.053,
           "Chelsea",
           47
          ],
          [
           "Ben Chilwell",
           0.053,
           "Chelsea",
           54
          ],
          [
           "Andrew Omobamidele",
           0.053,
           "Nott'm Forest",
           45
          ],
          [
           "Joško Gvardiol",
           0.047,
           "Man City",
           48
          ],
          [
           "Jarell Quansah",
           0.043,
           "Liverpool",
           40
          ],
          [
           "Ezri Konsa Ngoyo",
           0.042,
           "Aston Villa",
           45
          ],
          [
           "Pau Torres",
           0.042,
           "Aston Villa",
           46
          ],
          [
           "Joel Ward",
           0.042,
           "Crystal Palace",
           45
          ],
          [
           "Lucas Digne",
           0.042,
           "Aston Villa",
           46
          ],
          [
           "Ben Davies",
           0.038,
           "Spurs",
           43
          ],
          [
           "Emil Krafth",
           0.038,
           "Newcastle",
           44
          ],
          [
           "Radu Dragusin",
           0.038,
           "Spurs",
           43
          ],
          [
           "Anel Ahmedhodžić",
           0.036,
           "Sheffield Utd",
           43
          ],
          [
           "Jayden Bogle",
           0.036,
           "Sheffield Utd",
           45
          ],
          [
           "Konstantinos Mavropanos",
           0.036,
           "West Ham",
           45
          ],
          [
           "Victor Lindelöf",
           0.036,
           "Man Utd",
           45
          ],
          [
           "Yasser Larouci",
           0.036,
           "Sheffield Utd",
           43
          ],
          [
           "Alfie Gilchrist",
           0.033,
           "Chelsea",
           40
          ],
          [
           "Pervis Estupiñán",
           0.031,
           "Brighton",
           50
          ],
          [
           "Igor Julio dos Santos de Paulo",
           0.031,
           "Brighton",
           43
          ],
          [
           "Cédric Alves Soares",
           0.031,
           "Arsenal",
           39
          ],
          [
           "Mathias Jorgensen",
           0.027,
           "Brentford",
           43
          ],
          [
           "Rico Lewis",
           0.024,
           "Man City",
           43
          ],
          [
           "Marc Guéhi",
           0.017,
           "Crystal Palace",
           43
          ],
          [
           "Daniel Muñoz",
           0.017,
           "Crystal Palace",
           45
          ],
          [
           "Hannes Delcroix",
           0.015,
           "Burnley",
           40
          ],
          [
           "Emerson Leite de Souza Junior",
           0.015,
           "Spurs",
           43
          ],
          [
           "Nayef Aguerd",
           0.014,
           "West Ham",
           44
          ],
          [
           "Jack Robinson",
           0.014,
           "Sheffield Utd",
           43
          ],
          [
           "Kenny Tete",
           0.014,
           "Fulham",
           44
          ],
          [
           "Ibrahima Konaté",
           0.014,
           "Liverpool",
           49
          ],
          [
           "Teden Mengi",
           0.014,
           "Luton",
           39
          ],
          [
           "Hugo Bueno López",
           0.014,
           "Wolves",
           44
          ],
          [
           "Calvin Bassey",
           0.014,
           "Fulham",
           44
          ],
          [
           "Vladimír Coufal",
           0.014,
           "West Ham",
           46
          ],
          [
           "Konstantinos Tsimikas",
           0.014,
           "Liverpool",
           45
          ],
          [
           "Aaron Cresswell",
           0.014,
           "West Ham",
           42
          ],
          [
           "Fodé Ballo-Touré",
           0.014,
           "Fulham",
           45
          ],
          [
           "Harry Toffolo",
           0.013,
           "Nott'm Forest",
           44
          ],
          [
           "Moussa Niakhaté",
           0.013,
           "Nott'm Forest",
           45
          ],
          [
           "Nathan Patterson",
           0.013,
           "Everton",
           44
          ],
          [
           "Benoît Badiashile",
           0.013,
           "Chelsea",
           44
          ],
          [
           "Seamus Coleman",
           0.013,
           "Everton",
           44
          ],
          [
           "Trevoh Chalobah",
           0.013,
           "Chelsea",
           43
          ],
          [
           "Adam Webster",
           0.012,
           "Brighton",
           42
          ],
          [
           "Joël Veltman",
           0.012,
           "Brighton",
           43
          ],
          [
           "Sergio Gómez",
           0.012,
           "Man City",
           38
          ],
          [
           "Willy Boly",
           0,
           "Nott'm Forest",
           45
          ],
          [
           "Tom Lockyer",
           0,
           "Luton",
           42
          ],
          [
           "Axel Disasi",
           0,
           "Chelsea",
           49
          ],
          [
           "Marc Cucurella Saseta",
           0,
           "Chelsea",
           48
          ],
          [
           "Jamaal Lascelles",
           0,
           "Newcastle",
           40
          ],
          [
           "Jordan Beyer",
           0,
           "Burnley",
           40
          ],
          [
           "Michael Keane",
           0,
           "Everton",
           43
          ],
          [
           "Luke Thomas",
           0,
           "Sheffield Utd",
           40
          ],
          [
           "Takehiro Tomiyasu",
           0,
           "Arsenal",
           45
          ],
          [
           "Joel Matip",
           0,
           "Liverpool",
           48
          ],
          [
           "Mason Holgate",
           0,
           "Sheffield Utd",
           40
          ],
          [
           "Reece James",
           0,
           "Chelsea",
           53
          ],
          [
           "Auston Trusty",
           0,
           "Sheffield Utd",
           39
          ],
          [
           "Mads Juel Andersen",
           0,
           "Luton",
           39
          ],
          [
           "Issa Kaboré",
           0,
           "Luton",
           40
          ],
          [
           "Scott McKenna",
           0,
           "Nott'm Forest",
           44
          ],
          [
           "Aaron Hickey",
           0,
           "Brentford",
           44
          ],
          [
           "Olu Aina",
           0,
           "Nott'm Forest",
           45
          ],
          [
           "John Egan",
           0,
           "Sheffield Utd",
           43
          ],
          [
           "Serge Aurier",
           0,
           "Nott'm Forest",
           45
          ],
          [
           "Charlie Taylor",
           0,
           "Burnley",
           40
          ],
          [
           "Ivan Perišić",
           0,
           "Spurs",
           47
          ],
          [
           "Ryan Giles",
           0,
           "Luton",
           42
          ],
          [
           "Chris Basham",
           0,
           "Sheffield Utd",
           39
          ],
          [
           "Davinson Sánchez",
           0,
           "Spurs",
           44
          ],
          [
           "Aymeric Laporte",
           0,
           "Man City",
           49
          ],
          [
           "Joe Worrall",
           0,
           "Nott'm Forest",
           43
          ],
          [
           "Chris Mepham",
           0,
           "Bournemouth",
           43
          ],
          [
           "Aaron Wan-Bissaka",
           0,
           "Man Utd",
           44
          ],
          [
           "Rico Henry",
           0,
           "Brentford",
           43
          ],
          [
           "Hjalmar Ekdal",
           0,
           "Burnley",
           39
          ],
          [
           "Nathaniel Clyne",
           0,
           "Crystal Palace",
           44
          ],
          [
           "George Baldock",
           0,
           "Sheffield Utd",
           38
          ],
          [
           "Max Aarons",
           0,
           "Bournemouth",
           44
          ],
          [
           "Lewis Hall",
           0,
           "Newcastle",
           43
          ],
          [
           "Tyrone Mings",
           0,
           "Aston Villa",
           41
          ],
          [
           "Connor Roberts",
           0,
           "Burnley",
           43
          ],
          [
           "Eric Dier",
           0,
           "Spurs",
           42
          ],
          [
           "Jurriën Timber",
           0,
           "Arsenal",
           46
          ],
          [
           "James Hill",
           0,
           "Bournemouth",
           40
          ],
          [
           "Willy Kambwala",
           0,
           "Man Utd",
           39
          ],
          [
           "Matt Targett",
           0,
           "Newcastle",
           42
          ],
          [
           "Kieran Tierney",
           0,
           "Arsenal",
           44
          ],
          [
           "Reuell Walters",
           0,
           "Arsenal",
           40
          ],
          [
           "James Sweet",
           0,
           "Arsenal",
           40
          ],
          [
           "Calum Chambers",
           0,
           "Aston Villa",
           38
          ],
          [
           "Kortney Hause",
           0,
           "Aston Villa",
           39
          ],
          [
           "Kaine Kesler-Hayden",
           0,
           "Aston Villa",
           40
          ],
          [
           "Ryan Fredericks",
           0,
           "Bournemouth",
           43
          ],
          [
           "Ben Greenwood",
           0,
           "Bournemouth",
           40
          ],
          [
           "Max Kinsey-Wellings",
           0,
           "Bournemouth",
           40
          ],
          [
           "Mads Bech Sørensen",
           0,
           "Brentford",
           40
          ],
          [
           "Charlie Goode",
           0,
           "Brentford",
           39
          ],
          [
           "Ji-Soo Kim",
           0,
           "Brentford",
           40
          ],
          [
           "Valintino Adedokun",
           0,
           "Brentford",
           40
          ],
          [
           "Benjamin Fredrick",
           0,
           "Brentford",
           40
          ],
          [
           "Michał Karbownik",
           0,
           "Brighton",
           40
          ],
          [
           "Ben Jackson",
           0,
           "Brighton",
           40
          ],
          [
           "Leigh Kavanagh",
           0,
           "Brighton",
           40
          ],
          [
           "Valentín Barco",
           0,
           "Brighton",
           40
          ],
          [
           "CJ Egan-Riley",
           0,
           "Burnley",
           39
          ],
          [
           "Luke McNally",
           0,
           "Burnley",
           40
          ],
          [
           "Bobby Thomas",
           0,
           "Burnley",
           40
          ],
          [
           "Owen Dodgson",
           0,
           "Burnley",
           40
          ],
          [
           "Ethan Ampadu",
           0,
           "Chelsea",
           40
          ],
          [
           "César Azpilicueta",
           0,
           "Chelsea",
           45
          ],
          [
           "Abdul Rahman Baba",
           0,
           "Chelsea",
           40
          ],
          [
           "Wesley Fofana",
           0,
           "Chelsea",
           44
          ],
          [
           "Malang Sarr",
           0,
           "Chelsea",
           43
          ],
          [
           "Bashir Humphreys",
           0,
           "Chelsea",
           40
          ],
          [
           "Josh Brooking",
           0,
           "Chelsea",
           40
          ],
          [
           "Ishé Samuels-Smith",
           0,
           "Chelsea",
           40
          ],
          [
           "Rob Holding",
           0,
           "Crystal Palace",
           43
          ],
          [
           "Jake O'Brien",
           0,
           "Crystal Palace",
           40
          ],
          [
           "James Tomkins",
           0,
           "Crystal Palace",
           40
          ],
          [
           "Tayo Adaramola",
           0,
           "Crystal Palace",
           40
          ],
          [
           "Elijah Campbell",
           0,
           "Everton",
           40
          ],
          [
           "Terence Kongolo",
           0,
           "Fulham",
           40
          ],
          [
           "Kevin Mbabu",
           0,
           "Fulham",
           40
          ],
          [
           "Luc De Fougerolles",
           0,
           "Fulham",
           39
          ],
          [
           "Devan Tanton",
           0,
           "Fulham",
           40
          ],
          [
           "Nathaniel Phillips",
           0,
           "Liverpool",
           40
          ],
          [
           "Sepp van den Berg",
           0,
           "Liverpool",
           40
          ],
          [
           "Luke Chambers",
           0,
           "Liverpool",
           40
          ],
          [
           "Callum Scanlon",
           0,
           "Liverpool",
           39
          ],
          [
           "Owen Beck",
           0,
           "Liverpool",
           45
          ],
          [
           "Dan Potts",
           0,
           "Luton",
           39
          ],
          [
           "Aidan Francis-Clarke",
           0,
           "Luton",
           40
          ],
          [
           "Joseph Johnson",
           0,
           "Luton",
           40
          ],
          [
           "Daiki Hashioka",
           0,
           "Luton",
           40
          ],
          [
           "João Cancelo",
           0,
           "Man City",
           58
          ],
          [
           "Alex Telles",
           0,
           "Man Utd",
           45
          ],
          [
           "Brandon Williams",
           0,
           "Man Utd",
           40
          ],
          [
           "Eric Bailly",
           0,
           "Man Utd",
           40
          ],
          [
           "Álvaro Fernández Carreras",
           0,
           "Man Utd",
           40
          ],
          [
           "Tyrell Malacia",
           0,
           "Man Utd",
           43
          ],
          [
           "Rhys Bennett",
           0,
           "Man Utd",
           40
          ],
          [
           "Harrison Ashby",
           0,
           "Newcastle",
           40
          ],
          [
           "Jamal Lewis",
           0,
           "Newcastle",
           40
          ],
          [
           "Javier Manquillo Gaitán",
           0,
           "Newcastle",
           40
          ],
          [
           "Kell Watts",
           0,
           "Newcastle",
           40
          ],
          [
           "Paul Dummett",
           0,
           "Newcastle",
           39
          ],
          [
           "Alex Murphy",
           0,
           "Newcastle",
           39
          ],
          [
           "Giulian Biancone",
           0,
           "Nott'm Forest",
           39
          ],
          [
           "Steve Cook",
           0,
           "Nott'm Forest",
           45
          ],
          [
           "Mohamed Dräger",
           0,
           "Nott'm Forest",
           40
          ],
          [
           "Richie Laryea",
           0,
           "Nott'm Forest",
           45
          ],
          [
           "Loïc Mbe Soh",
           0,
           "Nott'm Forest",
           40
          ],
          [
           "Jonathan Panzo",
           0,
           "Nott'm Forest",
           40
          ],
          [
           "Omar Richards",
           0,
           "Nott'm Forest",
           44
          ],
          [
           "Josh Powell",
           0,
           "Nott'm Forest",
           39
          ],
          [
           "Rhys Norrington-Davies",
           0,
           "Sheffield Utd",
           39
          ],
          [
           "Femi Seriki",
           0,
           "Sheffield Utd",
           39
          ],
          [
           "Jili Buyabu",
           0,
           "Sheffield Utd",
           40
          ],
          [
           "Joe Rodon",
           0,
           "Spurs",
           40
          ],
          [
           "Ryan Sessegnon",
           0,
           "Spurs",
           44
          ],
          [
           "Djed Spence",
           0,
           "Spurs",
           40
          ],
          [
           "Japhet Tanganga",
           0,
           "Spurs",
           40
          ],
          [
           "Ashley Phillips",
           0,
           "Spurs",
           40
          ],
          [
           "Alfie Dorrington",
           0,
           "Spurs",
           40
          ],
          [
           "Thilo Kehrer",
           0,
           "West Ham",
           42
          ],
          [
           "Angelo Ogbonna",
           0,
           "West Ham",
           43
          ],
          [
           "Kaelan Casey",
           0,
           "West Ham",
           40
          ],
          [
           "Oliver Scarles",
           0,
           "West Ham",
           40
          ],
          [
           "Bendegúz Bolla",
           0,
           "Wolves",
           40
          ],
          [
           "Ki-Jana Hoever",
           0,
           "Wolves",
           40
          ],
          [
           "Jonathan Castro Otto",
           0,
           "Wolves",
           43
          ],
          [
           "Santiago Bueno",
           0,
           "Wolves",
           45
          ],
          [
           "Justin Hubner",
           0,
           "Wolves",
           40
          ],
          [
           "Yerson Mosquera",
           0,
           "Wolves",
           40
          ]
         ],
         "hovertemplate": "Difficulty Average for Upcoming 5 Games=%{x}<br>Current Form/Expected Points=%{y}<br>Fixture_Difficulty_Index=%{marker.color}<br>full_name=%{customdata[0]}<br>name=%{customdata[2]}<br>now_cost=%{customdata[3]}<extra></extra>",
         "legendgroup": "",
         "marker": {
          "color": [
           0.523,
           0.4,
           0.357,
           0.325,
           0.325,
           0.321,
           0.317,
           0.308,
           0.3,
           0.3,
           0.286,
           0.281,
           0.267,
           0.253,
           0.25,
           0.24,
           0.215,
           0.214,
           0.2,
           0.188,
           0.186,
           0.183,
           0.179,
           0.179,
           0.179,
           0.176,
           0.167,
           0.167,
           0.167,
           0.167,
           0.165,
           0.157,
           0.157,
           0.154,
           0.15,
           0.15,
           0.147,
           0.147,
           0.147,
           0.143,
           0.141,
           0.138,
           0.138,
           0.133,
           0.133,
           0.133,
           0.129,
           0.129,
           0.129,
           0.125,
           0.125,
           0.12,
           0.115,
           0.114,
           0.114,
           0.107,
           0.107,
           0.107,
           0.107,
           0.1,
           0.1,
           0.092,
           0.092,
           0.092,
           0.092,
           0.092,
           0.086,
           0.086,
           0.086,
           0.086,
           0.083,
           0.083,
           0.083,
           0.08,
           0.077,
           0.077,
           0.077,
           0.077,
           0.071,
           0.067,
           0.062,
           0.062,
           0.057,
           0.057,
           0.057,
           0.057,
           0.057,
           0.053,
           0.053,
           0.053,
           0.047,
           0.043,
           0.042,
           0.042,
           0.042,
           0.042,
           0.038,
           0.038,
           0.038,
           0.036,
           0.036,
           0.036,
           0.036,
           0.036,
           0.033,
           0.031,
           0.031,
           0.031,
           0.027,
           0.024,
           0.017,
           0.017,
           0.015,
           0.015,
           0.014,
           0.014,
           0.014,
           0.014,
           0.014,
           0.014,
           0.014,
           0.014,
           0.014,
           0.014,
           0.014,
           0.013,
           0.013,
           0.013,
           0.013,
           0.013,
           0.013,
           0.012,
           0.012,
           0.012,
           0,
           0,
           0,
           0,
           0,
           0,
           0,
           0,
           0,
           0,
           0,
           0,
           0,
           0,
           0,
           0,
           0,
           0,
           0,
           0,
           0,
           0,
           0,
           0,
           0,
           0,
           0,
           0,
           0,
           0,
           0,
           0,
           0,
           0,
           0,
           0,
           0,
           0,
           0,
           0,
           0,
           0,
           0,
           0,
           0,
           0,
           0,
           0,
           0,
           0,
           0,
           0,
           0,
           0,
           0,
           0,
           0,
           0,
           0,
           0,
           0,
           0,
           0,
           0,
           0,
           0,
           0,
           0,
           0,
           0,
           0,
           0,
           0,
           0,
           0,
           0,
           0,
           0,
           0,
           0,
           0,
           0,
           0,
           0,
           0,
           0,
           0,
           0,
           0,
           0,
           0,
           0,
           0,
           0,
           0,
           0,
           0,
           0,
           0,
           0,
           0,
           0,
           0,
           0,
           0,
           0,
           0,
           0,
           0,
           0,
           0,
           0,
           0,
           0,
           0,
           0,
           0,
           0,
           0,
           0,
           0,
           0,
           0,
           0,
           0,
           0,
           0,
           0,
           0,
           0
          ],
          "coloraxis": "coloraxis",
          "size": [
           0.523,
           0.4,
           0.357,
           0.325,
           0.325,
           0.321,
           0.317,
           0.308,
           0.3,
           0.3,
           0.286,
           0.281,
           0.267,
           0.253,
           0.25,
           0.24,
           0.215,
           0.214,
           0.2,
           0.188,
           0.186,
           0.183,
           0.179,
           0.179,
           0.179,
           0.176,
           0.167,
           0.167,
           0.167,
           0.167,
           0.165,
           0.157,
           0.157,
           0.154,
           0.15,
           0.15,
           0.147,
           0.147,
           0.147,
           0.143,
           0.141,
           0.138,
           0.138,
           0.133,
           0.133,
           0.133,
           0.129,
           0.129,
           0.129,
           0.125,
           0.125,
           0.12,
           0.115,
           0.114,
           0.114,
           0.107,
           0.107,
           0.107,
           0.107,
           0.1,
           0.1,
           0.092,
           0.092,
           0.092,
           0.092,
           0.092,
           0.086,
           0.086,
           0.086,
           0.086,
           0.083,
           0.083,
           0.083,
           0.08,
           0.077,
           0.077,
           0.077,
           0.077,
           0.071,
           0.067,
           0.062,
           0.062,
           0.057,
           0.057,
           0.057,
           0.057,
           0.057,
           0.053,
           0.053,
           0.053,
           0.047,
           0.043,
           0.042,
           0.042,
           0.042,
           0.042,
           0.038,
           0.038,
           0.038,
           0.036,
           0.036,
           0.036,
           0.036,
           0.036,
           0.033,
           0.031,
           0.031,
           0.031,
           0.027,
           0.024,
           0.017,
           0.017,
           0.015,
           0.015,
           0.014,
           0.014,
           0.014,
           0.014,
           0.014,
           0.014,
           0.014,
           0.014,
           0.014,
           0.014,
           0.014,
           0.013,
           0.013,
           0.013,
           0.013,
           0.013,
           0.013,
           0.012,
           0.012,
           0.012,
           0,
           0,
           0,
           0,
           0,
           0,
           0,
           0,
           0,
           0,
           0,
           0,
           0,
           0,
           0,
           0,
           0,
           0,
           0,
           0,
           0,
           0,
           0,
           0,
           0,
           0,
           0,
           0,
           0,
           0,
           0,
           0,
           0,
           0,
           0,
           0,
           0,
           0,
           0,
           0,
           0,
           0,
           0,
           0,
           0,
           0,
           0,
           0,
           0,
           0,
           0,
           0,
           0,
           0,
           0,
           0,
           0,
           0,
           0,
           0,
           0,
           0,
           0,
           0,
           0,
           0,
           0,
           0,
           0,
           0,
           0,
           0,
           0,
           0,
           0,
           0,
           0,
           0,
           0,
           0,
           0,
           0,
           0,
           0,
           0,
           0,
           0,
           0,
           0,
           0,
           0,
           0,
           0,
           0,
           0,
           0,
           0,
           0,
           0,
           0,
           0,
           0,
           0,
           0,
           0,
           0,
           0,
           0,
           0,
           0,
           0,
           0,
           0,
           0,
           0,
           0,
           0,
           0,
           0,
           0,
           0,
           0,
           0,
           0,
           0,
           0,
           0,
           0,
           0,
           0
          ],
          "sizemode": "area",
          "sizeref": 0.0005811111111111111,
          "symbol": "circle"
         },
         "mode": "markers",
         "name": "",
         "orientation": "v",
         "showlegend": false,
         "type": "scatter",
         "x": [
          13,
          13,
          14,
          16,
          16,
          14,
          12,
          13,
          16,
          16,
          14,
          16,
          15,
          15,
          14,
          15,
          13,
          14,
          17,
          17,
          14,
          12,
          14,
          14,
          14,
          17,
          15,
          15,
          15,
          15,
          17,
          14,
          14,
          13,
          12,
          12,
          15,
          15,
          15,
          14,
          17,
          13,
          16,
          15,
          15,
          15,
          14,
          14,
          14,
          16,
          16,
          15,
          13,
          14,
          14,
          15,
          14,
          14,
          14,
          15,
          13,
          13,
          13,
          13,
          13,
          13,
          14,
          14,
          14,
          14,
          12,
          12,
          12,
          15,
          13,
          13,
          13,
          13,
          14,
          15,
          13,
          13,
          14,
          14,
          14,
          14,
          14,
          15,
          15,
          15,
          17,
          14,
          12,
          12,
          12,
          12,
          13,
          13,
          13,
          14,
          14,
          14,
          14,
          14,
          15,
          16,
          16,
          16,
          15,
          17,
          12,
          12,
          13,
          13,
          14,
          14,
          14,
          14,
          14,
          14,
          14,
          14,
          14,
          14,
          14,
          15,
          15,
          15,
          15,
          15,
          15,
          16,
          16,
          17,
          15,
          14,
          15,
          15,
          13,
          13,
          15,
          14,
          16,
          14,
          14,
          15,
          14,
          14,
          14,
          15,
          15,
          15,
          14,
          15,
          13,
          13,
          14,
          14,
          13,
          17,
          15,
          13,
          14,
          15,
          13,
          12,
          14,
          13,
          13,
          12,
          13,
          13,
          16,
          13,
          14,
          13,
          16,
          16,
          16,
          12,
          12,
          12,
          13,
          13,
          13,
          15,
          15,
          15,
          15,
          15,
          16,
          16,
          16,
          16,
          13,
          13,
          13,
          13,
          15,
          15,
          15,
          15,
          15,
          15,
          15,
          15,
          12,
          12,
          12,
          12,
          15,
          14,
          14,
          14,
          14,
          14,
          14,
          14,
          14,
          14,
          14,
          14,
          14,
          14,
          17,
          14,
          14,
          14,
          14,
          14,
          14,
          13,
          13,
          13,
          13,
          13,
          13,
          15,
          15,
          15,
          15,
          15,
          15,
          15,
          15,
          14,
          14,
          14,
          13,
          13,
          13,
          13,
          13,
          13,
          14,
          14,
          14,
          14,
          14,
          14,
          14,
          14,
          14,
          14
         ],
         "xaxis": "x",
         "y": [
          6.8,
          5.2,
          5,
          5.2,
          5.2,
          4.5,
          3.8,
          4,
          4.8,
          4.8,
          4,
          4.5,
          4,
          3.8,
          3.5,
          3.6,
          2.8,
          3,
          3.4,
          3.2,
          2.6,
          2.2,
          2.5,
          2.5,
          2.5,
          3,
          2.5,
          2.5,
          2.5,
          2.5,
          2.8,
          2.2,
          2.2,
          2,
          1.8,
          1.8,
          2.2,
          2.2,
          2.2,
          2,
          2.4,
          1.8,
          2.2,
          2,
          2,
          2,
          1.8,
          1.8,
          1.8,
          2,
          2,
          1.8,
          1.5,
          1.6,
          1.6,
          1.6,
          1.5,
          1.5,
          1.5,
          1.5,
          1.3,
          1.2,
          1.2,
          1.2,
          1.2,
          1.2,
          1.2,
          1.2,
          1.2,
          1.2,
          1,
          1,
          1,
          1.2,
          1,
          1,
          1,
          1,
          1,
          1,
          0.8,
          0.8,
          0.8,
          0.8,
          0.8,
          0.8,
          0.8,
          0.8,
          0.8,
          0.8,
          0.8,
          0.6,
          0.5,
          0.5,
          0.5,
          0.5,
          0.5,
          0.5,
          0.5,
          0.5,
          0.5,
          0.5,
          0.5,
          0.5,
          0.5,
          0.5,
          0.5,
          0.5,
          0.4,
          0.4,
          0.2,
          0.2,
          0.2,
          0.2,
          0.2,
          0.2,
          0.2,
          0.2,
          0.2,
          0.2,
          0.2,
          0.2,
          0.2,
          0.2,
          0.2,
          0.2,
          0.2,
          0.2,
          0.2,
          0.2,
          0.2,
          0.2,
          0.2,
          0.2,
          0,
          0,
          0,
          0,
          0,
          0,
          0,
          0,
          0,
          0,
          0,
          0,
          0,
          0,
          0,
          0,
          0,
          0,
          0,
          0,
          0,
          0,
          0,
          0,
          0,
          0,
          0,
          0,
          0,
          0,
          0,
          0,
          0,
          0,
          0,
          0,
          0,
          0,
          0,
          0,
          0,
          0,
          0,
          0,
          0,
          0,
          0,
          0,
          0,
          0,
          0,
          0,
          0,
          0,
          0,
          0,
          0,
          0,
          0,
          0,
          0,
          0,
          0,
          0,
          0,
          0,
          0,
          0,
          0,
          0,
          0,
          0,
          0,
          0,
          0,
          0,
          0,
          0,
          0,
          0,
          0,
          0,
          0,
          0,
          0,
          0,
          0,
          0,
          0,
          0,
          0,
          0,
          0,
          0,
          0,
          0,
          0,
          0,
          0,
          0,
          0,
          0,
          0,
          0,
          0,
          0,
          0,
          0,
          0,
          0,
          0,
          0,
          0,
          0,
          0,
          0,
          0,
          0,
          0,
          0,
          0,
          0,
          0,
          0,
          0,
          0,
          0,
          0,
          0,
          0
         ],
         "yaxis": "y"
        }
       ],
       "layout": {
        "annotations": [
         {
          "font": {
           "color": "black",
           "size": 30
          },
          "showarrow": false,
          "text": "Buy",
          "x": 12.5,
          "y": 7
         },
         {
          "font": {
           "color": "black",
           "size": 30
          },
          "showarrow": false,
          "text": "Sell",
          "x": 15.5,
          "y": 1
         }
        ],
        "coloraxis": {
         "colorbar": {
          "title": {
           "text": "Fixture_Difficulty_Index"
          }
         },
         "colorscale": [
          [
           0,
           "red"
          ],
          [
           0.2,
           "orange"
          ],
          [
           0.4,
           "yellow"
          ],
          [
           0.9,
           "green"
          ],
          [
           1,
           "darkgreen"
          ]
         ]
        },
        "height": 800,
        "legend": {
         "itemsizing": "constant",
         "tracegroupgap": 0
        },
        "shapes": [
         {
          "fillcolor": "green",
          "layer": "below",
          "line": {
           "width": 0
          },
          "opacity": 0.3,
          "type": "circle",
          "x0": 9,
          "x1": 16,
          "xref": "x",
          "y0": 10,
          "y1": 4,
          "yref": "y"
         },
         {
          "fillcolor": "red",
          "layer": "below",
          "line": {
           "width": 0
          },
          "opacity": 0.3,
          "type": "circle",
          "x0": 11.8,
          "x1": 20,
          "xref": "x",
          "y0": 2,
          "y1": -2,
          "yref": "y"
         }
        ],
        "showlegend": false,
        "template": {
         "data": {
          "bar": [
           {
            "error_x": {
             "color": "#2a3f5f"
            },
            "error_y": {
             "color": "#2a3f5f"
            },
            "marker": {
             "line": {
              "color": "#E5ECF6",
              "width": 0.5
             },
             "pattern": {
              "fillmode": "overlay",
              "size": 10,
              "solidity": 0.2
             }
            },
            "type": "bar"
           }
          ],
          "barpolar": [
           {
            "marker": {
             "line": {
              "color": "#E5ECF6",
              "width": 0.5
             },
             "pattern": {
              "fillmode": "overlay",
              "size": 10,
              "solidity": 0.2
             }
            },
            "type": "barpolar"
           }
          ],
          "carpet": [
           {
            "aaxis": {
             "endlinecolor": "#2a3f5f",
             "gridcolor": "white",
             "linecolor": "white",
             "minorgridcolor": "white",
             "startlinecolor": "#2a3f5f"
            },
            "baxis": {
             "endlinecolor": "#2a3f5f",
             "gridcolor": "white",
             "linecolor": "white",
             "minorgridcolor": "white",
             "startlinecolor": "#2a3f5f"
            },
            "type": "carpet"
           }
          ],
          "choropleth": [
           {
            "colorbar": {
             "outlinewidth": 0,
             "ticks": ""
            },
            "type": "choropleth"
           }
          ],
          "contour": [
           {
            "colorbar": {
             "outlinewidth": 0,
             "ticks": ""
            },
            "colorscale": [
             [
              0,
              "#0d0887"
             ],
             [
              0.1111111111111111,
              "#46039f"
             ],
             [
              0.2222222222222222,
              "#7201a8"
             ],
             [
              0.3333333333333333,
              "#9c179e"
             ],
             [
              0.4444444444444444,
              "#bd3786"
             ],
             [
              0.5555555555555556,
              "#d8576b"
             ],
             [
              0.6666666666666666,
              "#ed7953"
             ],
             [
              0.7777777777777778,
              "#fb9f3a"
             ],
             [
              0.8888888888888888,
              "#fdca26"
             ],
             [
              1,
              "#f0f921"
             ]
            ],
            "type": "contour"
           }
          ],
          "contourcarpet": [
           {
            "colorbar": {
             "outlinewidth": 0,
             "ticks": ""
            },
            "type": "contourcarpet"
           }
          ],
          "heatmap": [
           {
            "colorbar": {
             "outlinewidth": 0,
             "ticks": ""
            },
            "colorscale": [
             [
              0,
              "#0d0887"
             ],
             [
              0.1111111111111111,
              "#46039f"
             ],
             [
              0.2222222222222222,
              "#7201a8"
             ],
             [
              0.3333333333333333,
              "#9c179e"
             ],
             [
              0.4444444444444444,
              "#bd3786"
             ],
             [
              0.5555555555555556,
              "#d8576b"
             ],
             [
              0.6666666666666666,
              "#ed7953"
             ],
             [
              0.7777777777777778,
              "#fb9f3a"
             ],
             [
              0.8888888888888888,
              "#fdca26"
             ],
             [
              1,
              "#f0f921"
             ]
            ],
            "type": "heatmap"
           }
          ],
          "heatmapgl": [
           {
            "colorbar": {
             "outlinewidth": 0,
             "ticks": ""
            },
            "colorscale": [
             [
              0,
              "#0d0887"
             ],
             [
              0.1111111111111111,
              "#46039f"
             ],
             [
              0.2222222222222222,
              "#7201a8"
             ],
             [
              0.3333333333333333,
              "#9c179e"
             ],
             [
              0.4444444444444444,
              "#bd3786"
             ],
             [
              0.5555555555555556,
              "#d8576b"
             ],
             [
              0.6666666666666666,
              "#ed7953"
             ],
             [
              0.7777777777777778,
              "#fb9f3a"
             ],
             [
              0.8888888888888888,
              "#fdca26"
             ],
             [
              1,
              "#f0f921"
             ]
            ],
            "type": "heatmapgl"
           }
          ],
          "histogram": [
           {
            "marker": {
             "pattern": {
              "fillmode": "overlay",
              "size": 10,
              "solidity": 0.2
             }
            },
            "type": "histogram"
           }
          ],
          "histogram2d": [
           {
            "colorbar": {
             "outlinewidth": 0,
             "ticks": ""
            },
            "colorscale": [
             [
              0,
              "#0d0887"
             ],
             [
              0.1111111111111111,
              "#46039f"
             ],
             [
              0.2222222222222222,
              "#7201a8"
             ],
             [
              0.3333333333333333,
              "#9c179e"
             ],
             [
              0.4444444444444444,
              "#bd3786"
             ],
             [
              0.5555555555555556,
              "#d8576b"
             ],
             [
              0.6666666666666666,
              "#ed7953"
             ],
             [
              0.7777777777777778,
              "#fb9f3a"
             ],
             [
              0.8888888888888888,
              "#fdca26"
             ],
             [
              1,
              "#f0f921"
             ]
            ],
            "type": "histogram2d"
           }
          ],
          "histogram2dcontour": [
           {
            "colorbar": {
             "outlinewidth": 0,
             "ticks": ""
            },
            "colorscale": [
             [
              0,
              "#0d0887"
             ],
             [
              0.1111111111111111,
              "#46039f"
             ],
             [
              0.2222222222222222,
              "#7201a8"
             ],
             [
              0.3333333333333333,
              "#9c179e"
             ],
             [
              0.4444444444444444,
              "#bd3786"
             ],
             [
              0.5555555555555556,
              "#d8576b"
             ],
             [
              0.6666666666666666,
              "#ed7953"
             ],
             [
              0.7777777777777778,
              "#fb9f3a"
             ],
             [
              0.8888888888888888,
              "#fdca26"
             ],
             [
              1,
              "#f0f921"
             ]
            ],
            "type": "histogram2dcontour"
           }
          ],
          "mesh3d": [
           {
            "colorbar": {
             "outlinewidth": 0,
             "ticks": ""
            },
            "type": "mesh3d"
           }
          ],
          "parcoords": [
           {
            "line": {
             "colorbar": {
              "outlinewidth": 0,
              "ticks": ""
             }
            },
            "type": "parcoords"
           }
          ],
          "pie": [
           {
            "automargin": true,
            "type": "pie"
           }
          ],
          "scatter": [
           {
            "fillpattern": {
             "fillmode": "overlay",
             "size": 10,
             "solidity": 0.2
            },
            "type": "scatter"
           }
          ],
          "scatter3d": [
           {
            "line": {
             "colorbar": {
              "outlinewidth": 0,
              "ticks": ""
             }
            },
            "marker": {
             "colorbar": {
              "outlinewidth": 0,
              "ticks": ""
             }
            },
            "type": "scatter3d"
           }
          ],
          "scattercarpet": [
           {
            "marker": {
             "colorbar": {
              "outlinewidth": 0,
              "ticks": ""
             }
            },
            "type": "scattercarpet"
           }
          ],
          "scattergeo": [
           {
            "marker": {
             "colorbar": {
              "outlinewidth": 0,
              "ticks": ""
             }
            },
            "type": "scattergeo"
           }
          ],
          "scattergl": [
           {
            "marker": {
             "colorbar": {
              "outlinewidth": 0,
              "ticks": ""
             }
            },
            "type": "scattergl"
           }
          ],
          "scattermapbox": [
           {
            "marker": {
             "colorbar": {
              "outlinewidth": 0,
              "ticks": ""
             }
            },
            "type": "scattermapbox"
           }
          ],
          "scatterpolar": [
           {
            "marker": {
             "colorbar": {
              "outlinewidth": 0,
              "ticks": ""
             }
            },
            "type": "scatterpolar"
           }
          ],
          "scatterpolargl": [
           {
            "marker": {
             "colorbar": {
              "outlinewidth": 0,
              "ticks": ""
             }
            },
            "type": "scatterpolargl"
           }
          ],
          "scatterternary": [
           {
            "marker": {
             "colorbar": {
              "outlinewidth": 0,
              "ticks": ""
             }
            },
            "type": "scatterternary"
           }
          ],
          "surface": [
           {
            "colorbar": {
             "outlinewidth": 0,
             "ticks": ""
            },
            "colorscale": [
             [
              0,
              "#0d0887"
             ],
             [
              0.1111111111111111,
              "#46039f"
             ],
             [
              0.2222222222222222,
              "#7201a8"
             ],
             [
              0.3333333333333333,
              "#9c179e"
             ],
             [
              0.4444444444444444,
              "#bd3786"
             ],
             [
              0.5555555555555556,
              "#d8576b"
             ],
             [
              0.6666666666666666,
              "#ed7953"
             ],
             [
              0.7777777777777778,
              "#fb9f3a"
             ],
             [
              0.8888888888888888,
              "#fdca26"
             ],
             [
              1,
              "#f0f921"
             ]
            ],
            "type": "surface"
           }
          ],
          "table": [
           {
            "cells": {
             "fill": {
              "color": "#EBF0F8"
             },
             "line": {
              "color": "white"
             }
            },
            "header": {
             "fill": {
              "color": "#C8D4E3"
             },
             "line": {
              "color": "white"
             }
            },
            "type": "table"
           }
          ]
         },
         "layout": {
          "annotationdefaults": {
           "arrowcolor": "#2a3f5f",
           "arrowhead": 0,
           "arrowwidth": 1
          },
          "autotypenumbers": "strict",
          "coloraxis": {
           "colorbar": {
            "outlinewidth": 0,
            "ticks": ""
           }
          },
          "colorscale": {
           "diverging": [
            [
             0,
             "#8e0152"
            ],
            [
             0.1,
             "#c51b7d"
            ],
            [
             0.2,
             "#de77ae"
            ],
            [
             0.3,
             "#f1b6da"
            ],
            [
             0.4,
             "#fde0ef"
            ],
            [
             0.5,
             "#f7f7f7"
            ],
            [
             0.6,
             "#e6f5d0"
            ],
            [
             0.7,
             "#b8e186"
            ],
            [
             0.8,
             "#7fbc41"
            ],
            [
             0.9,
             "#4d9221"
            ],
            [
             1,
             "#276419"
            ]
           ],
           "sequential": [
            [
             0,
             "#0d0887"
            ],
            [
             0.1111111111111111,
             "#46039f"
            ],
            [
             0.2222222222222222,
             "#7201a8"
            ],
            [
             0.3333333333333333,
             "#9c179e"
            ],
            [
             0.4444444444444444,
             "#bd3786"
            ],
            [
             0.5555555555555556,
             "#d8576b"
            ],
            [
             0.6666666666666666,
             "#ed7953"
            ],
            [
             0.7777777777777778,
             "#fb9f3a"
            ],
            [
             0.8888888888888888,
             "#fdca26"
            ],
            [
             1,
             "#f0f921"
            ]
           ],
           "sequentialminus": [
            [
             0,
             "#0d0887"
            ],
            [
             0.1111111111111111,
             "#46039f"
            ],
            [
             0.2222222222222222,
             "#7201a8"
            ],
            [
             0.3333333333333333,
             "#9c179e"
            ],
            [
             0.4444444444444444,
             "#bd3786"
            ],
            [
             0.5555555555555556,
             "#d8576b"
            ],
            [
             0.6666666666666666,
             "#ed7953"
            ],
            [
             0.7777777777777778,
             "#fb9f3a"
            ],
            [
             0.8888888888888888,
             "#fdca26"
            ],
            [
             1,
             "#f0f921"
            ]
           ]
          },
          "colorway": [
           "#636efa",
           "#EF553B",
           "#00cc96",
           "#ab63fa",
           "#FFA15A",
           "#19d3f3",
           "#FF6692",
           "#B6E880",
           "#FF97FF",
           "#FECB52"
          ],
          "font": {
           "color": "#2a3f5f"
          },
          "geo": {
           "bgcolor": "white",
           "lakecolor": "white",
           "landcolor": "#E5ECF6",
           "showlakes": true,
           "showland": true,
           "subunitcolor": "white"
          },
          "hoverlabel": {
           "align": "left"
          },
          "hovermode": "closest",
          "mapbox": {
           "style": "light"
          },
          "paper_bgcolor": "white",
          "plot_bgcolor": "#E5ECF6",
          "polar": {
           "angularaxis": {
            "gridcolor": "white",
            "linecolor": "white",
            "ticks": ""
           },
           "bgcolor": "#E5ECF6",
           "radialaxis": {
            "gridcolor": "white",
            "linecolor": "white",
            "ticks": ""
           }
          },
          "scene": {
           "xaxis": {
            "backgroundcolor": "#E5ECF6",
            "gridcolor": "white",
            "gridwidth": 2,
            "linecolor": "white",
            "showbackground": true,
            "ticks": "",
            "zerolinecolor": "white"
           },
           "yaxis": {
            "backgroundcolor": "#E5ECF6",
            "gridcolor": "white",
            "gridwidth": 2,
            "linecolor": "white",
            "showbackground": true,
            "ticks": "",
            "zerolinecolor": "white"
           },
           "zaxis": {
            "backgroundcolor": "#E5ECF6",
            "gridcolor": "white",
            "gridwidth": 2,
            "linecolor": "white",
            "showbackground": true,
            "ticks": "",
            "zerolinecolor": "white"
           }
          },
          "shapedefaults": {
           "line": {
            "color": "#2a3f5f"
           }
          },
          "ternary": {
           "aaxis": {
            "gridcolor": "white",
            "linecolor": "white",
            "ticks": ""
           },
           "baxis": {
            "gridcolor": "white",
            "linecolor": "white",
            "ticks": ""
           },
           "bgcolor": "#E5ECF6",
           "caxis": {
            "gridcolor": "white",
            "linecolor": "white",
            "ticks": ""
           }
          },
          "title": {
           "x": 0.05
          },
          "xaxis": {
           "automargin": true,
           "gridcolor": "white",
           "linecolor": "white",
           "ticks": "",
           "title": {
            "standoff": 15
           },
           "zerolinecolor": "white",
           "zerolinewidth": 2
          },
          "yaxis": {
           "automargin": true,
           "gridcolor": "white",
           "linecolor": "white",
           "ticks": "",
           "title": {
            "standoff": 15
           },
           "zerolinecolor": "white",
           "zerolinewidth": 2
          }
         }
        },
        "title": {
         "text": "Current Form vs Difficulty of Upcoming Games for Defenders"
        },
        "xaxis": {
         "anchor": "y",
         "domain": [
          0,
          1
         ],
         "range": [
          11.8,
          16.3
         ],
         "title": {
          "text": "Difficulty Average for Upcoming 5 Games"
         }
        },
        "yaxis": {
         "anchor": "x",
         "domain": [
          0,
          1
         ],
         "range": [
          0,
          7.5
         ],
         "title": {
          "text": "Current Form/Expected Points"
         }
        }
       }
      }
     },
     "metadata": {},
     "output_type": "display_data"
    }
   ],
   "source": [
    "# Now the same for defenders\n",
    "sorted_defenders_df.rename(columns={'FD_index': 'Fixture_Difficulty_Index'}, inplace=True)\n",
    "\n",
    "fig_defenders = px.scatter(sorted_defenders_df, x='Difficulty_score', y='form_player', color='Fixture_Difficulty_Index', \n",
    "                           size='Fixture_Difficulty_Index',  \n",
    "                           labels={'form_player': 'Current Form/Expected Points', 'Difficulty_score': 'Difficulty Average for Upcoming 5 Games'},\n",
    "                           hover_data=['full_name', 'Fixture_Difficulty_Index', 'name', 'now_cost'], title='Current Form vs Difficulty of Upcoming Games for Defenders',\n",
    "                           size_max=30,  \n",
    "                           color_continuous_scale=[\n",
    "                               (0.0, 'red'),\n",
    "                               (0.2, 'orange'),\n",
    "                               (0.4, 'yellow'),\n",
    "                               (0.9, 'green'),\n",
    "                               (1.0, 'darkgreen') \n",
    "                           ]\n",
    "                          )\n",
    "\n",
    "\n",
    "fig_defenders.update_layout(\n",
    "    shapes=[\n",
    "        dict(\n",
    "            type='circle',\n",
    "            xref='x',\n",
    "            yref='y',\n",
    "            x0=9,\n",
    "            y0=10,\n",
    "            x1=16,\n",
    "            y1=4,\n",
    "            fillcolor='green',\n",
    "            opacity=0.3,\n",
    "            layer='below',\n",
    "            line=dict(width=0),\n",
    "        ),\n",
    "        dict(\n",
    "            type='circle',\n",
    "            xref='x',\n",
    "            yref='y',\n",
    "            x0=11.8,\n",
    "            y0=2,\n",
    "            x1=20,\n",
    "            y1=-2,\n",
    "            fillcolor='red',\n",
    "            opacity=0.3,\n",
    "            layer='below',\n",
    "            line=dict(width=0),\n",
    "        )\n",
    "    ],\n",
    "    annotations=[\n",
    "        dict(\n",
    "            text='Buy',\n",
    "            x=12.5,  \n",
    "            y=7,   \n",
    "            showarrow=False,\n",
    "            font=dict(color='black', size=30),\n",
    "        ),\n",
    "        dict(\n",
    "            text='Sell',\n",
    "            x=15.5,  \n",
    "            y=1,   \n",
    "            showarrow=False,\n",
    "            font=dict(color='black', size=30),\n",
    "        )\n",
    "    ]\n",
    ")\n",
    "\n",
    "fig_defenders.update_layout(showlegend=False, height=800)  \n",
    "\n",
    "fig_defenders.update_xaxes(range=[11.8, 16.3])\n",
    "fig_defenders.update_yaxes(range=[0, 7.5])\n",
    "\n",
    "fig_defenders.show()\n"
   ]
  },
  {
   "cell_type": "code",
   "execution_count": 10,
   "id": "8ca5feda-0bc8-4bbb-ba2d-02fc42966e41",
   "metadata": {
    "tags": []
   },
   "outputs": [
    {
     "data": {
      "application/vnd.plotly.v1+json": {
       "config": {
        "plotlyServerURL": "https://plot.ly"
       },
       "data": [
        {
         "customdata": [
          [
           "Mark Flekken",
           0.32,
           "Brentford",
           45
          ],
          [
           "Emiliano Martínez Romero",
           0.292,
           "Aston Villa",
           53
          ],
          [
           "André Onana",
           0.286,
           "Man Utd",
           48
          ],
          [
           "Jordan Pickford",
           0.267,
           "Everton",
           46
          ],
          [
           "David Raya Martin",
           0.25,
           "Arsenal",
           50
          ],
          [
           "Matz Sels",
           0.247,
           "Nott'm Forest",
           45
          ],
          [
           "Ederson Santana de Moraes",
           0.247,
           "Man City",
           55
          ],
          [
           "Bernd Leno",
           0.229,
           "Fulham",
           48
          ],
          [
           "Thomas Kaminski",
           0.2,
           "Luton",
           45
          ],
          [
           "Norberto Murara Neto",
           0.169,
           "Bournemouth",
           46
          ],
          [
           "Guglielmo Vicario",
           0.154,
           "Spurs",
           53
          ],
          [
           "Đorđe Petrović",
           0.147,
           "Chelsea",
           45
          ],
          [
           "James Trafford",
           0.138,
           "Burnley",
           45
          ],
          [
           "Martin Dubravka",
           0.138,
           "Newcastle",
           42
          ],
          [
           "Wes Foderingham",
           0.129,
           "Sheffield Utd",
           45
          ],
          [
           "Alphonse Areola",
           0.129,
           "West Ham",
           42
          ],
          [
           "José Malheiro de Sá",
           0.129,
           "Wolves",
           50
          ],
          [
           "Bart Verbruggen",
           0.125,
           "Brighton",
           44
          ],
          [
           "Caoimhin Kelleher",
           0.114,
           "Liverpool",
           37
          ],
          [
           "Dean Henderson",
           0.067,
           "Crystal Palace",
           44
          ],
          [
           "Sam Johnstone",
           0.067,
           "Crystal Palace",
           44
          ],
          [
           "Alisson Ramses Becker",
           0.057,
           "Liverpool",
           58
          ],
          [
           "Jason Steele",
           0.05,
           "Brighton",
           42
          ],
          [
           "Matt Turner",
           0.013,
           "Nott'm Forest",
           39
          ],
          [
           "Nick Pope",
           0,
           "Newcastle",
           53
          ],
          [
           "Aaron Ramsdale",
           0,
           "Arsenal",
           45
          ],
          [
           "Thomas Strakosha",
           0,
           "Brentford",
           39
          ],
          [
           "Odysseas Vlachodimos",
           0,
           "Nott'm Forest",
           45
          ],
          [
           "Rúnar Alex Rúnarsson",
           0,
           "Arsenal",
           40
          ],
          [
           "Karl Hein",
           0,
           "Arsenal",
           40
          ],
          [
           "Robin Olsen",
           0,
           "Aston Villa",
           39
          ],
          [
           "Viljami Sinisalo",
           0,
           "Aston Villa",
           40
          ],
          [
           "Filip Marschall",
           0,
           "Aston Villa",
           40
          ],
          [
           "Oliwier Zych",
           0,
           "Aston Villa",
           40
          ],
          [
           "Sam Proctor",
           0,
           "Aston Villa",
           40
          ],
          [
           "James Wright",
           0,
           "Aston Villa",
           40
          ],
          [
           "Joe Gauci",
           0,
           "Aston Villa",
           40
          ],
          [
           "Darren Randolph",
           0,
           "Bournemouth",
           40
          ],
          [
           "Mark Travers",
           0,
           "Bournemouth",
           40
          ],
          [
           "Ionuț Radu",
           0,
           "Bournemouth",
           43
          ],
          [
           "Ellery Balcombe",
           0,
           "Brentford",
           39
          ],
          [
           "Matthew Cox",
           0,
           "Brentford",
           40
          ],
          [
           "Vincent Angelini",
           0,
           "Brentford",
           40
          ],
          [
           "Hákon Valdimarsson",
           0,
           "Brentford",
           40
          ],
          [
           "Tom McGill",
           0,
           "Brighton",
           39
          ],
          [
           "Kjell Scherpen",
           0,
           "Brighton",
           40
          ],
          [
           "Denis Franchi",
           0,
           "Burnley",
           39
          ],
          [
           "Arijanet Muric",
           0,
           "Burnley",
           43
          ],
          [
           "Bailey Peacock-Farrell",
           0,
           "Burnley",
           40
          ],
          [
           "Lawrence Vigouroux",
           0,
           "Burnley",
           39
          ],
          [
           "Robert Sánchez",
           0,
           "Chelsea",
           45
          ],
          [
           "Kepa Arrizabalaga",
           0,
           "Chelsea",
           50
          ],
          [
           "Marcus Bettinelli",
           0,
           "Chelsea",
           40
          ],
          [
           "Gabriel Słonina",
           0,
           "Chelsea",
           40
          ],
          [
           "Lucas Bergström",
           0,
           "Chelsea",
           39
          ],
          [
           "Eddie Beach",
           0,
           "Chelsea",
           40
          ],
          [
           "Vicente Guaita",
           0,
           "Crystal Palace",
           44
          ],
          [
           "Remi Matthews",
           0,
           "Crystal Palace",
           39
          ],
          [
           "Joe Whitworth",
           0,
           "Crystal Palace",
           39
          ],
          [
           "João Neves Virgínia",
           0,
           "Everton",
           39
          ],
          [
           "Andy Lonergan",
           0,
           "Everton",
           39
          ],
          [
           "Marek Rodák",
           0,
           "Fulham",
           39
          ],
          [
           "Steven Benda",
           0,
           "Fulham",
           40
          ],
          [
           "Adrián San Miguel del Castillo",
           0,
           "Liverpool",
           39
          ],
          [
           "Marcelo de Araújo Pitaluga Filho",
           0,
           "Liverpool",
           40
          ],
          [
           "Fabian Mrozek",
           0,
           "Liverpool",
           40
          ],
          [
           "Matt Macey",
           0,
           "Luton",
           40
          ],
          [
           "James Shea",
           0,
           "Luton",
           43
          ],
          [
           "Jack Walton",
           0,
           "Luton",
           40
          ],
          [
           "Tim Krul",
           0,
           "Luton",
           44
          ],
          [
           "Scott Carson",
           0,
           "Man City",
           38
          ],
          [
           "Stefan Ortega Moreno",
           0,
           "Man City",
           37
          ],
          [
           "Zack Steffen",
           0,
           "Man City",
           39
          ],
          [
           "Tom Heaton",
           0,
           "Man Utd",
           40
          ],
          [
           "Radek Vítek",
           0,
           "Man Utd",
           40
          ],
          [
           "Altay Bayindir",
           0,
           "Man Utd",
           40
          ],
          [
           "Karl Darlow",
           0,
           "Newcastle",
           40
          ],
          [
           "Mark Gillespie",
           0,
           "Newcastle",
           39
          ],
          [
           "Loris Karius",
           0,
           "Newcastle",
           39
          ],
          [
           "Wayne Hennessey",
           0,
           "Nott'm Forest",
           40
          ],
          [
           "Ethan Horvath",
           0,
           "Nott'm Forest",
           43
          ],
          [
           "George Shelvey",
           0,
           "Nott'm Forest",
           39
          ],
          [
           "Jordan Amissah",
           0,
           "Sheffield Utd",
           39
          ],
          [
           "Adam Davies",
           0,
           "Sheffield Utd",
           40
          ],
          [
           "Ivo Grbic",
           0,
           "Sheffield Utd",
           45
          ],
          [
           "Brandon Austin",
           0,
           "Spurs",
           39
          ],
          [
           "Fraser Forster",
           0,
           "Spurs",
           38
          ],
          [
           "Hugo Lloris",
           0,
           "Spurs",
           47
          ],
          [
           "Alfie Whiteman",
           0,
           "Spurs",
           39
          ],
          [
           "Lukasz Fabianski",
           0,
           "West Ham",
           42
          ],
          [
           "Joseph Anang",
           0,
           "West Ham",
           40
          ],
          [
           "Daniel Bentley",
           0,
           "Wolves",
           39
          ],
          [
           "Tom King",
           0,
           "Wolves",
           39
          ],
          [
           "Matija Šarkić",
           0,
           "Wolves",
           40
          ]
         ],
         "hovertemplate": "Difficulty Average for Upcoming 5 Games=%{x}<br>Current Form/Expected Points=%{y}<br>Fixture_Difficulty_Index=%{marker.color}<br>full_name=%{customdata[0]}<br>name=%{customdata[2]}<br>now_cost=%{customdata[3]}<extra></extra>",
         "legendgroup": "",
         "marker": {
          "color": [
           0.32,
           0.292,
           0.286,
           0.267,
           0.25,
           0.247,
           0.247,
           0.229,
           0.2,
           0.169,
           0.154,
           0.147,
           0.138,
           0.138,
           0.129,
           0.129,
           0.129,
           0.125,
           0.114,
           0.067,
           0.067,
           0.057,
           0.05,
           0.013,
           0,
           0,
           0,
           0,
           0,
           0,
           0,
           0,
           0,
           0,
           0,
           0,
           0,
           0,
           0,
           0,
           0,
           0,
           0,
           0,
           0,
           0,
           0,
           0,
           0,
           0,
           0,
           0,
           0,
           0,
           0,
           0,
           0,
           0,
           0,
           0,
           0,
           0,
           0,
           0,
           0,
           0,
           0,
           0,
           0,
           0,
           0,
           0,
           0,
           0,
           0,
           0,
           0,
           0,
           0,
           0,
           0,
           0,
           0,
           0,
           0,
           0,
           0,
           0,
           0,
           0,
           0,
           0,
           0,
           0
          ],
          "coloraxis": "coloraxis",
          "size": [
           0.32,
           0.292,
           0.286,
           0.267,
           0.25,
           0.247,
           0.247,
           0.229,
           0.2,
           0.169,
           0.154,
           0.147,
           0.138,
           0.138,
           0.129,
           0.129,
           0.129,
           0.125,
           0.114,
           0.067,
           0.067,
           0.057,
           0.05,
           0.013,
           0,
           0,
           0,
           0,
           0,
           0,
           0,
           0,
           0,
           0,
           0,
           0,
           0,
           0,
           0,
           0,
           0,
           0,
           0,
           0,
           0,
           0,
           0,
           0,
           0,
           0,
           0,
           0,
           0,
           0,
           0,
           0,
           0,
           0,
           0,
           0,
           0,
           0,
           0,
           0,
           0,
           0,
           0,
           0,
           0,
           0,
           0,
           0,
           0,
           0,
           0,
           0,
           0,
           0,
           0,
           0,
           0,
           0,
           0,
           0,
           0,
           0,
           0,
           0,
           0,
           0,
           0,
           0,
           0,
           0
          ],
          "sizemode": "area",
          "sizeref": 0.00035555555555555557,
          "symbol": "circle"
         },
         "mode": "markers",
         "name": "",
         "orientation": "v",
         "showlegend": false,
         "type": "scatter",
         "x": [
          15,
          12,
          14,
          15,
          16,
          15,
          17,
          14,
          14,
          13,
          13,
          15,
          13,
          13,
          14,
          14,
          14,
          16,
          14,
          12,
          12,
          14,
          16,
          15,
          13,
          16,
          15,
          15,
          16,
          16,
          12,
          12,
          12,
          12,
          12,
          12,
          12,
          13,
          13,
          13,
          15,
          15,
          15,
          15,
          16,
          16,
          13,
          13,
          13,
          13,
          15,
          15,
          15,
          15,
          15,
          15,
          12,
          12,
          12,
          15,
          15,
          14,
          14,
          14,
          14,
          14,
          14,
          14,
          14,
          14,
          17,
          17,
          17,
          14,
          14,
          14,
          13,
          13,
          13,
          15,
          15,
          15,
          14,
          14,
          14,
          13,
          13,
          13,
          13,
          14,
          14,
          14,
          14,
          14
         ],
         "xaxis": "x",
         "y": [
          4.8,
          3.5,
          4,
          4,
          4,
          3.7,
          4.2,
          3.2,
          2.8,
          2.2,
          2,
          2.2,
          1.8,
          1.8,
          1.8,
          1.8,
          1.8,
          2,
          1.6,
          0.8,
          0.8,
          0.8,
          0.8,
          0.2,
          0,
          0,
          0,
          0,
          0,
          0,
          0,
          0,
          0,
          0,
          0,
          0,
          0,
          0,
          0,
          0,
          0,
          0,
          0,
          0,
          0,
          0,
          0,
          0,
          0,
          0,
          0,
          0,
          0,
          0,
          0,
          0,
          0,
          0,
          0,
          0,
          0,
          0,
          0,
          0,
          0,
          0,
          0,
          0,
          0,
          0,
          0,
          0,
          0,
          0,
          0,
          0,
          0,
          0,
          0,
          0,
          0,
          0,
          0,
          0,
          0,
          0,
          0,
          0,
          0,
          0,
          0,
          0,
          0,
          0
         ],
         "yaxis": "y"
        }
       ],
       "layout": {
        "annotations": [
         {
          "font": {
           "color": "black",
           "size": 30
          },
          "showarrow": false,
          "text": "Buy",
          "x": 12.5,
          "y": 7
         },
         {
          "font": {
           "color": "black",
           "size": 30
          },
          "showarrow": false,
          "text": "Sell",
          "x": 15.5,
          "y": 1
         }
        ],
        "coloraxis": {
         "colorbar": {
          "title": {
           "text": "Fixture_Difficulty_Index"
          }
         },
         "colorscale": [
          [
           0,
           "red"
          ],
          [
           0.2,
           "orange"
          ],
          [
           0.4,
           "yellow"
          ],
          [
           0.9,
           "green"
          ],
          [
           1,
           "darkgreen"
          ]
         ]
        },
        "height": 800,
        "legend": {
         "itemsizing": "constant",
         "tracegroupgap": 0
        },
        "shapes": [
         {
          "fillcolor": "green",
          "layer": "below",
          "line": {
           "width": 0
          },
          "opacity": 0.3,
          "type": "circle",
          "x0": 9,
          "x1": 16,
          "xref": "x",
          "y0": 10,
          "y1": 4,
          "yref": "y"
         },
         {
          "fillcolor": "red",
          "layer": "below",
          "line": {
           "width": 0
          },
          "opacity": 0.3,
          "type": "circle",
          "x0": 11.8,
          "x1": 20,
          "xref": "x",
          "y0": 2,
          "y1": -2.5,
          "yref": "y"
         }
        ],
        "showlegend": false,
        "template": {
         "data": {
          "bar": [
           {
            "error_x": {
             "color": "#2a3f5f"
            },
            "error_y": {
             "color": "#2a3f5f"
            },
            "marker": {
             "line": {
              "color": "#E5ECF6",
              "width": 0.5
             },
             "pattern": {
              "fillmode": "overlay",
              "size": 10,
              "solidity": 0.2
             }
            },
            "type": "bar"
           }
          ],
          "barpolar": [
           {
            "marker": {
             "line": {
              "color": "#E5ECF6",
              "width": 0.5
             },
             "pattern": {
              "fillmode": "overlay",
              "size": 10,
              "solidity": 0.2
             }
            },
            "type": "barpolar"
           }
          ],
          "carpet": [
           {
            "aaxis": {
             "endlinecolor": "#2a3f5f",
             "gridcolor": "white",
             "linecolor": "white",
             "minorgridcolor": "white",
             "startlinecolor": "#2a3f5f"
            },
            "baxis": {
             "endlinecolor": "#2a3f5f",
             "gridcolor": "white",
             "linecolor": "white",
             "minorgridcolor": "white",
             "startlinecolor": "#2a3f5f"
            },
            "type": "carpet"
           }
          ],
          "choropleth": [
           {
            "colorbar": {
             "outlinewidth": 0,
             "ticks": ""
            },
            "type": "choropleth"
           }
          ],
          "contour": [
           {
            "colorbar": {
             "outlinewidth": 0,
             "ticks": ""
            },
            "colorscale": [
             [
              0,
              "#0d0887"
             ],
             [
              0.1111111111111111,
              "#46039f"
             ],
             [
              0.2222222222222222,
              "#7201a8"
             ],
             [
              0.3333333333333333,
              "#9c179e"
             ],
             [
              0.4444444444444444,
              "#bd3786"
             ],
             [
              0.5555555555555556,
              "#d8576b"
             ],
             [
              0.6666666666666666,
              "#ed7953"
             ],
             [
              0.7777777777777778,
              "#fb9f3a"
             ],
             [
              0.8888888888888888,
              "#fdca26"
             ],
             [
              1,
              "#f0f921"
             ]
            ],
            "type": "contour"
           }
          ],
          "contourcarpet": [
           {
            "colorbar": {
             "outlinewidth": 0,
             "ticks": ""
            },
            "type": "contourcarpet"
           }
          ],
          "heatmap": [
           {
            "colorbar": {
             "outlinewidth": 0,
             "ticks": ""
            },
            "colorscale": [
             [
              0,
              "#0d0887"
             ],
             [
              0.1111111111111111,
              "#46039f"
             ],
             [
              0.2222222222222222,
              "#7201a8"
             ],
             [
              0.3333333333333333,
              "#9c179e"
             ],
             [
              0.4444444444444444,
              "#bd3786"
             ],
             [
              0.5555555555555556,
              "#d8576b"
             ],
             [
              0.6666666666666666,
              "#ed7953"
             ],
             [
              0.7777777777777778,
              "#fb9f3a"
             ],
             [
              0.8888888888888888,
              "#fdca26"
             ],
             [
              1,
              "#f0f921"
             ]
            ],
            "type": "heatmap"
           }
          ],
          "heatmapgl": [
           {
            "colorbar": {
             "outlinewidth": 0,
             "ticks": ""
            },
            "colorscale": [
             [
              0,
              "#0d0887"
             ],
             [
              0.1111111111111111,
              "#46039f"
             ],
             [
              0.2222222222222222,
              "#7201a8"
             ],
             [
              0.3333333333333333,
              "#9c179e"
             ],
             [
              0.4444444444444444,
              "#bd3786"
             ],
             [
              0.5555555555555556,
              "#d8576b"
             ],
             [
              0.6666666666666666,
              "#ed7953"
             ],
             [
              0.7777777777777778,
              "#fb9f3a"
             ],
             [
              0.8888888888888888,
              "#fdca26"
             ],
             [
              1,
              "#f0f921"
             ]
            ],
            "type": "heatmapgl"
           }
          ],
          "histogram": [
           {
            "marker": {
             "pattern": {
              "fillmode": "overlay",
              "size": 10,
              "solidity": 0.2
             }
            },
            "type": "histogram"
           }
          ],
          "histogram2d": [
           {
            "colorbar": {
             "outlinewidth": 0,
             "ticks": ""
            },
            "colorscale": [
             [
              0,
              "#0d0887"
             ],
             [
              0.1111111111111111,
              "#46039f"
             ],
             [
              0.2222222222222222,
              "#7201a8"
             ],
             [
              0.3333333333333333,
              "#9c179e"
             ],
             [
              0.4444444444444444,
              "#bd3786"
             ],
             [
              0.5555555555555556,
              "#d8576b"
             ],
             [
              0.6666666666666666,
              "#ed7953"
             ],
             [
              0.7777777777777778,
              "#fb9f3a"
             ],
             [
              0.8888888888888888,
              "#fdca26"
             ],
             [
              1,
              "#f0f921"
             ]
            ],
            "type": "histogram2d"
           }
          ],
          "histogram2dcontour": [
           {
            "colorbar": {
             "outlinewidth": 0,
             "ticks": ""
            },
            "colorscale": [
             [
              0,
              "#0d0887"
             ],
             [
              0.1111111111111111,
              "#46039f"
             ],
             [
              0.2222222222222222,
              "#7201a8"
             ],
             [
              0.3333333333333333,
              "#9c179e"
             ],
             [
              0.4444444444444444,
              "#bd3786"
             ],
             [
              0.5555555555555556,
              "#d8576b"
             ],
             [
              0.6666666666666666,
              "#ed7953"
             ],
             [
              0.7777777777777778,
              "#fb9f3a"
             ],
             [
              0.8888888888888888,
              "#fdca26"
             ],
             [
              1,
              "#f0f921"
             ]
            ],
            "type": "histogram2dcontour"
           }
          ],
          "mesh3d": [
           {
            "colorbar": {
             "outlinewidth": 0,
             "ticks": ""
            },
            "type": "mesh3d"
           }
          ],
          "parcoords": [
           {
            "line": {
             "colorbar": {
              "outlinewidth": 0,
              "ticks": ""
             }
            },
            "type": "parcoords"
           }
          ],
          "pie": [
           {
            "automargin": true,
            "type": "pie"
           }
          ],
          "scatter": [
           {
            "fillpattern": {
             "fillmode": "overlay",
             "size": 10,
             "solidity": 0.2
            },
            "type": "scatter"
           }
          ],
          "scatter3d": [
           {
            "line": {
             "colorbar": {
              "outlinewidth": 0,
              "ticks": ""
             }
            },
            "marker": {
             "colorbar": {
              "outlinewidth": 0,
              "ticks": ""
             }
            },
            "type": "scatter3d"
           }
          ],
          "scattercarpet": [
           {
            "marker": {
             "colorbar": {
              "outlinewidth": 0,
              "ticks": ""
             }
            },
            "type": "scattercarpet"
           }
          ],
          "scattergeo": [
           {
            "marker": {
             "colorbar": {
              "outlinewidth": 0,
              "ticks": ""
             }
            },
            "type": "scattergeo"
           }
          ],
          "scattergl": [
           {
            "marker": {
             "colorbar": {
              "outlinewidth": 0,
              "ticks": ""
             }
            },
            "type": "scattergl"
           }
          ],
          "scattermapbox": [
           {
            "marker": {
             "colorbar": {
              "outlinewidth": 0,
              "ticks": ""
             }
            },
            "type": "scattermapbox"
           }
          ],
          "scatterpolar": [
           {
            "marker": {
             "colorbar": {
              "outlinewidth": 0,
              "ticks": ""
             }
            },
            "type": "scatterpolar"
           }
          ],
          "scatterpolargl": [
           {
            "marker": {
             "colorbar": {
              "outlinewidth": 0,
              "ticks": ""
             }
            },
            "type": "scatterpolargl"
           }
          ],
          "scatterternary": [
           {
            "marker": {
             "colorbar": {
              "outlinewidth": 0,
              "ticks": ""
             }
            },
            "type": "scatterternary"
           }
          ],
          "surface": [
           {
            "colorbar": {
             "outlinewidth": 0,
             "ticks": ""
            },
            "colorscale": [
             [
              0,
              "#0d0887"
             ],
             [
              0.1111111111111111,
              "#46039f"
             ],
             [
              0.2222222222222222,
              "#7201a8"
             ],
             [
              0.3333333333333333,
              "#9c179e"
             ],
             [
              0.4444444444444444,
              "#bd3786"
             ],
             [
              0.5555555555555556,
              "#d8576b"
             ],
             [
              0.6666666666666666,
              "#ed7953"
             ],
             [
              0.7777777777777778,
              "#fb9f3a"
             ],
             [
              0.8888888888888888,
              "#fdca26"
             ],
             [
              1,
              "#f0f921"
             ]
            ],
            "type": "surface"
           }
          ],
          "table": [
           {
            "cells": {
             "fill": {
              "color": "#EBF0F8"
             },
             "line": {
              "color": "white"
             }
            },
            "header": {
             "fill": {
              "color": "#C8D4E3"
             },
             "line": {
              "color": "white"
             }
            },
            "type": "table"
           }
          ]
         },
         "layout": {
          "annotationdefaults": {
           "arrowcolor": "#2a3f5f",
           "arrowhead": 0,
           "arrowwidth": 1
          },
          "autotypenumbers": "strict",
          "coloraxis": {
           "colorbar": {
            "outlinewidth": 0,
            "ticks": ""
           }
          },
          "colorscale": {
           "diverging": [
            [
             0,
             "#8e0152"
            ],
            [
             0.1,
             "#c51b7d"
            ],
            [
             0.2,
             "#de77ae"
            ],
            [
             0.3,
             "#f1b6da"
            ],
            [
             0.4,
             "#fde0ef"
            ],
            [
             0.5,
             "#f7f7f7"
            ],
            [
             0.6,
             "#e6f5d0"
            ],
            [
             0.7,
             "#b8e186"
            ],
            [
             0.8,
             "#7fbc41"
            ],
            [
             0.9,
             "#4d9221"
            ],
            [
             1,
             "#276419"
            ]
           ],
           "sequential": [
            [
             0,
             "#0d0887"
            ],
            [
             0.1111111111111111,
             "#46039f"
            ],
            [
             0.2222222222222222,
             "#7201a8"
            ],
            [
             0.3333333333333333,
             "#9c179e"
            ],
            [
             0.4444444444444444,
             "#bd3786"
            ],
            [
             0.5555555555555556,
             "#d8576b"
            ],
            [
             0.6666666666666666,
             "#ed7953"
            ],
            [
             0.7777777777777778,
             "#fb9f3a"
            ],
            [
             0.8888888888888888,
             "#fdca26"
            ],
            [
             1,
             "#f0f921"
            ]
           ],
           "sequentialminus": [
            [
             0,
             "#0d0887"
            ],
            [
             0.1111111111111111,
             "#46039f"
            ],
            [
             0.2222222222222222,
             "#7201a8"
            ],
            [
             0.3333333333333333,
             "#9c179e"
            ],
            [
             0.4444444444444444,
             "#bd3786"
            ],
            [
             0.5555555555555556,
             "#d8576b"
            ],
            [
             0.6666666666666666,
             "#ed7953"
            ],
            [
             0.7777777777777778,
             "#fb9f3a"
            ],
            [
             0.8888888888888888,
             "#fdca26"
            ],
            [
             1,
             "#f0f921"
            ]
           ]
          },
          "colorway": [
           "#636efa",
           "#EF553B",
           "#00cc96",
           "#ab63fa",
           "#FFA15A",
           "#19d3f3",
           "#FF6692",
           "#B6E880",
           "#FF97FF",
           "#FECB52"
          ],
          "font": {
           "color": "#2a3f5f"
          },
          "geo": {
           "bgcolor": "white",
           "lakecolor": "white",
           "landcolor": "#E5ECF6",
           "showlakes": true,
           "showland": true,
           "subunitcolor": "white"
          },
          "hoverlabel": {
           "align": "left"
          },
          "hovermode": "closest",
          "mapbox": {
           "style": "light"
          },
          "paper_bgcolor": "white",
          "plot_bgcolor": "#E5ECF6",
          "polar": {
           "angularaxis": {
            "gridcolor": "white",
            "linecolor": "white",
            "ticks": ""
           },
           "bgcolor": "#E5ECF6",
           "radialaxis": {
            "gridcolor": "white",
            "linecolor": "white",
            "ticks": ""
           }
          },
          "scene": {
           "xaxis": {
            "backgroundcolor": "#E5ECF6",
            "gridcolor": "white",
            "gridwidth": 2,
            "linecolor": "white",
            "showbackground": true,
            "ticks": "",
            "zerolinecolor": "white"
           },
           "yaxis": {
            "backgroundcolor": "#E5ECF6",
            "gridcolor": "white",
            "gridwidth": 2,
            "linecolor": "white",
            "showbackground": true,
            "ticks": "",
            "zerolinecolor": "white"
           },
           "zaxis": {
            "backgroundcolor": "#E5ECF6",
            "gridcolor": "white",
            "gridwidth": 2,
            "linecolor": "white",
            "showbackground": true,
            "ticks": "",
            "zerolinecolor": "white"
           }
          },
          "shapedefaults": {
           "line": {
            "color": "#2a3f5f"
           }
          },
          "ternary": {
           "aaxis": {
            "gridcolor": "white",
            "linecolor": "white",
            "ticks": ""
           },
           "baxis": {
            "gridcolor": "white",
            "linecolor": "white",
            "ticks": ""
           },
           "bgcolor": "#E5ECF6",
           "caxis": {
            "gridcolor": "white",
            "linecolor": "white",
            "ticks": ""
           }
          },
          "title": {
           "x": 0.05
          },
          "xaxis": {
           "automargin": true,
           "gridcolor": "white",
           "linecolor": "white",
           "ticks": "",
           "title": {
            "standoff": 15
           },
           "zerolinecolor": "white",
           "zerolinewidth": 2
          },
          "yaxis": {
           "automargin": true,
           "gridcolor": "white",
           "linecolor": "white",
           "ticks": "",
           "title": {
            "standoff": 15
           },
           "zerolinecolor": "white",
           "zerolinewidth": 2
          }
         }
        },
        "title": {
         "text": "Current Form vs Difficulty of Upcoming Games for Goalkeepers"
        },
        "xaxis": {
         "anchor": "y",
         "domain": [
          0,
          1
         ],
         "range": [
          11.8,
          16.3
         ],
         "title": {
          "text": "Difficulty Average for Upcoming 5 Games"
         }
        },
        "yaxis": {
         "anchor": "x",
         "domain": [
          0,
          1
         ],
         "range": [
          0,
          7.5
         ],
         "title": {
          "text": "Current Form/Expected Points"
         }
        }
       }
      }
     },
     "metadata": {},
     "output_type": "display_data"
    }
   ],
   "source": [
    "# Now the same for Goalkeepers\n",
    "sorted_goalkeepers_df.rename(columns={'FD_index': 'Fixture_Difficulty_Index'}, inplace=True)\n",
    "\n",
    "fig_goalkeepers = px.scatter(sorted_goalkeepers_df, x='Difficulty_score', y='form_player', color='Fixture_Difficulty_Index', \n",
    "                 size='Fixture_Difficulty_Index',  \n",
    "                 labels={'form_player': 'Current Form/Expected Points', 'Difficulty_score': 'Difficulty Average for Upcoming 5 Games'},\n",
    "                 hover_data=['full_name', 'Fixture_Difficulty_Index', 'name', 'now_cost'], title='Current Form vs Difficulty of Upcoming Games for Goalkeepers',\n",
    "                 size_max=30,  \n",
    "                 color_continuous_scale=[\n",
    "                    (0.0, 'red'),\n",
    "                    (0.2, 'orange'),\n",
    "                    (0.4, 'yellow'),\n",
    "                    (0.9, 'green'),\n",
    "                    (1.0, 'darkgreen') \n",
    "                 ]\n",
    "                )\n",
    "\n",
    "\n",
    "fig_goalkeepers.update_layout(\n",
    "    shapes=[\n",
    "        dict(\n",
    "            type='circle',\n",
    "            xref='x',\n",
    "            yref='y',\n",
    "            x0=9,\n",
    "            y0=10,\n",
    "            x1=16,\n",
    "            y1=4,\n",
    "            fillcolor='green',\n",
    "            opacity=0.3,\n",
    "            layer='below',\n",
    "            line=dict(width=0),\n",
    "        ),\n",
    "        dict(\n",
    "            type='circle',\n",
    "            xref='x',\n",
    "            yref='y',\n",
    "            x0=11.8,\n",
    "            y0=2,\n",
    "            x1=20,\n",
    "            y1=-2.5,\n",
    "            fillcolor='red',\n",
    "            opacity=0.3,\n",
    "            layer='below',\n",
    "            line=dict(width=0),\n",
    "        )\n",
    "    ],\n",
    "    annotations=[\n",
    "        dict(\n",
    "            text='Buy', \n",
    "            x=12.5,  \n",
    "            y=7,   \n",
    "            showarrow=False,\n",
    "            font=dict(color='black', size=30),\n",
    "        ),\n",
    "        dict(\n",
    "            text='Sell',\n",
    "            x=15.5,  \n",
    "            y=1,   \n",
    "            showarrow=False,\n",
    "            font=dict(color='black', size=30),\n",
    "        )\n",
    "    ]\n",
    ")\n",
    "\n",
    "fig_goalkeepers.update_layout(showlegend=False, height=800)  \n",
    "\n",
    " \n",
    "fig_goalkeepers.update_xaxes(range=[11.8, 16.3])\n",
    "fig_goalkeepers.update_yaxes(range=[0, 7.5])\n",
    "\n",
    "fig_goalkeepers.show()\n"
   ]
  }
 ],
 "metadata": {
  "kernelspec": {
   "display_name": "Python 3 (ipykernel)",
   "language": "python",
   "name": "python3"
  },
  "language_info": {
   "codemirror_mode": {
    "name": "ipython",
    "version": 3
   },
   "file_extension": ".py",
   "mimetype": "text/x-python",
   "name": "python",
   "nbconvert_exporter": "python",
   "pygments_lexer": "ipython3",
   "version": "3.11.7"
  }
 },
 "nbformat": 4,
 "nbformat_minor": 5
}
